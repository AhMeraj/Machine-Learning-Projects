{
  "nbformat": 4,
  "nbformat_minor": 0,
  "metadata": {
    "colab": {
      "name": "Thesis.ipynb",
      "provenance": [],
      "collapsed_sections": []
    },
    "kernelspec": {
      "name": "python3",
      "display_name": "Python 3"
    },
    "language_info": {
      "name": "python"
    }
  },
  "cells": [
    {
      "cell_type": "code",
      "metadata": {
        "id": "L2tgLsuBGAIO"
      },
      "source": [
        "from google.colab import files"
      ],
      "execution_count": null,
      "outputs": []
    },
    {
      "cell_type": "code",
      "metadata": {
        "id": "xgmMx_1GGAFY"
      },
      "source": [
        "files.upload()"
      ],
      "execution_count": null,
      "outputs": []
    },
    {
      "cell_type": "code",
      "metadata": {
        "id": "rkGNTa6KGACE"
      },
      "source": [
        "import numpy as np\n",
        "import pandas as pd\n",
        "import matplotlib.pyplot as plt\n",
        "import seaborn as sns\n",
        "from sklearn.linear_model import LogisticRegression\n",
        "from lightgbm import LGBMClassifier\n",
        "from sklearn.tree import DecisionTreeClassifier\n",
        "from sklearn.neighbors import KNeighborsClassifier\n",
        "from sklearn.naive_bayes import GaussianNB,BernoulliNB\n",
        "from sklearn.model_selection import train_test_split,cross_val_score\n",
        "from sklearn.feature_selection import SelectKBest,f_classif\n",
        "from sklearn.ensemble import ExtraTreesClassifier,RandomForestClassifier\n",
        "from sklearn.preprocessing import LabelEncoder,StandardScaler\n",
        "from sklearn.svm import SVC\n",
        "import tensorflow as tf"
      ],
      "execution_count": null,
      "outputs": []
    },
    {
      "cell_type": "code",
      "metadata": {
        "id": "q962j_ywF_-9"
      },
      "source": [
        "df=pd.read_csv('heart.csv')"
      ],
      "execution_count": null,
      "outputs": []
    },
    {
      "cell_type": "code",
      "metadata": {
        "colab": {
          "base_uri": "https://localhost:8080/",
          "height": 424
        },
        "id": "twfbAPZHF_73",
        "outputId": "565435ed-0342-41f1-b0b6-3a59e588047e"
      },
      "source": [
        "df"
      ],
      "execution_count": null,
      "outputs": [
        {
          "output_type": "execute_result",
          "data": {
            "text/html": [
              "<div>\n",
              "<style scoped>\n",
              "    .dataframe tbody tr th:only-of-type {\n",
              "        vertical-align: middle;\n",
              "    }\n",
              "\n",
              "    .dataframe tbody tr th {\n",
              "        vertical-align: top;\n",
              "    }\n",
              "\n",
              "    .dataframe thead th {\n",
              "        text-align: right;\n",
              "    }\n",
              "</style>\n",
              "<table border=\"1\" class=\"dataframe\">\n",
              "  <thead>\n",
              "    <tr style=\"text-align: right;\">\n",
              "      <th></th>\n",
              "      <th>Age</th>\n",
              "      <th>Sex</th>\n",
              "      <th>ChestPainType</th>\n",
              "      <th>RestingBP</th>\n",
              "      <th>Cholesterol</th>\n",
              "      <th>FastingBS</th>\n",
              "      <th>RestingECG</th>\n",
              "      <th>MaxHR</th>\n",
              "      <th>ExerciseAngina</th>\n",
              "      <th>Oldpeak</th>\n",
              "      <th>ST_Slope</th>\n",
              "      <th>HeartDisease</th>\n",
              "    </tr>\n",
              "  </thead>\n",
              "  <tbody>\n",
              "    <tr>\n",
              "      <th>0</th>\n",
              "      <td>40</td>\n",
              "      <td>M</td>\n",
              "      <td>ATA</td>\n",
              "      <td>140</td>\n",
              "      <td>289</td>\n",
              "      <td>0</td>\n",
              "      <td>Normal</td>\n",
              "      <td>172</td>\n",
              "      <td>N</td>\n",
              "      <td>0.0</td>\n",
              "      <td>Up</td>\n",
              "      <td>0</td>\n",
              "    </tr>\n",
              "    <tr>\n",
              "      <th>1</th>\n",
              "      <td>49</td>\n",
              "      <td>F</td>\n",
              "      <td>NAP</td>\n",
              "      <td>160</td>\n",
              "      <td>180</td>\n",
              "      <td>0</td>\n",
              "      <td>Normal</td>\n",
              "      <td>156</td>\n",
              "      <td>N</td>\n",
              "      <td>1.0</td>\n",
              "      <td>Flat</td>\n",
              "      <td>1</td>\n",
              "    </tr>\n",
              "    <tr>\n",
              "      <th>2</th>\n",
              "      <td>37</td>\n",
              "      <td>M</td>\n",
              "      <td>ATA</td>\n",
              "      <td>130</td>\n",
              "      <td>283</td>\n",
              "      <td>0</td>\n",
              "      <td>ST</td>\n",
              "      <td>98</td>\n",
              "      <td>N</td>\n",
              "      <td>0.0</td>\n",
              "      <td>Up</td>\n",
              "      <td>0</td>\n",
              "    </tr>\n",
              "    <tr>\n",
              "      <th>3</th>\n",
              "      <td>48</td>\n",
              "      <td>F</td>\n",
              "      <td>ASY</td>\n",
              "      <td>138</td>\n",
              "      <td>214</td>\n",
              "      <td>0</td>\n",
              "      <td>Normal</td>\n",
              "      <td>108</td>\n",
              "      <td>Y</td>\n",
              "      <td>1.5</td>\n",
              "      <td>Flat</td>\n",
              "      <td>1</td>\n",
              "    </tr>\n",
              "    <tr>\n",
              "      <th>4</th>\n",
              "      <td>54</td>\n",
              "      <td>M</td>\n",
              "      <td>NAP</td>\n",
              "      <td>150</td>\n",
              "      <td>195</td>\n",
              "      <td>0</td>\n",
              "      <td>Normal</td>\n",
              "      <td>122</td>\n",
              "      <td>N</td>\n",
              "      <td>0.0</td>\n",
              "      <td>Up</td>\n",
              "      <td>0</td>\n",
              "    </tr>\n",
              "    <tr>\n",
              "      <th>...</th>\n",
              "      <td>...</td>\n",
              "      <td>...</td>\n",
              "      <td>...</td>\n",
              "      <td>...</td>\n",
              "      <td>...</td>\n",
              "      <td>...</td>\n",
              "      <td>...</td>\n",
              "      <td>...</td>\n",
              "      <td>...</td>\n",
              "      <td>...</td>\n",
              "      <td>...</td>\n",
              "      <td>...</td>\n",
              "    </tr>\n",
              "    <tr>\n",
              "      <th>913</th>\n",
              "      <td>45</td>\n",
              "      <td>M</td>\n",
              "      <td>TA</td>\n",
              "      <td>110</td>\n",
              "      <td>264</td>\n",
              "      <td>0</td>\n",
              "      <td>Normal</td>\n",
              "      <td>132</td>\n",
              "      <td>N</td>\n",
              "      <td>1.2</td>\n",
              "      <td>Flat</td>\n",
              "      <td>1</td>\n",
              "    </tr>\n",
              "    <tr>\n",
              "      <th>914</th>\n",
              "      <td>68</td>\n",
              "      <td>M</td>\n",
              "      <td>ASY</td>\n",
              "      <td>144</td>\n",
              "      <td>193</td>\n",
              "      <td>1</td>\n",
              "      <td>Normal</td>\n",
              "      <td>141</td>\n",
              "      <td>N</td>\n",
              "      <td>3.4</td>\n",
              "      <td>Flat</td>\n",
              "      <td>1</td>\n",
              "    </tr>\n",
              "    <tr>\n",
              "      <th>915</th>\n",
              "      <td>57</td>\n",
              "      <td>M</td>\n",
              "      <td>ASY</td>\n",
              "      <td>130</td>\n",
              "      <td>131</td>\n",
              "      <td>0</td>\n",
              "      <td>Normal</td>\n",
              "      <td>115</td>\n",
              "      <td>Y</td>\n",
              "      <td>1.2</td>\n",
              "      <td>Flat</td>\n",
              "      <td>1</td>\n",
              "    </tr>\n",
              "    <tr>\n",
              "      <th>916</th>\n",
              "      <td>57</td>\n",
              "      <td>F</td>\n",
              "      <td>ATA</td>\n",
              "      <td>130</td>\n",
              "      <td>236</td>\n",
              "      <td>0</td>\n",
              "      <td>LVH</td>\n",
              "      <td>174</td>\n",
              "      <td>N</td>\n",
              "      <td>0.0</td>\n",
              "      <td>Flat</td>\n",
              "      <td>1</td>\n",
              "    </tr>\n",
              "    <tr>\n",
              "      <th>917</th>\n",
              "      <td>38</td>\n",
              "      <td>M</td>\n",
              "      <td>NAP</td>\n",
              "      <td>138</td>\n",
              "      <td>175</td>\n",
              "      <td>0</td>\n",
              "      <td>Normal</td>\n",
              "      <td>173</td>\n",
              "      <td>N</td>\n",
              "      <td>0.0</td>\n",
              "      <td>Up</td>\n",
              "      <td>0</td>\n",
              "    </tr>\n",
              "  </tbody>\n",
              "</table>\n",
              "<p>918 rows × 12 columns</p>\n",
              "</div>"
            ],
            "text/plain": [
              "     Age Sex ChestPainType  ...  Oldpeak  ST_Slope  HeartDisease\n",
              "0     40   M           ATA  ...      0.0        Up             0\n",
              "1     49   F           NAP  ...      1.0      Flat             1\n",
              "2     37   M           ATA  ...      0.0        Up             0\n",
              "3     48   F           ASY  ...      1.5      Flat             1\n",
              "4     54   M           NAP  ...      0.0        Up             0\n",
              "..   ...  ..           ...  ...      ...       ...           ...\n",
              "913   45   M            TA  ...      1.2      Flat             1\n",
              "914   68   M           ASY  ...      3.4      Flat             1\n",
              "915   57   M           ASY  ...      1.2      Flat             1\n",
              "916   57   F           ATA  ...      0.0      Flat             1\n",
              "917   38   M           NAP  ...      0.0        Up             0\n",
              "\n",
              "[918 rows x 12 columns]"
            ]
          },
          "metadata": {},
          "execution_count": 5
        }
      ]
    },
    {
      "cell_type": "code",
      "metadata": {
        "colab": {
          "base_uri": "https://localhost:8080/",
          "height": 248
        },
        "id": "_kcrLk7dIigx",
        "outputId": "57be618c-5404-4b9f-f0e5-20ab3a16f620"
      },
      "source": [
        "plt.pie(list(df['HeartDisease'].value_counts()),labels=[1,0],autopct='%2.1f%%')\n",
        "plt.show()"
      ],
      "execution_count": null,
      "outputs": [
        {
          "output_type": "display_data",
          "data": {
            "image/png": "[encoded data removed]",
            "text/plain": [
              "<Figure size 432x288 with 1 Axes>"
            ]
          },
          "metadata": {}
        }
      ]
    },
    {
      "cell_type": "code",
      "metadata": {
        "colab": {
          "base_uri": "https://localhost:8080/",
          "height": 297
        },
        "id": "0zq23ajoE68c",
        "outputId": "be62f79e-7878-4793-89ec-d550b71c9d11"
      },
      "source": [
        "sns.countplot(x='ChestPainType',hue='HeartDisease',data=df)"
      ],
      "execution_count": null,
      "outputs": [
        {
          "output_type": "execute_result",
          "data": {
            "text/plain": [
              "<matplotlib.axes._subplots.AxesSubplot at 0x7f9651d92d50>"
            ]
          },
          "metadata": {},
          "execution_count": 7
        },
        {
          "output_type": "display_data",
          "data": {
            "image/png": "[encoded data removed]",
            "text/plain": [
              "<Figure size 432x288 with 1 Axes>"
            ]
          },
          "metadata": {
            "needs_background": "light"
          }
        }
      ]
    },
    {
      "cell_type": "code",
      "metadata": {
        "colab": {
          "base_uri": "https://localhost:8080/",
          "height": 297
        },
        "id": "kGvmTIxgslK7",
        "outputId": "a4bb787f-8f69-4e6d-9e6f-22b1ba3a3cc2"
      },
      "source": [
        "sns.countplot(x='Sex',hue='HeartDisease',data=df)"
      ],
      "execution_count": null,
      "outputs": [
        {
          "output_type": "execute_result",
          "data": {
            "text/plain": [
              "<matplotlib.axes._subplots.AxesSubplot at 0x7f9650cd8a10>"
            ]
          },
          "metadata": {},
          "execution_count": 8
        },
        {
          "output_type": "display_data",
          "data": {
            "image/png": "[encoded data removed]",
            "text/plain": [
              "<Figure size 432x288 with 1 Axes>"
            ]
          },
          "metadata": {
            "needs_background": "light"
          }
        }
      ]
    },
    {
      "cell_type": "code",
      "metadata": {
        "colab": {
          "base_uri": "https://localhost:8080/",
          "height": 297
        },
        "id": "yDzVBPf9sk_j",
        "outputId": "23724590-6ee3-40ef-b5df-7eda444aef06"
      },
      "source": [
        "sns.countplot(x='FastingBS',hue='HeartDisease',data=df)"
      ],
      "execution_count": null,
      "outputs": [
        {
          "output_type": "execute_result",
          "data": {
            "text/plain": [
              "<matplotlib.axes._subplots.AxesSubplot at 0x7f9650caa0d0>"
            ]
          },
          "metadata": {},
          "execution_count": 9
        },
        {
          "output_type": "display_data",
          "data": {
            "image/png": "[encoded data removed]",
            "text/plain": [
              "<Figure size 432x288 with 1 Axes>"
            ]
          },
          "metadata": {
            "needs_background": "light"
          }
        }
      ]
    },
    {
      "cell_type": "code",
      "metadata": {
        "colab": {
          "base_uri": "https://localhost:8080/",
          "height": 297
        },
        "id": "GDuXu0Gnsko7",
        "outputId": "31adffcb-4363-4e75-ea25-86b286f2ef7b"
      },
      "source": [
        "sns.countplot(x='RestingECG',hue='HeartDisease',data=df)"
      ],
      "execution_count": null,
      "outputs": [
        {
          "output_type": "execute_result",
          "data": {
            "text/plain": [
              "<matplotlib.axes._subplots.AxesSubplot at 0x7f9650c9e510>"
            ]
          },
          "metadata": {},
          "execution_count": 10
        },
        {
          "output_type": "display_data",
          "data": {
            "image/png": "[encoded data removed]",
            "text/plain": [
              "<Figure size 432x288 with 1 Axes>"
            ]
          },
          "metadata": {
            "needs_background": "light"
          }
        }
      ]
    },
    {
      "cell_type": "code",
      "metadata": {
        "colab": {
          "base_uri": "https://localhost:8080/",
          "height": 302
        },
        "id": "4_bXDuQTsbKi",
        "outputId": "24131ebd-caf0-4434-ce25-38d836c0bc00"
      },
      "source": [
        "sns.countplot(x='ST_Slope',hue='HeartDisease',data=df)"
      ],
      "execution_count": null,
      "outputs": [
        {
          "output_type": "execute_result",
          "data": {
            "text/plain": [
              "<matplotlib.axes._subplots.AxesSubplot at 0x7f9650b9ecd0>"
            ]
          },
          "metadata": {},
          "execution_count": 11
        },
        {
          "output_type": "display_data",
          "data": {
            "image/png": "[encoded data removed]",
            "text/plain": [
              "<Figure size 432x288 with 1 Axes>"
            ]
          },
          "metadata": {
            "needs_background": "light"
          }
        }
      ]
    },
    {
      "cell_type": "code",
      "metadata": {
        "colab": {
          "base_uri": "https://localhost:8080/",
          "height": 297
        },
        "id": "9qZnDynUsx8_",
        "outputId": "f89c3ed3-12c7-47a6-d0a1-19f18fcccccd"
      },
      "source": [
        "sns.countplot(x='ExerciseAngina',hue='HeartDisease',data=df)"
      ],
      "execution_count": null,
      "outputs": [
        {
          "output_type": "execute_result",
          "data": {
            "text/plain": [
              "<matplotlib.axes._subplots.AxesSubplot at 0x7f9650ac6110>"
            ]
          },
          "metadata": {},
          "execution_count": 12
        },
        {
          "output_type": "display_data",
          "data": {
            "image/png": "[encoded data removed]",
            "text/plain": [
              "<Figure size 432x288 with 1 Axes>"
            ]
          },
          "metadata": {
            "needs_background": "light"
          }
        }
      ]
    },
    {
      "cell_type": "code",
      "metadata": {
        "colab": {
          "base_uri": "https://localhost:8080/",
          "height": 297
        },
        "id": "fDNn6miVsx61",
        "outputId": "3ea687fd-aa40-43c6-fa44-51953ce85c65"
      },
      "source": [
        "sns.scatterplot(x='Cholesterol',y='HeartDisease',data=df)"
      ],
      "execution_count": null,
      "outputs": [
        {
          "output_type": "execute_result",
          "data": {
            "text/plain": [
              "<matplotlib.axes._subplots.AxesSubplot at 0x7f9650b0d850>"
            ]
          },
          "metadata": {},
          "execution_count": 13
        },
        {
          "output_type": "display_data",
          "data": {
            "image/png": "[encoded data removed]",
            "text/plain": [
              "<Figure size 432x288 with 1 Axes>"
            ]
          },
          "metadata": {
            "needs_background": "light"
          }
        }
      ]
    },
    {
      "cell_type": "code",
      "metadata": {
        "colab": {
          "base_uri": "https://localhost:8080/",
          "height": 297
        },
        "id": "avyqJnb2tod0",
        "outputId": "65e46d25-53da-4ef9-9841-70ae85ae5554"
      },
      "source": [
        "sns.scatterplot(x='Oldpeak',y='HeartDisease',data=df)"
      ],
      "execution_count": null,
      "outputs": [
        {
          "output_type": "execute_result",
          "data": {
            "text/plain": [
              "<matplotlib.axes._subplots.AxesSubplot at 0x7f9650a55ad0>"
            ]
          },
          "metadata": {},
          "execution_count": 14
        },
        {
          "output_type": "display_data",
          "data": {
            "image/png": "[encoded data removed]",
            "text/plain": [
              "<Figure size 432x288 with 1 Axes>"
            ]
          },
          "metadata": {
            "needs_background": "light"
          }
        }
      ]
    },
    {
      "cell_type": "code",
      "metadata": {
        "colab": {
          "base_uri": "https://localhost:8080/",
          "height": 297
        },
        "id": "l6SBrPattzKW",
        "outputId": "729c1ada-d7ba-4b94-a473-c5f3ae0d451f"
      },
      "source": [
        "sns.scatterplot(x='Age',y='HeartDisease',data=df)"
      ],
      "execution_count": null,
      "outputs": [
        {
          "output_type": "execute_result",
          "data": {
            "text/plain": [
              "<matplotlib.axes._subplots.AxesSubplot at 0x7f96509df990>"
            ]
          },
          "metadata": {},
          "execution_count": 15
        },
        {
          "output_type": "display_data",
          "data": {
            "image/png": "[encoded data removed]",
            "text/plain": [
              "<Figure size 432x288 with 1 Axes>"
            ]
          },
          "metadata": {
            "needs_background": "light"
          }
        }
      ]
    },
    {
      "cell_type": "markdown",
      "metadata": {
        "id": "jXFpaCWn38Qm"
      },
      "source": [
        "**Visalize the data based on over 60 age's people**"
      ]
    },
    {
      "cell_type": "code",
      "metadata": {
        "colab": {
          "base_uri": "https://localhost:8080/"
        },
        "id": "Xf5s--BeJ9JE",
        "outputId": "dc2324ec-c4f5-434a-b779-355c02969aca"
      },
      "source": [
        "df[df['Age']>60].shape"
      ],
      "execution_count": null,
      "outputs": [
        {
          "output_type": "execute_result",
          "data": {
            "text/plain": [
              "(221, 12)"
            ]
          },
          "metadata": {},
          "execution_count": 16
        }
      ]
    },
    {
      "cell_type": "code",
      "metadata": {
        "id": "8w_QzPViIgnc"
      },
      "source": [
        "df60=df[df['Age']>60]"
      ],
      "execution_count": null,
      "outputs": []
    },
    {
      "cell_type": "code",
      "metadata": {
        "colab": {
          "base_uri": "https://localhost:8080/",
          "height": 248
        },
        "id": "1o5uXdPZE611",
        "outputId": "71ff5813-989c-43d1-b336-ef46c9191f34"
      },
      "source": [
        "plt.pie(list(df60['HeartDisease'].value_counts()),labels=[1,0],autopct='%2.1f%%')\n",
        "plt.show()"
      ],
      "execution_count": null,
      "outputs": [
        {
          "output_type": "display_data",
          "data": {
            "image/png": "[encoded data removed]",
            "text/plain": [
              "<Figure size 432x288 with 1 Axes>"
            ]
          },
          "metadata": {}
        }
      ]
    },
    {
      "cell_type": "code",
      "metadata": {
        "colab": {
          "base_uri": "https://localhost:8080/",
          "height": 301
        },
        "id": "rKs1_mknHNxS",
        "outputId": "334c0e23-21ad-483c-8fd3-1e7fb6403df8"
      },
      "source": [
        "sns.countplot(x='ST_Slope',hue='HeartDisease',data=df60)"
      ],
      "execution_count": null,
      "outputs": [
        {
          "output_type": "execute_result",
          "data": {
            "text/plain": [
              "<matplotlib.axes._subplots.AxesSubplot at 0x7f96508c1550>"
            ]
          },
          "metadata": {},
          "execution_count": 19
        },
        {
          "output_type": "display_data",
          "data": {
            "image/png": "[encoded data removed]",
            "text/plain": [
              "<Figure size 432x288 with 1 Axes>"
            ]
          },
          "metadata": {
            "needs_background": "light"
          }
        }
      ]
    },
    {
      "cell_type": "markdown",
      "metadata": {
        "id": "bDwi_xHR1M9G"
      },
      "source": [
        "**Convert the data from string to numeric digit for best fit**"
      ]
    },
    {
      "cell_type": "code",
      "metadata": {
        "id": "LeEt4eHENo0M"
      },
      "source": [
        "Lab=LabelEncoder()\n",
        "for columns in df.columns:\n",
        "  if df[columns].dtype=='object':\n",
        "    df[columns]=Lab.fit_transform(df[columns])"
      ],
      "execution_count": null,
      "outputs": []
    },
    {
      "cell_type": "code",
      "metadata": {
        "colab": {
          "base_uri": "https://localhost:8080/",
          "height": 424
        },
        "id": "Kn604eR3wb5Y",
        "outputId": "5e3de3eb-f306-47cf-86b6-fb451a840c66"
      },
      "source": [
        "df"
      ],
      "execution_count": null,
      "outputs": [
        {
          "output_type": "execute_result",
          "data": {
            "text/html": [
              "<div>\n",
              "<style scoped>\n",
              "    .dataframe tbody tr th:only-of-type {\n",
              "        vertical-align: middle;\n",
              "    }\n",
              "\n",
              "    .dataframe tbody tr th {\n",
              "        vertical-align: top;\n",
              "    }\n",
              "\n",
              "    .dataframe thead th {\n",
              "        text-align: right;\n",
              "    }\n",
              "</style>\n",
              "<table border=\"1\" class=\"dataframe\">\n",
              "  <thead>\n",
              "    <tr style=\"text-align: right;\">\n",
              "      <th></th>\n",
              "      <th>Age</th>\n",
              "      <th>Sex</th>\n",
              "      <th>ChestPainType</th>\n",
              "      <th>RestingBP</th>\n",
              "      <th>Cholesterol</th>\n",
              "      <th>FastingBS</th>\n",
              "      <th>RestingECG</th>\n",
              "      <th>MaxHR</th>\n",
              "      <th>ExerciseAngina</th>\n",
              "      <th>Oldpeak</th>\n",
              "      <th>ST_Slope</th>\n",
              "      <th>HeartDisease</th>\n",
              "    </tr>\n",
              "  </thead>\n",
              "  <tbody>\n",
              "    <tr>\n",
              "      <th>0</th>\n",
              "      <td>40</td>\n",
              "      <td>1</td>\n",
              "      <td>1</td>\n",
              "      <td>140</td>\n",
              "      <td>289</td>\n",
              "      <td>0</td>\n",
              "      <td>1</td>\n",
              "      <td>172</td>\n",
              "      <td>0</td>\n",
              "      <td>0.0</td>\n",
              "      <td>2</td>\n",
              "      <td>0</td>\n",
              "    </tr>\n",
              "    <tr>\n",
              "      <th>1</th>\n",
              "      <td>49</td>\n",
              "      <td>0</td>\n",
              "      <td>2</td>\n",
              "      <td>160</td>\n",
              "      <td>180</td>\n",
              "      <td>0</td>\n",
              "      <td>1</td>\n",
              "      <td>156</td>\n",
              "      <td>0</td>\n",
              "      <td>1.0</td>\n",
              "      <td>1</td>\n",
              "      <td>1</td>\n",
              "    </tr>\n",
              "    <tr>\n",
              "      <th>2</th>\n",
              "      <td>37</td>\n",
              "      <td>1</td>\n",
              "      <td>1</td>\n",
              "      <td>130</td>\n",
              "      <td>283</td>\n",
              "      <td>0</td>\n",
              "      <td>2</td>\n",
              "      <td>98</td>\n",
              "      <td>0</td>\n",
              "      <td>0.0</td>\n",
              "      <td>2</td>\n",
              "      <td>0</td>\n",
              "    </tr>\n",
              "    <tr>\n",
              "      <th>3</th>\n",
              "      <td>48</td>\n",
              "      <td>0</td>\n",
              "      <td>0</td>\n",
              "      <td>138</td>\n",
              "      <td>214</td>\n",
              "      <td>0</td>\n",
              "      <td>1</td>\n",
              "      <td>108</td>\n",
              "      <td>1</td>\n",
              "      <td>1.5</td>\n",
              "      <td>1</td>\n",
              "      <td>1</td>\n",
              "    </tr>\n",
              "    <tr>\n",
              "      <th>4</th>\n",
              "      <td>54</td>\n",
              "      <td>1</td>\n",
              "      <td>2</td>\n",
              "      <td>150</td>\n",
              "      <td>195</td>\n",
              "      <td>0</td>\n",
              "      <td>1</td>\n",
              "      <td>122</td>\n",
              "      <td>0</td>\n",
              "      <td>0.0</td>\n",
              "      <td>2</td>\n",
              "      <td>0</td>\n",
              "    </tr>\n",
              "    <tr>\n",
              "      <th>...</th>\n",
              "      <td>...</td>\n",
              "      <td>...</td>\n",
              "      <td>...</td>\n",
              "      <td>...</td>\n",
              "      <td>...</td>\n",
              "      <td>...</td>\n",
              "      <td>...</td>\n",
              "      <td>...</td>\n",
              "      <td>...</td>\n",
              "      <td>...</td>\n",
              "      <td>...</td>\n",
              "      <td>...</td>\n",
              "    </tr>\n",
              "    <tr>\n",
              "      <th>913</th>\n",
              "      <td>45</td>\n",
              "      <td>1</td>\n",
              "      <td>3</td>\n",
              "      <td>110</td>\n",
              "      <td>264</td>\n",
              "      <td>0</td>\n",
              "      <td>1</td>\n",
              "      <td>132</td>\n",
              "      <td>0</td>\n",
              "      <td>1.2</td>\n",
              "      <td>1</td>\n",
              "      <td>1</td>\n",
              "    </tr>\n",
              "    <tr>\n",
              "      <th>914</th>\n",
              "      <td>68</td>\n",
              "      <td>1</td>\n",
              "      <td>0</td>\n",
              "      <td>144</td>\n",
              "      <td>193</td>\n",
              "      <td>1</td>\n",
              "      <td>1</td>\n",
              "      <td>141</td>\n",
              "      <td>0</td>\n",
              "      <td>3.4</td>\n",
              "      <td>1</td>\n",
              "      <td>1</td>\n",
              "    </tr>\n",
              "    <tr>\n",
              "      <th>915</th>\n",
              "      <td>57</td>\n",
              "      <td>1</td>\n",
              "      <td>0</td>\n",
              "      <td>130</td>\n",
              "      <td>131</td>\n",
              "      <td>0</td>\n",
              "      <td>1</td>\n",
              "      <td>115</td>\n",
              "      <td>1</td>\n",
              "      <td>1.2</td>\n",
              "      <td>1</td>\n",
              "      <td>1</td>\n",
              "    </tr>\n",
              "    <tr>\n",
              "      <th>916</th>\n",
              "      <td>57</td>\n",
              "      <td>0</td>\n",
              "      <td>1</td>\n",
              "      <td>130</td>\n",
              "      <td>236</td>\n",
              "      <td>0</td>\n",
              "      <td>0</td>\n",
              "      <td>174</td>\n",
              "      <td>0</td>\n",
              "      <td>0.0</td>\n",
              "      <td>1</td>\n",
              "      <td>1</td>\n",
              "    </tr>\n",
              "    <tr>\n",
              "      <th>917</th>\n",
              "      <td>38</td>\n",
              "      <td>1</td>\n",
              "      <td>2</td>\n",
              "      <td>138</td>\n",
              "      <td>175</td>\n",
              "      <td>0</td>\n",
              "      <td>1</td>\n",
              "      <td>173</td>\n",
              "      <td>0</td>\n",
              "      <td>0.0</td>\n",
              "      <td>2</td>\n",
              "      <td>0</td>\n",
              "    </tr>\n",
              "  </tbody>\n",
              "</table>\n",
              "<p>918 rows × 12 columns</p>\n",
              "</div>"
            ],
            "text/plain": [
              "     Age  Sex  ChestPainType  ...  Oldpeak  ST_Slope  HeartDisease\n",
              "0     40    1              1  ...      0.0         2             0\n",
              "1     49    0              2  ...      1.0         1             1\n",
              "2     37    1              1  ...      0.0         2             0\n",
              "3     48    0              0  ...      1.5         1             1\n",
              "4     54    1              2  ...      0.0         2             0\n",
              "..   ...  ...            ...  ...      ...       ...           ...\n",
              "913   45    1              3  ...      1.2         1             1\n",
              "914   68    1              0  ...      3.4         1             1\n",
              "915   57    1              0  ...      1.2         1             1\n",
              "916   57    0              1  ...      0.0         1             1\n",
              "917   38    1              2  ...      0.0         2             0\n",
              "\n",
              "[918 rows x 12 columns]"
            ]
          },
          "metadata": {},
          "execution_count": 21
        }
      ]
    },
    {
      "cell_type": "markdown",
      "metadata": {
        "id": "Ps5ZxCIE1Cty"
      },
      "source": [
        "**Distribute the Dependent and Independent Variables**"
      ]
    },
    {
      "cell_type": "code",
      "metadata": {
        "id": "tXEbz8wlOHlV"
      },
      "source": [
        "x=df.drop([\"HeartDisease\"],axis=1)"
      ],
      "execution_count": null,
      "outputs": []
    },
    {
      "cell_type": "code",
      "metadata": {
        "id": "b3_UCzbKOhmZ"
      },
      "source": [
        "y=df['HeartDisease']"
      ],
      "execution_count": null,
      "outputs": []
    },
    {
      "cell_type": "markdown",
      "metadata": {
        "id": "_J0ATfI_0r1F"
      },
      "source": [
        "**Now, I will select those 9 feature whose are giving best score for our labels**"
      ]
    },
    {
      "cell_type": "code",
      "metadata": {
        "id": "U9OENgzfOj_v"
      },
      "source": [
        "Feature=SelectKBest()"
      ],
      "execution_count": null,
      "outputs": []
    },
    {
      "cell_type": "code",
      "metadata": {
        "colab": {
          "base_uri": "https://localhost:8080/"
        },
        "id": "7kWXnEWXOlt8",
        "outputId": "4d3e2276-c719-4993-989b-c4096af36893"
      },
      "source": [
        "Feature.fit(x,y)"
      ],
      "execution_count": null,
      "outputs": [
        {
          "output_type": "execute_result",
          "data": {
            "text/plain": [
              "SelectKBest()"
            ]
          },
          "metadata": {},
          "execution_count": 25
        }
      ]
    },
    {
      "cell_type": "code",
      "metadata": {
        "colab": {
          "base_uri": "https://localhost:8080/",
          "height": 284
        },
        "id": "mcpJD-X-Bzad",
        "outputId": "f98221a5-6647-4a15-e32c-59f8abcf389b"
      },
      "source": [
        "pd.Series(Feature.scores_,index=x.columns).plot(kind='barh')"
      ],
      "execution_count": null,
      "outputs": [
        {
          "output_type": "execute_result",
          "data": {
            "text/plain": [
              "<matplotlib.axes._subplots.AxesSubplot at 0x7f9650809190>"
            ]
          },
          "metadata": {},
          "execution_count": 26
        },
        {
          "output_type": "display_data",
          "data": {
            "image/png": "[encoded data removed]",
            "text/plain": [
              "<Figure size 432x288 with 1 Axes>"
            ]
          },
          "metadata": {
            "needs_background": "light"
          }
        }
      ]
    },
    {
      "cell_type": "code",
      "metadata": {
        "id": "rjlO9Zt-Oypo"
      },
      "source": [
        "topper=list(pd.Series(Feature.scores_,index=x.columns).nlargest(9).keys())"
      ],
      "execution_count": null,
      "outputs": []
    },
    {
      "cell_type": "code",
      "metadata": {
        "id": "oT9g4ETaO2du"
      },
      "source": [
        "x=df[topper]\n",
        "y=df['HeartDisease']"
      ],
      "execution_count": null,
      "outputs": []
    },
    {
      "cell_type": "code",
      "metadata": {
        "id": "UlyhERMiPOGT"
      },
      "source": [
        "Extra=ExtraTreesClassifier(n_estimators=10)"
      ],
      "execution_count": null,
      "outputs": []
    },
    {
      "cell_type": "code",
      "metadata": {
        "colab": {
          "base_uri": "https://localhost:8080/"
        },
        "id": "yov9S-i_PSJ3",
        "outputId": "85039df0-6f2e-4ef0-d45f-0e0587dac078"
      },
      "source": [
        "Extra.fit(x,y)"
      ],
      "execution_count": null,
      "outputs": [
        {
          "output_type": "execute_result",
          "data": {
            "text/plain": [
              "ExtraTreesClassifier(n_estimators=10)"
            ]
          },
          "metadata": {},
          "execution_count": 30
        }
      ]
    },
    {
      "cell_type": "code",
      "metadata": {
        "colab": {
          "base_uri": "https://localhost:8080/",
          "height": 284
        },
        "id": "GyEBt0IbPTcx",
        "outputId": "5473d424-bc54-4003-978f-e774636c1b82"
      },
      "source": [
        "pd.Series(Extra.feature_importances_,index=x.columns).plot(kind='barh')"
      ],
      "execution_count": null,
      "outputs": [
        {
          "output_type": "execute_result",
          "data": {
            "text/plain": [
              "<matplotlib.axes._subplots.AxesSubplot at 0x7f9650784990>"
            ]
          },
          "metadata": {},
          "execution_count": 31
        },
        {
          "output_type": "display_data",
          "data": {
            "image/png": "[encoded data removed]",
            "text/plain": [
              "<Figure size 432x288 with 1 Axes>"
            ]
          },
          "metadata": {
            "needs_background": "light"
          }
        }
      ]
    },
    {
      "cell_type": "markdown",
      "metadata": {
        "id": "SYqogjp4uZkS"
      },
      "source": [
        "**Scaling all features With Standard Scaler**"
      ]
    },
    {
      "cell_type": "code",
      "metadata": {
        "id": "a6TpSNIBPXWX"
      },
      "source": [
        "Scaler=StandardScaler()\n",
        "Sx=Scaler.fit_transform(x)"
      ],
      "execution_count": null,
      "outputs": []
    },
    {
      "cell_type": "markdown",
      "metadata": {
        "id": "hC3F8uzruqO4"
      },
      "source": [
        "**Distribute train and test data:**\n",
        "Train_data=90%\n",
        "Test_data=10%"
      ]
    },
    {
      "cell_type": "code",
      "metadata": {
        "id": "me7YfyrNr4Tx"
      },
      "source": [
        "xtrain,xtest,ytrain,ytest=train_test_split(Sx,y,test_size=0.10,random_state=1)"
      ],
      "execution_count": null,
      "outputs": []
    },
    {
      "cell_type": "markdown",
      "metadata": {
        "id": "C0MYlMEMt8x2"
      },
      "source": [
        "**Ensemble Technique for ML Algorithms**"
      ]
    },
    {
      "cell_type": "code",
      "metadata": {
        "id": "foK1-fClr4PO",
        "colab": {
          "base_uri": "https://localhost:8080/",
          "height": 300
        },
        "outputId": "38f6e5e4-023c-45c4-e747-7562b11116ac"
      },
      "source": [
        "Forest=RandomForestClassifier(n_estimators=10)\n",
        "Tree=DecisionTreeClassifier()\n",
        "KNN=KNeighborsClassifier(n_neighbors=45)\n",
        "Logi=LogisticRegression()\n",
        "Support=SVC()\n",
        "GNB=GaussianNB()\n",
        "LGBM=LGBMClassifier()\n",
        "BNB=BernoulliNB()\n",
        "Algo=[Forest,Tree,KNN,Logi,Support,GNB,BNB,LGBM]\n",
        "Algo_name=[\"RFC\",\"DTC\",\"KNN\",\"LR\",\"SVM\",\"GNB\",\"BNB\",\"LGBM\"]\n",
        "Scores=[]\n",
        "Average=[]\n",
        "for i in Algo:\n",
        "  cv_score=cross_val_score(i,Sx,y,cv=10)\n",
        "  Scores.append(cv_score)\n",
        "  Average.append(cv_score.mean())\n",
        "Algo_name=pd.DataFrame(Algo_name,columns=['Algorithm name'])\n",
        "Scores=pd.DataFrame(Scores)\n",
        "Average=pd.DataFrame(Average,columns=['Average'])\n",
        "Table=pd.concat([Algo_name,Scores],axis=1)\n",
        "Table=pd.concat([Table,Average],axis=1)\n",
        "Table"
      ],
      "execution_count": null,
      "outputs": [
        {
          "output_type": "execute_result",
          "data": {
            "text/html": [
              "<div>\n",
              "<style scoped>\n",
              "    .dataframe tbody tr th:only-of-type {\n",
              "        vertical-align: middle;\n",
              "    }\n",
              "\n",
              "    .dataframe tbody tr th {\n",
              "        vertical-align: top;\n",
              "    }\n",
              "\n",
              "    .dataframe thead th {\n",
              "        text-align: right;\n",
              "    }\n",
              "</style>\n",
              "<table border=\"1\" class=\"dataframe\">\n",
              "  <thead>\n",
              "    <tr style=\"text-align: right;\">\n",
              "      <th></th>\n",
              "      <th>Algorithm name</th>\n",
              "      <th>0</th>\n",
              "      <th>1</th>\n",
              "      <th>2</th>\n",
              "      <th>3</th>\n",
              "      <th>4</th>\n",
              "      <th>5</th>\n",
              "      <th>6</th>\n",
              "      <th>7</th>\n",
              "      <th>8</th>\n",
              "      <th>9</th>\n",
              "      <th>Average</th>\n",
              "    </tr>\n",
              "  </thead>\n",
              "  <tbody>\n",
              "    <tr>\n",
              "      <th>0</th>\n",
              "      <td>RFC</td>\n",
              "      <td>0.858696</td>\n",
              "      <td>0.902174</td>\n",
              "      <td>0.804348</td>\n",
              "      <td>0.869565</td>\n",
              "      <td>0.836957</td>\n",
              "      <td>0.858696</td>\n",
              "      <td>0.923913</td>\n",
              "      <td>0.750000</td>\n",
              "      <td>0.714286</td>\n",
              "      <td>0.725275</td>\n",
              "      <td>0.824391</td>\n",
              "    </tr>\n",
              "    <tr>\n",
              "      <th>1</th>\n",
              "      <td>DTC</td>\n",
              "      <td>0.750000</td>\n",
              "      <td>0.869565</td>\n",
              "      <td>0.815217</td>\n",
              "      <td>0.804348</td>\n",
              "      <td>0.826087</td>\n",
              "      <td>0.815217</td>\n",
              "      <td>0.826087</td>\n",
              "      <td>0.684783</td>\n",
              "      <td>0.769231</td>\n",
              "      <td>0.736264</td>\n",
              "      <td>0.789680</td>\n",
              "    </tr>\n",
              "    <tr>\n",
              "      <th>2</th>\n",
              "      <td>KNN</td>\n",
              "      <td>0.771739</td>\n",
              "      <td>0.858696</td>\n",
              "      <td>0.880435</td>\n",
              "      <td>0.858696</td>\n",
              "      <td>0.858696</td>\n",
              "      <td>0.869565</td>\n",
              "      <td>0.902174</td>\n",
              "      <td>0.771739</td>\n",
              "      <td>0.769231</td>\n",
              "      <td>0.813187</td>\n",
              "      <td>0.835416</td>\n",
              "    </tr>\n",
              "    <tr>\n",
              "      <th>3</th>\n",
              "      <td>LR</td>\n",
              "      <td>0.782609</td>\n",
              "      <td>0.880435</td>\n",
              "      <td>0.869565</td>\n",
              "      <td>0.880435</td>\n",
              "      <td>0.869565</td>\n",
              "      <td>0.836957</td>\n",
              "      <td>0.891304</td>\n",
              "      <td>0.793478</td>\n",
              "      <td>0.769231</td>\n",
              "      <td>0.791209</td>\n",
              "      <td>0.836479</td>\n",
              "    </tr>\n",
              "    <tr>\n",
              "      <th>4</th>\n",
              "      <td>SVM</td>\n",
              "      <td>0.869565</td>\n",
              "      <td>0.934783</td>\n",
              "      <td>0.891304</td>\n",
              "      <td>0.891304</td>\n",
              "      <td>0.880435</td>\n",
              "      <td>0.858696</td>\n",
              "      <td>0.858696</td>\n",
              "      <td>0.771739</td>\n",
              "      <td>0.780220</td>\n",
              "      <td>0.802198</td>\n",
              "      <td>0.853894</td>\n",
              "    </tr>\n",
              "    <tr>\n",
              "      <th>5</th>\n",
              "      <td>GNB</td>\n",
              "      <td>0.804348</td>\n",
              "      <td>0.858696</td>\n",
              "      <td>0.945652</td>\n",
              "      <td>0.913043</td>\n",
              "      <td>0.836957</td>\n",
              "      <td>0.793478</td>\n",
              "      <td>0.923913</td>\n",
              "      <td>0.782609</td>\n",
              "      <td>0.791209</td>\n",
              "      <td>0.780220</td>\n",
              "      <td>0.843012</td>\n",
              "    </tr>\n",
              "    <tr>\n",
              "      <th>6</th>\n",
              "      <td>BNB</td>\n",
              "      <td>0.826087</td>\n",
              "      <td>0.902174</td>\n",
              "      <td>0.836957</td>\n",
              "      <td>0.858696</td>\n",
              "      <td>0.869565</td>\n",
              "      <td>0.836957</td>\n",
              "      <td>0.891304</td>\n",
              "      <td>0.804348</td>\n",
              "      <td>0.725275</td>\n",
              "      <td>0.813187</td>\n",
              "      <td>0.836455</td>\n",
              "    </tr>\n",
              "    <tr>\n",
              "      <th>7</th>\n",
              "      <td>LGBM</td>\n",
              "      <td>0.902174</td>\n",
              "      <td>0.902174</td>\n",
              "      <td>0.923913</td>\n",
              "      <td>0.858696</td>\n",
              "      <td>0.836957</td>\n",
              "      <td>0.869565</td>\n",
              "      <td>0.858696</td>\n",
              "      <td>0.739130</td>\n",
              "      <td>0.747253</td>\n",
              "      <td>0.747253</td>\n",
              "      <td>0.838581</td>\n",
              "    </tr>\n",
              "  </tbody>\n",
              "</table>\n",
              "</div>"
            ],
            "text/plain": [
              "  Algorithm name         0         1  ...         8         9   Average\n",
              "0            RFC  0.858696  0.902174  ...  0.714286  0.725275  0.824391\n",
              "1            DTC  0.750000  0.869565  ...  0.769231  0.736264  0.789680\n",
              "2            KNN  0.771739  0.858696  ...  0.769231  0.813187  0.835416\n",
              "3             LR  0.782609  0.880435  ...  0.769231  0.791209  0.836479\n",
              "4            SVM  0.869565  0.934783  ...  0.780220  0.802198  0.853894\n",
              "5            GNB  0.804348  0.858696  ...  0.791209  0.780220  0.843012\n",
              "6            BNB  0.826087  0.902174  ...  0.725275  0.813187  0.836455\n",
              "7           LGBM  0.902174  0.902174  ...  0.747253  0.747253  0.838581\n",
              "\n",
              "[8 rows x 12 columns]"
            ]
          },
          "metadata": {},
          "execution_count": 34
        }
      ]
    },
    {
      "cell_type": "code",
      "metadata": {
        "id": "GIA7LKWEnOgD",
        "colab": {
          "base_uri": "https://localhost:8080/",
          "height": 284
        },
        "outputId": "1f1e6235-73bd-4082-9176-27d317d23688"
      },
      "source": [
        "Average=list(Table['Average'])\n",
        "pd.Series(Average,index=list(Table['Algorithm name'])).plot(kind='barh')"
      ],
      "execution_count": null,
      "outputs": [
        {
          "output_type": "execute_result",
          "data": {
            "text/plain": [
              "<matplotlib.axes._subplots.AxesSubplot at 0x7f9650d21d50>"
            ]
          },
          "metadata": {},
          "execution_count": 35
        },
        {
          "output_type": "display_data",
          "data": {
            "image/png": "[encoded data removed]",
            "text/plain": [
              "<Figure size 432x288 with 1 Axes>"
            ]
          },
          "metadata": {
            "needs_background": "light"
          }
        }
      ]
    },
    {
      "cell_type": "markdown",
      "metadata": {
        "id": "ZwoYlSahz7to"
      },
      "source": [
        "**Now I will pick the best algorithm for fit**"
      ]
    },
    {
      "cell_type": "code",
      "metadata": {
        "id": "jeUxM8K-r4Dr"
      },
      "source": [
        "Cross=Algo[Average.index(max(Average))]"
      ],
      "execution_count": null,
      "outputs": []
    },
    {
      "cell_type": "markdown",
      "metadata": {
        "id": "vua_Cv9G0IhK"
      },
      "source": [
        "**Finally fit the features and labels**"
      ]
    },
    {
      "cell_type": "code",
      "metadata": {
        "colab": {
          "base_uri": "https://localhost:8080/"
        },
        "id": "EfsZWxQa4m3m",
        "outputId": "bbd9e0a1-28f2-46ee-e35b-581f36762a2a"
      },
      "source": [
        "Cross.fit(xtrain,ytrain)\n",
        "Cross.score(Sx,y)"
      ],
      "execution_count": null,
      "outputs": [
        {
          "output_type": "execute_result",
          "data": {
            "text/plain": [
              "0.8932461873638344"
            ]
          },
          "metadata": {},
          "execution_count": 37
        }
      ]
    },
    {
      "cell_type": "markdown",
      "metadata": {
        "id": "biYgx72j0XWF"
      },
      "source": [
        "**Evaluation**"
      ]
    },
    {
      "cell_type": "code",
      "metadata": {
        "id": "19z5NXX3WRME"
      },
      "source": [
        "Cross_Score=Cross.score(Sx,y)"
      ],
      "execution_count": null,
      "outputs": []
    },
    {
      "cell_type": "markdown",
      "source": [
        "Stacking_Classifier"
      ],
      "metadata": {
        "id": "EzhfRyCN8i6X"
      }
    },
    {
      "cell_type": "code",
      "source": [
        "Algo_name1=[(\"RFC\",Forest),(\"DTC\",Tree),(\"KNN\",KNN),(\"SVM\",Support),(\"GNB\",GNB),(\"BNB\",BNB),(\"LGBM\",LGBM)]\n",
        "from sklearn.ensemble import StackingClassifier\n",
        "Lr=LogisticRegression()\n",
        "Stacking=StackingClassifier(estimators=Algo_name1,final_estimator=Lr)\n",
        "Stacking.fit(Sx,y)\n",
        "Stacking.score(Sx,y)"
      ],
      "metadata": {
        "colab": {
          "base_uri": "https://localhost:8080/"
        },
        "id": "GQ4lz1Oa8Kxt",
        "outputId": "3a0f3c7b-ed2e-4dfd-be7d-c86f13efbe34"
      },
      "execution_count": null,
      "outputs": [
        {
          "output_type": "execute_result",
          "data": {
            "text/plain": [
              "0.8986928104575164"
            ]
          },
          "metadata": {},
          "execution_count": 39
        }
      ]
    },
    {
      "cell_type": "code",
      "source": [
        "Stack_Score=Stacking.score(Sx,y)"
      ],
      "metadata": {
        "id": "W1oKCAvT8nka"
      },
      "execution_count": null,
      "outputs": []
    },
    {
      "cell_type": "code",
      "source": [
        "if(Stack_Score>Cross_Score):\n",
        "  Best=Stacking\n",
        "  Best.fit(xtrain,ytrain)\n",
        "else:\n",
        "  Best=Cross\n",
        "  Best.fit(xtrain,ytrain)"
      ],
      "metadata": {
        "id": "vL42afW680-4"
      },
      "execution_count": null,
      "outputs": []
    },
    {
      "cell_type": "code",
      "source": [
        "Best.score(xtest,ytest)"
      ],
      "metadata": {
        "id": "9m2G7omo-Kyt",
        "colab": {
          "base_uri": "https://localhost:8080/"
        },
        "outputId": "45f72410-297d-48bf-887f-e2a1caa24025"
      },
      "execution_count": null,
      "outputs": [
        {
          "output_type": "execute_result",
          "data": {
            "text/plain": [
              "0.9565217391304348"
            ]
          },
          "metadata": {},
          "execution_count": 42
        }
      ]
    },
    {
      "cell_type": "code",
      "metadata": {
        "colab": {
          "base_uri": "https://localhost:8080/",
          "height": 479
        },
        "id": "QSiMWsjlImTA",
        "outputId": "444b5d89-7db3-4601-b071-149bd6e622fe"
      },
      "source": [
        "plt.pie(list(df['HeartDisease'].value_counts()),labels=[1,0],autopct='%2.1f%%')\n",
        "plt.show()\n",
        "plt.pie(list(pd.DataFrame(Best.predict(Sx)).value_counts()),labels=[1,0],autopct='%2.1f%%')\n",
        "plt.show()"
      ],
      "execution_count": null,
      "outputs": [
        {
          "output_type": "display_data",
          "data": {
            "image/png": "[encoded data removed]",
            "text/plain": [
              "<Figure size 432x288 with 1 Axes>"
            ]
          },
          "metadata": {}
        },
        {
          "output_type": "display_data",
          "data": {
            "image/png": "[encoded data removed]",
            "text/plain": [
              "<Figure size 432x288 with 1 Axes>"
            ]
          },
          "metadata": {}
        }
      ]
    },
    {
      "cell_type": "code",
      "metadata": {
        "id": "UD9JLMn9WMa1",
        "colab": {
          "base_uri": "https://localhost:8080/",
          "height": 479
        },
        "outputId": "e95b071e-733b-4128-ba75-f614bf0e5e96"
      },
      "source": [
        "df['Predicted']=Best.predict(Sx)\n",
        "df60=df[df['Age']>60]\n",
        "plt.pie(list(df60['HeartDisease'].value_counts()),labels=[1,0],autopct='%2.1f%%')\n",
        "plt.show()\n",
        "plt.pie(list(df60['Predicted'].value_counts()),labels=[1,0],autopct='%2.1f%%')\n",
        "plt.show()"
      ],
      "execution_count": null,
      "outputs": [
        {
          "output_type": "display_data",
          "data": {
            "image/png": "[encoded data removed]",
            "text/plain": [
              "<Figure size 432x288 with 1 Axes>"
            ]
          },
          "metadata": {}
        },
        {
          "output_type": "display_data",
          "data": {
            "image/png": "[encoded data removed]",
            "text/plain": [
              "<Figure size 432x288 with 1 Axes>"
            ]
          },
          "metadata": {}
        }
      ]
    },
    {
      "cell_type": "code",
      "metadata": {
        "id": "e3nPnQEy4q_q",
        "colab": {
          "base_uri": "https://localhost:8080/",
          "height": 446
        },
        "outputId": "4b14a32d-03f3-48ad-ccaa-ceb2afb63c69"
      },
      "source": [
        "pred=Best.predict(xtest)\n",
        "con_matrix=tf.math.confusion_matrix(labels=ytest,predictions=pred)\n",
        "plt.figure(figsize=(12,7))\n",
        "sns.heatmap(con_matrix,annot=True,fmt='d')"
      ],
      "execution_count": null,
      "outputs": [
        {
          "output_type": "execute_result",
          "data": {
            "text/plain": [
              "<matplotlib.axes._subplots.AxesSubplot at 0x7f964fe31450>"
            ]
          },
          "metadata": {},
          "execution_count": 45
        },
        {
          "output_type": "display_data",
          "data": {
            "image/png": "[encoded data removed]",
            "text/plain": [
              "<Figure size 864x504 with 2 Axes>"
            ]
          },
          "metadata": {
            "needs_background": "light"
          }
        }
      ]
    },
    {
      "cell_type": "markdown",
      "metadata": {
        "id": "VuroVaCZIYzg"
      },
      "source": [
        "**Prediction Part**"
      ]
    },
    {
      "cell_type": "code",
      "metadata": {
        "id": "wpf6Hcu9U5tq"
      },
      "source": [
        "Check=[]\n",
        "for i in x.columns:\n",
        "  K=input(f\"Enter {i} from your report:\")\n",
        "  Check.append(K)"
      ],
      "execution_count": null,
      "outputs": []
    },
    {
      "cell_type": "code",
      "metadata": {
        "id": "DQno45BPwXyr"
      },
      "source": [
        "Check=x[:1]"
      ],
      "execution_count": null,
      "outputs": []
    },
    {
      "cell_type": "code",
      "metadata": {
        "colab": {
          "base_uri": "https://localhost:8080/"
        },
        "id": "RNRWpSWsvcT3",
        "outputId": "70c21b27-e66a-4a65-fbea-0e23c60fc82a"
      },
      "source": [
        "Best.predict(Scaler.transform(Check))"
      ],
      "execution_count": null,
      "outputs": [
        {
          "output_type": "execute_result",
          "data": {
            "text/plain": [
              "array([0])"
            ]
          },
          "metadata": {},
          "execution_count": 48
        }
      ]
    },
    {
      "cell_type": "code",
      "metadata": {
        "id": "AtgJM3LtQ7mI",
        "colab": {
          "base_uri": "https://localhost:8080/"
        },
        "outputId": "839e3950-3841-485c-80e9-7a388cc4fa59"
      },
      "source": [
        "from sklearn.metrics import classification_report\n",
        "print(classification_report(ytest,pred))"
      ],
      "execution_count": null,
      "outputs": [
        {
          "output_type": "stream",
          "name": "stdout",
          "text": [
            "              precision    recall  f1-score   support\n",
            "\n",
            "           0       0.95      0.95      0.95        37\n",
            "           1       0.96      0.96      0.96        55\n",
            "\n",
            "    accuracy                           0.96        92\n",
            "   macro avg       0.95      0.95      0.95        92\n",
            "weighted avg       0.96      0.96      0.96        92\n",
            "\n"
          ]
        }
      ]
    },
    {
      "cell_type": "code",
      "source": [
        ""
      ],
      "metadata": {
        "id": "gwpM6X6n9hOC"
      },
      "execution_count": null,
      "outputs": []
    }
  ]
}