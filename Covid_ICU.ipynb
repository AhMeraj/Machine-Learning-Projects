{
  "nbformat": 4,
  "nbformat_minor": 0,
  "metadata": {
    "colab": {
      "name": "Covid_ICU.ipynb",
      "provenance": [],
      "collapsed_sections": []
    },
    "kernelspec": {
      "name": "python3",
      "display_name": "Python 3"
    },
    "language_info": {
      "name": "python"
    },
    "accelerator": "TPU"
  },
  "cells": [
    {
      "cell_type": "code",
      "execution_count": 1,
      "metadata": {
        "id": "Zo6K7Es1jbHW"
      },
      "outputs": [],
      "source": [
        "from google.colab import files"
      ]
    },
    {
      "cell_type": "code",
      "metadata": {
        "id": "SHXgFYNTEwHx"
      },
      "source": [
        "files.upload()"
      ],
      "execution_count": null,
      "outputs": []
    },
    {
      "cell_type": "code",
      "source": [
        "import numpy as np\n",
        "import pandas as pd\n",
        "import matplotlib.pyplot as plt\n",
        "import seaborn as sns\n",
        "from sklearn.feature_extraction.text import CountVectorizer\n",
        "from sklearn.tree import DecisionTreeRegressor\n",
        "from sklearn.ensemble import RandomForestRegressor\n",
        "from sklearn.model_selection import train_test_split\n",
        "from sklearn.metrics import mean_squared_error,mean_absolute_error,r2_score\n",
        "from sklearn.linear_model import LinearRegression\n",
        "from sklearn.neighbors import KNeighborsRegressor"
      ],
      "metadata": {
        "id": "XyBMaobijeWS"
      },
      "execution_count": 3,
      "outputs": []
    },
    {
      "cell_type": "code",
      "source": [
        "df=pd.read_excel('covid-hospitalizations-1.xlsx')\n",
        "df"
      ],
      "metadata": {
        "colab": {
          "base_uri": "https://localhost:8080/",
          "height": 424
        },
        "id": "cHlvqH5bmASF",
        "outputId": "e8ff8e46-820e-4016-d19e-2a4dc0f7232e"
      },
      "execution_count": null,
      "outputs": [
        {
          "output_type": "execute_result",
          "data": {
            "text/plain": [
              "               entity iso_code       date  \\\n",
              "0             Algeria      DZA 2020-07-17   \n",
              "1             Algeria      DZA 2020-07-17   \n",
              "2             Algeria      DZA 2020-07-18   \n",
              "3             Algeria      DZA 2020-07-18   \n",
              "4             Algeria      DZA 2020-07-20   \n",
              "...               ...      ...        ...   \n",
              "110447  United States      USA 2022-01-10   \n",
              "110448  United States      USA 2022-01-10   \n",
              "110449  United States      USA 2022-01-10   \n",
              "110450  United States      USA 2022-01-10   \n",
              "110451  United States      USA 2022-01-10   \n",
              "\n",
              "                                         indicator       value  \n",
              "0                              Daily ICU occupancy      62.000  \n",
              "1                  Daily ICU occupancy per million       1.390  \n",
              "2                              Daily ICU occupancy      67.000  \n",
              "3                  Daily ICU occupancy per million       1.502  \n",
              "4                              Daily ICU occupancy      64.000  \n",
              "...                                            ...         ...  \n",
              "110447             Daily ICU occupancy per million      73.322  \n",
              "110448                    Daily hospital occupancy  141539.000  \n",
              "110449        Daily hospital occupancy per million     425.150  \n",
              "110450              Weekly new hospital admissions  145049.000  \n",
              "110451  Weekly new hospital admissions per million     435.694  \n",
              "\n",
              "[110452 rows x 5 columns]"
            ],
            "text/html": [
              "\n",
              "  <div id=\"df-c18627e6-f7b2-4da5-a51e-752b95afc058\">\n",
              "    <div class=\"colab-df-container\">\n",
              "      <div>\n",
              "<style scoped>\n",
              "    .dataframe tbody tr th:only-of-type {\n",
              "        vertical-align: middle;\n",
              "    }\n",
              "\n",
              "    .dataframe tbody tr th {\n",
              "        vertical-align: top;\n",
              "    }\n",
              "\n",
              "    .dataframe thead th {\n",
              "        text-align: right;\n",
              "    }\n",
              "</style>\n",
              "<table border=\"1\" class=\"dataframe\">\n",
              "  <thead>\n",
              "    <tr style=\"text-align: right;\">\n",
              "      <th></th>\n",
              "      <th>entity</th>\n",
              "      <th>iso_code</th>\n",
              "      <th>date</th>\n",
              "      <th>indicator</th>\n",
              "      <th>value</th>\n",
              "    </tr>\n",
              "  </thead>\n",
              "  <tbody>\n",
              "    <tr>\n",
              "      <th>0</th>\n",
              "      <td>Algeria</td>\n",
              "      <td>DZA</td>\n",
              "      <td>2020-07-17</td>\n",
              "      <td>Daily ICU occupancy</td>\n",
              "      <td>62.000</td>\n",
              "    </tr>\n",
              "    <tr>\n",
              "      <th>1</th>\n",
              "      <td>Algeria</td>\n",
              "      <td>DZA</td>\n",
              "      <td>2020-07-17</td>\n",
              "      <td>Daily ICU occupancy per million</td>\n",
              "      <td>1.390</td>\n",
              "    </tr>\n",
              "    <tr>\n",
              "      <th>2</th>\n",
              "      <td>Algeria</td>\n",
              "      <td>DZA</td>\n",
              "      <td>2020-07-18</td>\n",
              "      <td>Daily ICU occupancy</td>\n",
              "      <td>67.000</td>\n",
              "    </tr>\n",
              "    <tr>\n",
              "      <th>3</th>\n",
              "      <td>Algeria</td>\n",
              "      <td>DZA</td>\n",
              "      <td>2020-07-18</td>\n",
              "      <td>Daily ICU occupancy per million</td>\n",
              "      <td>1.502</td>\n",
              "    </tr>\n",
              "    <tr>\n",
              "      <th>4</th>\n",
              "      <td>Algeria</td>\n",
              "      <td>DZA</td>\n",
              "      <td>2020-07-20</td>\n",
              "      <td>Daily ICU occupancy</td>\n",
              "      <td>64.000</td>\n",
              "    </tr>\n",
              "    <tr>\n",
              "      <th>...</th>\n",
              "      <td>...</td>\n",
              "      <td>...</td>\n",
              "      <td>...</td>\n",
              "      <td>...</td>\n",
              "      <td>...</td>\n",
              "    </tr>\n",
              "    <tr>\n",
              "      <th>110447</th>\n",
              "      <td>United States</td>\n",
              "      <td>USA</td>\n",
              "      <td>2022-01-10</td>\n",
              "      <td>Daily ICU occupancy per million</td>\n",
              "      <td>73.322</td>\n",
              "    </tr>\n",
              "    <tr>\n",
              "      <th>110448</th>\n",
              "      <td>United States</td>\n",
              "      <td>USA</td>\n",
              "      <td>2022-01-10</td>\n",
              "      <td>Daily hospital occupancy</td>\n",
              "      <td>141539.000</td>\n",
              "    </tr>\n",
              "    <tr>\n",
              "      <th>110449</th>\n",
              "      <td>United States</td>\n",
              "      <td>USA</td>\n",
              "      <td>2022-01-10</td>\n",
              "      <td>Daily hospital occupancy per million</td>\n",
              "      <td>425.150</td>\n",
              "    </tr>\n",
              "    <tr>\n",
              "      <th>110450</th>\n",
              "      <td>United States</td>\n",
              "      <td>USA</td>\n",
              "      <td>2022-01-10</td>\n",
              "      <td>Weekly new hospital admissions</td>\n",
              "      <td>145049.000</td>\n",
              "    </tr>\n",
              "    <tr>\n",
              "      <th>110451</th>\n",
              "      <td>United States</td>\n",
              "      <td>USA</td>\n",
              "      <td>2022-01-10</td>\n",
              "      <td>Weekly new hospital admissions per million</td>\n",
              "      <td>435.694</td>\n",
              "    </tr>\n",
              "  </tbody>\n",
              "</table>\n",
              "<p>110452 rows × 5 columns</p>\n",
              "</div>\n",
              "      <button class=\"colab-df-convert\" onclick=\"convertToInteractive('df-c18627e6-f7b2-4da5-a51e-752b95afc058')\"\n",
              "              title=\"Convert this dataframe to an interactive table.\"\n",
              "              style=\"display:none;\">\n",
              "        \n",
              "  <svg xmlns=\"http://www.w3.org/2000/svg\" height=\"24px\"viewBox=\"0 0 24 24\"\n",
              "       width=\"24px\">\n",
              "    <path d=\"M0 0h24v24H0V0z\" fill=\"none\"/>\n",
              "    <path d=\"M18.56 5.44l.94 2.06.94-2.06 2.06-.94-2.06-.94-.94-2.06-.94 2.06-2.06.94zm-11 1L8.5 8.5l.94-2.06 2.06-.94-2.06-.94L8.5 2.5l-.94 2.06-2.06.94zm10 10l.94 2.06.94-2.06 2.06-.94-2.06-.94-.94-2.06-.94 2.06-2.06.94z\"/><path d=\"M17.41 7.96l-1.37-1.37c-.4-.4-.92-.59-1.43-.59-.52 0-1.04.2-1.43.59L10.3 9.45l-7.72 7.72c-.78.78-.78 2.05 0 2.83L4 21.41c.39.39.9.59 1.41.59.51 0 1.02-.2 1.41-.59l7.78-7.78 2.81-2.81c.8-.78.8-2.07 0-2.86zM5.41 20L4 18.59l7.72-7.72 1.47 1.35L5.41 20z\"/>\n",
              "  </svg>\n",
              "      </button>\n",
              "      \n",
              "  <style>\n",
              "    .colab-df-container {\n",
              "      display:flex;\n",
              "      flex-wrap:wrap;\n",
              "      gap: 12px;\n",
              "    }\n",
              "\n",
              "    .colab-df-convert {\n",
              "      background-color: #E8F0FE;\n",
              "      border: none;\n",
              "      border-radius: 50%;\n",
              "      cursor: pointer;\n",
              "      display: none;\n",
              "      fill: #1967D2;\n",
              "      height: 32px;\n",
              "      padding: 0 0 0 0;\n",
              "      width: 32px;\n",
              "    }\n",
              "\n",
              "    .colab-df-convert:hover {\n",
              "      background-color: #E2EBFA;\n",
              "      box-shadow: 0px 1px 2px rgba(60, 64, 67, 0.3), 0px 1px 3px 1px rgba(60, 64, 67, 0.15);\n",
              "      fill: #174EA6;\n",
              "    }\n",
              "\n",
              "    [theme=dark] .colab-df-convert {\n",
              "      background-color: #3B4455;\n",
              "      fill: #D2E3FC;\n",
              "    }\n",
              "\n",
              "    [theme=dark] .colab-df-convert:hover {\n",
              "      background-color: #434B5C;\n",
              "      box-shadow: 0px 1px 3px 1px rgba(0, 0, 0, 0.15);\n",
              "      filter: drop-shadow(0px 1px 2px rgba(0, 0, 0, 0.3));\n",
              "      fill: #FFFFFF;\n",
              "    }\n",
              "  </style>\n",
              "\n",
              "      <script>\n",
              "        const buttonEl =\n",
              "          document.querySelector('#df-c18627e6-f7b2-4da5-a51e-752b95afc058 button.colab-df-convert');\n",
              "        buttonEl.style.display =\n",
              "          google.colab.kernel.accessAllowed ? 'block' : 'none';\n",
              "\n",
              "        async function convertToInteractive(key) {\n",
              "          const element = document.querySelector('#df-c18627e6-f7b2-4da5-a51e-752b95afc058');\n",
              "          const dataTable =\n",
              "            await google.colab.kernel.invokeFunction('convertToInteractive',\n",
              "                                                     [key], {});\n",
              "          if (!dataTable) return;\n",
              "\n",
              "          const docLinkHtml = 'Like what you see? Visit the ' +\n",
              "            '<a target=\"_blank\" href=https://colab.research.google.com/notebooks/data_table.ipynb>data table notebook</a>'\n",
              "            + ' to learn more about interactive tables.';\n",
              "          element.innerHTML = '';\n",
              "          dataTable['output_type'] = 'display_data';\n",
              "          await google.colab.output.renderOutput(dataTable, element);\n",
              "          const docLink = document.createElement('div');\n",
              "          docLink.innerHTML = docLinkHtml;\n",
              "          element.appendChild(docLink);\n",
              "        }\n",
              "      </script>\n",
              "    </div>\n",
              "  </div>\n",
              "  "
            ]
          },
          "metadata": {},
          "execution_count": 5
        }
      ]
    },
    {
      "cell_type": "code",
      "source": [
        "plt.figure(figsize=(65,8))\n",
        "sns.barplot(x='entity',y='value',data=df)"
      ],
      "metadata": {
        "colab": {
          "base_uri": "https://localhost:8080/",
          "height": 534
        },
        "id": "VHY0sk-DyPkh",
        "outputId": "cf72c265-25e9-4cec-8da6-76484472822c"
      },
      "execution_count": null,
      "outputs": [
        {
          "output_type": "execute_result",
          "data": {
            "text/plain": [
              "<matplotlib.axes._subplots.AxesSubplot at 0x7f9b46ffce10>"
            ]
          },
          "metadata": {},
          "execution_count": 6
        },
        {
          "output_type": "display_data",
          "data": {
            "text/plain": [
              "<Figure size 4680x576 with 1 Axes>"
            ],
            "image/png": "[encoded data removed]"
          },
          "metadata": {
            "needs_background": "light"
          }
        }
      ]
    },
    {
      "cell_type": "code",
      "source": [
        "df['date'].dtype"
      ],
      "metadata": {
        "colab": {
          "base_uri": "https://localhost:8080/"
        },
        "id": "CGisdye-oDC4",
        "outputId": "cb973afa-f773-4535-e1e5-e00b02d953f8"
      },
      "execution_count": null,
      "outputs": [
        {
          "output_type": "execute_result",
          "data": {
            "text/plain": [
              "dtype('<M8[ns]')"
            ]
          },
          "metadata": {},
          "execution_count": 7
        }
      ]
    },
    {
      "cell_type": "code",
      "source": [
        "df['date']=pd.to_datetime(df['date'])"
      ],
      "metadata": {
        "id": "NuwoUnNEmFtv"
      },
      "execution_count": null,
      "outputs": []
    },
    {
      "cell_type": "markdown",
      "source": [
        "Change the data type of date column to string from date."
      ],
      "metadata": {
        "id": "HY2Wm5lZSdi_"
      }
    },
    {
      "cell_type": "code",
      "source": [
        "df['date']=df['date'].dt.strftime('%d-%m-%Y')\n",
        "df['date'].dtype"
      ],
      "metadata": {
        "colab": {
          "base_uri": "https://localhost:8080/"
        },
        "id": "LCOh4ivc1TSP",
        "outputId": "b2ce8161-2935-40ec-b74c-2e18c8cc6f9a"
      },
      "execution_count": null,
      "outputs": [
        {
          "output_type": "execute_result",
          "data": {
            "text/plain": [
              "dtype('O')"
            ]
          },
          "metadata": {},
          "execution_count": 9
        }
      ]
    },
    {
      "cell_type": "markdown",
      "source": [
        "Combine entity and date column into a column which name is 'content'"
      ],
      "metadata": {
        "id": "Sk8Xt2BzSWXa"
      }
    },
    {
      "cell_type": "code",
      "source": [
        "df['content']=df['entity']+' : '+df['date']+' : '+df['indicator']"
      ],
      "metadata": {
        "id": "73wuODpas1pt"
      },
      "execution_count": null,
      "outputs": []
    },
    {
      "cell_type": "markdown",
      "source": [
        "Dependent & Independent splitting"
      ],
      "metadata": {
        "id": "UERx6wO9SxvY"
      }
    },
    {
      "cell_type": "code",
      "source": [
        "df"
      ],
      "metadata": {
        "colab": {
          "base_uri": "https://localhost:8080/",
          "height": 424
        },
        "id": "roVIAmUGmP0G",
        "outputId": "ff31f62a-3c85-4e19-924b-22e1b7f97e83"
      },
      "execution_count": null,
      "outputs": [
        {
          "output_type": "execute_result",
          "data": {
            "text/plain": [
              "               entity iso_code        date  \\\n",
              "0             Algeria      DZA  17-07-2020   \n",
              "1             Algeria      DZA  17-07-2020   \n",
              "2             Algeria      DZA  18-07-2020   \n",
              "3             Algeria      DZA  18-07-2020   \n",
              "4             Algeria      DZA  20-07-2020   \n",
              "...               ...      ...         ...   \n",
              "110447  United States      USA  10-01-2022   \n",
              "110448  United States      USA  10-01-2022   \n",
              "110449  United States      USA  10-01-2022   \n",
              "110450  United States      USA  10-01-2022   \n",
              "110451  United States      USA  10-01-2022   \n",
              "\n",
              "                                         indicator       value  \\\n",
              "0                              Daily ICU occupancy      62.000   \n",
              "1                  Daily ICU occupancy per million       1.390   \n",
              "2                              Daily ICU occupancy      67.000   \n",
              "3                  Daily ICU occupancy per million       1.502   \n",
              "4                              Daily ICU occupancy      64.000   \n",
              "...                                            ...         ...   \n",
              "110447             Daily ICU occupancy per million      73.322   \n",
              "110448                    Daily hospital occupancy  141539.000   \n",
              "110449        Daily hospital occupancy per million     425.150   \n",
              "110450              Weekly new hospital admissions  145049.000   \n",
              "110451  Weekly new hospital admissions per million     435.694   \n",
              "\n",
              "                                                  content  \n",
              "0              Algeria : 17-07-2020 : Daily ICU occupancy  \n",
              "1       Algeria : 17-07-2020 : Daily ICU occupancy per...  \n",
              "2              Algeria : 18-07-2020 : Daily ICU occupancy  \n",
              "3       Algeria : 18-07-2020 : Daily ICU occupancy per...  \n",
              "4              Algeria : 20-07-2020 : Daily ICU occupancy  \n",
              "...                                                   ...  \n",
              "110447  United States : 10-01-2022 : Daily ICU occupan...  \n",
              "110448  United States : 10-01-2022 : Daily hospital oc...  \n",
              "110449  United States : 10-01-2022 : Daily hospital oc...  \n",
              "110450  United States : 10-01-2022 : Weekly new hospit...  \n",
              "110451  United States : 10-01-2022 : Weekly new hospit...  \n",
              "\n",
              "[110452 rows x 6 columns]"
            ],
            "text/html": [
              "\n",
              "  <div id=\"df-2d3c9776-4129-4311-8e56-190cb0f5d154\">\n",
              "    <div class=\"colab-df-container\">\n",
              "      <div>\n",
              "<style scoped>\n",
              "    .dataframe tbody tr th:only-of-type {\n",
              "        vertical-align: middle;\n",
              "    }\n",
              "\n",
              "    .dataframe tbody tr th {\n",
              "        vertical-align: top;\n",
              "    }\n",
              "\n",
              "    .dataframe thead th {\n",
              "        text-align: right;\n",
              "    }\n",
              "</style>\n",
              "<table border=\"1\" class=\"dataframe\">\n",
              "  <thead>\n",
              "    <tr style=\"text-align: right;\">\n",
              "      <th></th>\n",
              "      <th>entity</th>\n",
              "      <th>iso_code</th>\n",
              "      <th>date</th>\n",
              "      <th>indicator</th>\n",
              "      <th>value</th>\n",
              "      <th>content</th>\n",
              "    </tr>\n",
              "  </thead>\n",
              "  <tbody>\n",
              "    <tr>\n",
              "      <th>0</th>\n",
              "      <td>Algeria</td>\n",
              "      <td>DZA</td>\n",
              "      <td>17-07-2020</td>\n",
              "      <td>Daily ICU occupancy</td>\n",
              "      <td>62.000</td>\n",
              "      <td>Algeria : 17-07-2020 : Daily ICU occupancy</td>\n",
              "    </tr>\n",
              "    <tr>\n",
              "      <th>1</th>\n",
              "      <td>Algeria</td>\n",
              "      <td>DZA</td>\n",
              "      <td>17-07-2020</td>\n",
              "      <td>Daily ICU occupancy per million</td>\n",
              "      <td>1.390</td>\n",
              "      <td>Algeria : 17-07-2020 : Daily ICU occupancy per...</td>\n",
              "    </tr>\n",
              "    <tr>\n",
              "      <th>2</th>\n",
              "      <td>Algeria</td>\n",
              "      <td>DZA</td>\n",
              "      <td>18-07-2020</td>\n",
              "      <td>Daily ICU occupancy</td>\n",
              "      <td>67.000</td>\n",
              "      <td>Algeria : 18-07-2020 : Daily ICU occupancy</td>\n",
              "    </tr>\n",
              "    <tr>\n",
              "      <th>3</th>\n",
              "      <td>Algeria</td>\n",
              "      <td>DZA</td>\n",
              "      <td>18-07-2020</td>\n",
              "      <td>Daily ICU occupancy per million</td>\n",
              "      <td>1.502</td>\n",
              "      <td>Algeria : 18-07-2020 : Daily ICU occupancy per...</td>\n",
              "    </tr>\n",
              "    <tr>\n",
              "      <th>4</th>\n",
              "      <td>Algeria</td>\n",
              "      <td>DZA</td>\n",
              "      <td>20-07-2020</td>\n",
              "      <td>Daily ICU occupancy</td>\n",
              "      <td>64.000</td>\n",
              "      <td>Algeria : 20-07-2020 : Daily ICU occupancy</td>\n",
              "    </tr>\n",
              "    <tr>\n",
              "      <th>...</th>\n",
              "      <td>...</td>\n",
              "      <td>...</td>\n",
              "      <td>...</td>\n",
              "      <td>...</td>\n",
              "      <td>...</td>\n",
              "      <td>...</td>\n",
              "    </tr>\n",
              "    <tr>\n",
              "      <th>110447</th>\n",
              "      <td>United States</td>\n",
              "      <td>USA</td>\n",
              "      <td>10-01-2022</td>\n",
              "      <td>Daily ICU occupancy per million</td>\n",
              "      <td>73.322</td>\n",
              "      <td>United States : 10-01-2022 : Daily ICU occupan...</td>\n",
              "    </tr>\n",
              "    <tr>\n",
              "      <th>110448</th>\n",
              "      <td>United States</td>\n",
              "      <td>USA</td>\n",
              "      <td>10-01-2022</td>\n",
              "      <td>Daily hospital occupancy</td>\n",
              "      <td>141539.000</td>\n",
              "      <td>United States : 10-01-2022 : Daily hospital oc...</td>\n",
              "    </tr>\n",
              "    <tr>\n",
              "      <th>110449</th>\n",
              "      <td>United States</td>\n",
              "      <td>USA</td>\n",
              "      <td>10-01-2022</td>\n",
              "      <td>Daily hospital occupancy per million</td>\n",
              "      <td>425.150</td>\n",
              "      <td>United States : 10-01-2022 : Daily hospital oc...</td>\n",
              "    </tr>\n",
              "    <tr>\n",
              "      <th>110450</th>\n",
              "      <td>United States</td>\n",
              "      <td>USA</td>\n",
              "      <td>10-01-2022</td>\n",
              "      <td>Weekly new hospital admissions</td>\n",
              "      <td>145049.000</td>\n",
              "      <td>United States : 10-01-2022 : Weekly new hospit...</td>\n",
              "    </tr>\n",
              "    <tr>\n",
              "      <th>110451</th>\n",
              "      <td>United States</td>\n",
              "      <td>USA</td>\n",
              "      <td>10-01-2022</td>\n",
              "      <td>Weekly new hospital admissions per million</td>\n",
              "      <td>435.694</td>\n",
              "      <td>United States : 10-01-2022 : Weekly new hospit...</td>\n",
              "    </tr>\n",
              "  </tbody>\n",
              "</table>\n",
              "<p>110452 rows × 6 columns</p>\n",
              "</div>\n",
              "      <button class=\"colab-df-convert\" onclick=\"convertToInteractive('df-2d3c9776-4129-4311-8e56-190cb0f5d154')\"\n",
              "              title=\"Convert this dataframe to an interactive table.\"\n",
              "              style=\"display:none;\">\n",
              "        \n",
              "  <svg xmlns=\"http://www.w3.org/2000/svg\" height=\"24px\"viewBox=\"0 0 24 24\"\n",
              "       width=\"24px\">\n",
              "    <path d=\"M0 0h24v24H0V0z\" fill=\"none\"/>\n",
              "    <path d=\"M18.56 5.44l.94 2.06.94-2.06 2.06-.94-2.06-.94-.94-2.06-.94 2.06-2.06.94zm-11 1L8.5 8.5l.94-2.06 2.06-.94-2.06-.94L8.5 2.5l-.94 2.06-2.06.94zm10 10l.94 2.06.94-2.06 2.06-.94-2.06-.94-.94-2.06-.94 2.06-2.06.94z\"/><path d=\"M17.41 7.96l-1.37-1.37c-.4-.4-.92-.59-1.43-.59-.52 0-1.04.2-1.43.59L10.3 9.45l-7.72 7.72c-.78.78-.78 2.05 0 2.83L4 21.41c.39.39.9.59 1.41.59.51 0 1.02-.2 1.41-.59l7.78-7.78 2.81-2.81c.8-.78.8-2.07 0-2.86zM5.41 20L4 18.59l7.72-7.72 1.47 1.35L5.41 20z\"/>\n",
              "  </svg>\n",
              "      </button>\n",
              "      \n",
              "  <style>\n",
              "    .colab-df-container {\n",
              "      display:flex;\n",
              "      flex-wrap:wrap;\n",
              "      gap: 12px;\n",
              "    }\n",
              "\n",
              "    .colab-df-convert {\n",
              "      background-color: #E8F0FE;\n",
              "      border: none;\n",
              "      border-radius: 50%;\n",
              "      cursor: pointer;\n",
              "      display: none;\n",
              "      fill: #1967D2;\n",
              "      height: 32px;\n",
              "      padding: 0 0 0 0;\n",
              "      width: 32px;\n",
              "    }\n",
              "\n",
              "    .colab-df-convert:hover {\n",
              "      background-color: #E2EBFA;\n",
              "      box-shadow: 0px 1px 2px rgba(60, 64, 67, 0.3), 0px 1px 3px 1px rgba(60, 64, 67, 0.15);\n",
              "      fill: #174EA6;\n",
              "    }\n",
              "\n",
              "    [theme=dark] .colab-df-convert {\n",
              "      background-color: #3B4455;\n",
              "      fill: #D2E3FC;\n",
              "    }\n",
              "\n",
              "    [theme=dark] .colab-df-convert:hover {\n",
              "      background-color: #434B5C;\n",
              "      box-shadow: 0px 1px 3px 1px rgba(0, 0, 0, 0.15);\n",
              "      filter: drop-shadow(0px 1px 2px rgba(0, 0, 0, 0.3));\n",
              "      fill: #FFFFFF;\n",
              "    }\n",
              "  </style>\n",
              "\n",
              "      <script>\n",
              "        const buttonEl =\n",
              "          document.querySelector('#df-2d3c9776-4129-4311-8e56-190cb0f5d154 button.colab-df-convert');\n",
              "        buttonEl.style.display =\n",
              "          google.colab.kernel.accessAllowed ? 'block' : 'none';\n",
              "\n",
              "        async function convertToInteractive(key) {\n",
              "          const element = document.querySelector('#df-2d3c9776-4129-4311-8e56-190cb0f5d154');\n",
              "          const dataTable =\n",
              "            await google.colab.kernel.invokeFunction('convertToInteractive',\n",
              "                                                     [key], {});\n",
              "          if (!dataTable) return;\n",
              "\n",
              "          const docLinkHtml = 'Like what you see? Visit the ' +\n",
              "            '<a target=\"_blank\" href=https://colab.research.google.com/notebooks/data_table.ipynb>data table notebook</a>'\n",
              "            + ' to learn more about interactive tables.';\n",
              "          element.innerHTML = '';\n",
              "          dataTable['output_type'] = 'display_data';\n",
              "          await google.colab.output.renderOutput(dataTable, element);\n",
              "          const docLink = document.createElement('div');\n",
              "          docLink.innerHTML = docLinkHtml;\n",
              "          element.appendChild(docLink);\n",
              "        }\n",
              "      </script>\n",
              "    </div>\n",
              "  </div>\n",
              "  "
            ]
          },
          "metadata": {},
          "execution_count": 11
        }
      ]
    },
    {
      "cell_type": "code",
      "source": [
        "x=list(df['content'])\n",
        "CV=CountVectorizer()\n",
        "CVx=CV.fit_transform(x)\n",
        "y=df['value']"
      ],
      "metadata": {
        "id": "CTZWlgIrs28y"
      },
      "execution_count": null,
      "outputs": []
    },
    {
      "cell_type": "markdown",
      "source": [
        "Train & Test Data Splitting"
      ],
      "metadata": {
        "id": "F4hkkZ0ESOQz"
      }
    },
    {
      "cell_type": "code",
      "source": [
        "xtrain,xtest,ytrain,ytest=train_test_split(CVx,y,test_size=0.30,random_state=1)"
      ],
      "metadata": {
        "id": "PFzGaOlT1HcQ"
      },
      "execution_count": null,
      "outputs": []
    },
    {
      "cell_type": "markdown",
      "source": [
        "Linear Regression"
      ],
      "metadata": {
        "id": "GTsO3NYBS2S-"
      }
    },
    {
      "cell_type": "code",
      "source": [
        "Reg=LinearRegression()\n",
        "Reg.fit(xtrain,ytrain)\n",
        "Pred=Reg.predict(xtest)\n",
        "plt.title(\"Plot of exact label and predicted output\")\n",
        "plt.plot(ytest,color='red')\n",
        "plt.plot(Pred,color='black')\n",
        "print(\"R Squared Value=\",r2_score(ytest,Pred))\n",
        "print(\"Mean Squared Error=\",mean_squared_error(ytest,Pred))\n",
        "print(\"Mean Absolute Error=\",mean_absolute_error(ytest,Pred))"
      ],
      "metadata": {
        "colab": {
          "base_uri": "https://localhost:8080/",
          "height": 333
        },
        "id": "5CMSXU3rrpeF",
        "outputId": "dc5d38a6-e745-4033-fbd9-33a358a13129"
      },
      "execution_count": null,
      "outputs": [
        {
          "output_type": "stream",
          "name": "stdout",
          "text": [
            "R Squared Value= 0.3287450826550241\n",
            "Mean Squared Error= 27008243.680037577\n",
            "Mean Absolute Error= 2166.276250957961\n"
          ]
        },
        {
          "output_type": "display_data",
          "data": {
            "text/plain": [
              "<Figure size 432x288 with 1 Axes>"
            ],
            "image/png": "[encoded data removed]"
          },
          "metadata": {
            "needs_background": "light"
          }
        }
      ]
    },
    {
      "cell_type": "markdown",
      "source": [
        "Random Forest Regressor"
      ],
      "metadata": {
        "id": "Id4eO-KLS5Ps"
      }
    },
    {
      "cell_type": "code",
      "source": [
        "Forest=RandomForestRegressor(n_estimators=25)\n",
        "Forest.fit(xtrain,ytrain)\n",
        "Pred=Forest.predict(xtest)\n",
        "plt.title(\"Plot of exact label and predicted output\")\n",
        "plt.plot(ytest,color='red')\n",
        "plt.plot(Pred,color='black')\n",
        "print(\"R Squared Value=\",r2_score(ytest,Pred))\n",
        "print(\"Mean Squared Error=\",mean_squared_error(ytest,Pred))\n",
        "print(\"Mean Absolute Error=\",mean_absolute_error(ytest,Pred))"
      ],
      "metadata": {
        "colab": {
          "base_uri": "https://localhost:8080/",
          "height": 333
        },
        "id": "V-He6lPOtMAf",
        "outputId": "2bb12c5f-7bac-4b9f-ee3a-a49bacc30492"
      },
      "execution_count": null,
      "outputs": [
        {
          "output_type": "stream",
          "name": "stdout",
          "text": [
            "R Squared Value= 0.8724683917560192\n",
            "Mean Squared Error= 5131291.649950553\n",
            "Mean Absolute Error= 403.1811093369883\n"
          ]
        },
        {
          "output_type": "display_data",
          "data": {
            "text/plain": [
              "<Figure size 432x288 with 1 Axes>"
            ],
            "image/png": "[encoded data removed]"
          },
          "metadata": {
            "needs_background": "light"
          }
        }
      ]
    },
    {
      "cell_type": "markdown",
      "source": [
        "Decision Tree Regressor"
      ],
      "metadata": {
        "id": "FkfwSLoeTGgU"
      }
    },
    {
      "cell_type": "code",
      "source": [
        "Tree=DecisionTreeRegressor()\n",
        "Tree.fit(xtrain,ytrain)\n",
        "Pred=Tree.predict(xtest)\n",
        "plt.title(\"Plot of exact label and predicted output\")\n",
        "plt.plot(ytest,color='red')\n",
        "plt.plot(Pred,color='black')\n",
        "print(\"R Squared Value=\",r2_score(ytest,Pred))\n",
        "print(\"Mean Squared Error=\",mean_squared_error(ytest,Pred))\n",
        "print(\"Mean Absolute Error=\",mean_absolute_error(ytest,Pred))"
      ],
      "metadata": {
        "colab": {
          "base_uri": "https://localhost:8080/",
          "height": 333
        },
        "id": "zmPxZ8I9tjtD",
        "outputId": "37e0ca85-d1a5-4a62-b6d9-b50e4734c558"
      },
      "execution_count": null,
      "outputs": [
        {
          "output_type": "stream",
          "name": "stdout",
          "text": [
            "R Squared Value= 0.8121085964514084\n",
            "Mean Squared Error= 7559895.177373661\n",
            "Mean Absolute Error= 473.97279329128446\n"
          ]
        },
        {
          "output_type": "display_data",
          "data": {
            "text/plain": [
              "<Figure size 432x288 with 1 Axes>"
            ],
            "image/png": "[encoded data removed]"
          },
          "metadata": {
            "needs_background": "light"
          }
        }
      ]
    },
    {
      "cell_type": "markdown",
      "source": [
        "K-Neighbors Regressor"
      ],
      "metadata": {
        "id": "wKthcahYZAij"
      }
    },
    {
      "cell_type": "code",
      "source": [
        "KNN=KNeighborsRegressor(n_neighbors=125)\n",
        "KNN.fit(xtrain,ytrain)\n",
        "Pred=KNN.predict(xtest)\n",
        "plt.title(\"Plot of exact label and predicted output\")\n",
        "plt.plot(ytest,color='red')\n",
        "plt.plot(Pred,color='black')\n",
        "print(\"R Squared Value=\",r2_score(ytest,Pred))\n",
        "print(\"Mean Squared Error=\",mean_squared_error(ytest,Pred))\n",
        "print(\"Mean Absolute Error=\",mean_absolute_error(ytest,Pred))"
      ],
      "metadata": {
        "colab": {
          "base_uri": "https://localhost:8080/",
          "height": 333
        },
        "id": "MJkTX3Ayu3ye",
        "outputId": "f27226ee-9e45-4206-9094-1130d0a9ab18"
      },
      "execution_count": null,
      "outputs": [
        {
          "output_type": "stream",
          "name": "stdout",
          "text": [
            "R Squared Value= 0.7004161596827684\n",
            "Mean Squared Error= 12053890.635010356\n",
            "Mean Absolute Error= 1022.3140173580395\n"
          ]
        },
        {
          "output_type": "display_data",
          "data": {
            "text/plain": [
              "<Figure size 432x288 with 1 Axes>"
            ],
            "image/png": "[encoded data removed]"
          },
          "metadata": {
            "needs_background": "light"
          }
        }
      ]
    },
    {
      "cell_type": "markdown",
      "source": [
        "Combine Accuracy Table for All Algorithms "
      ],
      "metadata": {
        "id": "3DL8_msVUyLm"
      }
    },
    {
      "cell_type": "code",
      "source": [
        "Algo=[Reg,KNN,Tree,Forest]\n",
        "MSE=[]\n",
        "MAE=[]\n",
        "R2=[]\n",
        "for K in Algo:\n",
        "  K.fit(xtrain,ytrain)\n",
        "  Pred=K.predict(xtest)\n",
        "  R2.append(r2_score(ytest,Pred))\n",
        "  MSE.append(mean_squared_error(ytest,Pred))\n",
        "  MAE.append(mean_absolute_error(ytest,Pred))\n",
        "Algo_name=pd.DataFrame([\"Reg\",\"KNN\",\"Tree\",\"Forest\"],columns=['Algorithms'])\n",
        "MSE=pd.DataFrame(MSE,columns=['Mean Squared Error'])\n",
        "MAE=pd.DataFrame(MAE,columns=['Mean Absolute Error'])\n",
        "R2=pd.DataFrame(R2,columns=['R Squared Value'])\n",
        "Table=pd.concat([Algo_name,R2],axis=1)\n",
        "Table=pd.concat([Table,MAE],axis=1)\n",
        "Table=pd.concat([Table,MSE],axis=1)\n",
        "Table"
      ],
      "metadata": {
        "id": "b_WE7fH6vC7U",
        "colab": {
          "base_uri": "https://localhost:8080/",
          "height": 175
        },
        "outputId": "77bb1af7-944b-4ca7-b759-f5388f87a007"
      },
      "execution_count": null,
      "outputs": [
        {
          "output_type": "execute_result",
          "data": {
            "text/plain": [
              "  Algorithms  R Squared Value  Mean Absolute Error  Mean Squared Error\n",
              "0        Reg         0.328745          2166.276251        2.700824e+07\n",
              "1        KNN         0.700416          1022.314017        1.205389e+07\n",
              "2       Tree         0.811998           474.058515        7.564350e+06\n",
              "3     Forest         0.875789           402.223464        4.997689e+06"
            ],
            "text/html": [
              "\n",
              "  <div id=\"df-519c1c0b-10ba-4e5e-b3f8-1baad0577163\">\n",
              "    <div class=\"colab-df-container\">\n",
              "      <div>\n",
              "<style scoped>\n",
              "    .dataframe tbody tr th:only-of-type {\n",
              "        vertical-align: middle;\n",
              "    }\n",
              "\n",
              "    .dataframe tbody tr th {\n",
              "        vertical-align: top;\n",
              "    }\n",
              "\n",
              "    .dataframe thead th {\n",
              "        text-align: right;\n",
              "    }\n",
              "</style>\n",
              "<table border=\"1\" class=\"dataframe\">\n",
              "  <thead>\n",
              "    <tr style=\"text-align: right;\">\n",
              "      <th></th>\n",
              "      <th>Algorithms</th>\n",
              "      <th>R Squared Value</th>\n",
              "      <th>Mean Absolute Error</th>\n",
              "      <th>Mean Squared Error</th>\n",
              "    </tr>\n",
              "  </thead>\n",
              "  <tbody>\n",
              "    <tr>\n",
              "      <th>0</th>\n",
              "      <td>Reg</td>\n",
              "      <td>0.328745</td>\n",
              "      <td>2166.276251</td>\n",
              "      <td>2.700824e+07</td>\n",
              "    </tr>\n",
              "    <tr>\n",
              "      <th>1</th>\n",
              "      <td>KNN</td>\n",
              "      <td>0.700416</td>\n",
              "      <td>1022.314017</td>\n",
              "      <td>1.205389e+07</td>\n",
              "    </tr>\n",
              "    <tr>\n",
              "      <th>2</th>\n",
              "      <td>Tree</td>\n",
              "      <td>0.811998</td>\n",
              "      <td>474.058515</td>\n",
              "      <td>7.564350e+06</td>\n",
              "    </tr>\n",
              "    <tr>\n",
              "      <th>3</th>\n",
              "      <td>Forest</td>\n",
              "      <td>0.875789</td>\n",
              "      <td>402.223464</td>\n",
              "      <td>4.997689e+06</td>\n",
              "    </tr>\n",
              "  </tbody>\n",
              "</table>\n",
              "</div>\n",
              "      <button class=\"colab-df-convert\" onclick=\"convertToInteractive('df-519c1c0b-10ba-4e5e-b3f8-1baad0577163')\"\n",
              "              title=\"Convert this dataframe to an interactive table.\"\n",
              "              style=\"display:none;\">\n",
              "        \n",
              "  <svg xmlns=\"http://www.w3.org/2000/svg\" height=\"24px\"viewBox=\"0 0 24 24\"\n",
              "       width=\"24px\">\n",
              "    <path d=\"M0 0h24v24H0V0z\" fill=\"none\"/>\n",
              "    <path d=\"M18.56 5.44l.94 2.06.94-2.06 2.06-.94-2.06-.94-.94-2.06-.94 2.06-2.06.94zm-11 1L8.5 8.5l.94-2.06 2.06-.94-2.06-.94L8.5 2.5l-.94 2.06-2.06.94zm10 10l.94 2.06.94-2.06 2.06-.94-2.06-.94-.94-2.06-.94 2.06-2.06.94z\"/><path d=\"M17.41 7.96l-1.37-1.37c-.4-.4-.92-.59-1.43-.59-.52 0-1.04.2-1.43.59L10.3 9.45l-7.72 7.72c-.78.78-.78 2.05 0 2.83L4 21.41c.39.39.9.59 1.41.59.51 0 1.02-.2 1.41-.59l7.78-7.78 2.81-2.81c.8-.78.8-2.07 0-2.86zM5.41 20L4 18.59l7.72-7.72 1.47 1.35L5.41 20z\"/>\n",
              "  </svg>\n",
              "      </button>\n",
              "      \n",
              "  <style>\n",
              "    .colab-df-container {\n",
              "      display:flex;\n",
              "      flex-wrap:wrap;\n",
              "      gap: 12px;\n",
              "    }\n",
              "\n",
              "    .colab-df-convert {\n",
              "      background-color: #E8F0FE;\n",
              "      border: none;\n",
              "      border-radius: 50%;\n",
              "      cursor: pointer;\n",
              "      display: none;\n",
              "      fill: #1967D2;\n",
              "      height: 32px;\n",
              "      padding: 0 0 0 0;\n",
              "      width: 32px;\n",
              "    }\n",
              "\n",
              "    .colab-df-convert:hover {\n",
              "      background-color: #E2EBFA;\n",
              "      box-shadow: 0px 1px 2px rgba(60, 64, 67, 0.3), 0px 1px 3px 1px rgba(60, 64, 67, 0.15);\n",
              "      fill: #174EA6;\n",
              "    }\n",
              "\n",
              "    [theme=dark] .colab-df-convert {\n",
              "      background-color: #3B4455;\n",
              "      fill: #D2E3FC;\n",
              "    }\n",
              "\n",
              "    [theme=dark] .colab-df-convert:hover {\n",
              "      background-color: #434B5C;\n",
              "      box-shadow: 0px 1px 3px 1px rgba(0, 0, 0, 0.15);\n",
              "      filter: drop-shadow(0px 1px 2px rgba(0, 0, 0, 0.3));\n",
              "      fill: #FFFFFF;\n",
              "    }\n",
              "  </style>\n",
              "\n",
              "      <script>\n",
              "        const buttonEl =\n",
              "          document.querySelector('#df-519c1c0b-10ba-4e5e-b3f8-1baad0577163 button.colab-df-convert');\n",
              "        buttonEl.style.display =\n",
              "          google.colab.kernel.accessAllowed ? 'block' : 'none';\n",
              "\n",
              "        async function convertToInteractive(key) {\n",
              "          const element = document.querySelector('#df-519c1c0b-10ba-4e5e-b3f8-1baad0577163');\n",
              "          const dataTable =\n",
              "            await google.colab.kernel.invokeFunction('convertToInteractive',\n",
              "                                                     [key], {});\n",
              "          if (!dataTable) return;\n",
              "\n",
              "          const docLinkHtml = 'Like what you see? Visit the ' +\n",
              "            '<a target=\"_blank\" href=https://colab.research.google.com/notebooks/data_table.ipynb>data table notebook</a>'\n",
              "            + ' to learn more about interactive tables.';\n",
              "          element.innerHTML = '';\n",
              "          dataTable['output_type'] = 'display_data';\n",
              "          await google.colab.output.renderOutput(dataTable, element);\n",
              "          const docLink = document.createElement('div');\n",
              "          docLink.innerHTML = docLinkHtml;\n",
              "          element.appendChild(docLink);\n",
              "        }\n",
              "      </script>\n",
              "    </div>\n",
              "  </div>\n",
              "  "
            ]
          },
          "metadata": {},
          "execution_count": 18
        }
      ]
    },
    {
      "cell_type": "markdown",
      "source": [
        "Evolution"
      ],
      "metadata": {
        "id": "xo7XNB75Wxyl"
      }
    },
    {
      "cell_type": "code",
      "source": [
        "plt.title(\"R Squared Value\")\n",
        "sns.barplot(x='R Squared Value',y='Algorithms',data=Table)"
      ],
      "metadata": {
        "colab": {
          "base_uri": "https://localhost:8080/",
          "height": 312
        },
        "id": "J_0-v1FsTzi0",
        "outputId": "9a2303fe-f38a-495e-9703-e571fa30591c"
      },
      "execution_count": null,
      "outputs": [
        {
          "output_type": "execute_result",
          "data": {
            "text/plain": [
              "<matplotlib.axes._subplots.AxesSubplot at 0x7f9b4242f7d0>"
            ]
          },
          "metadata": {},
          "execution_count": 19
        },
        {
          "output_type": "display_data",
          "data": {
            "text/plain": [
              "<Figure size 432x288 with 1 Axes>"
            ],
            "image/png": "[encoded data removed]"
          },
          "metadata": {
            "needs_background": "light"
          }
        }
      ]
    },
    {
      "cell_type": "code",
      "source": [
        "plt.title(\"Mean Squared Error\")\n",
        "sns.barplot(x='Mean Squared Error',y='Algorithms',data=Table)"
      ],
      "metadata": {
        "colab": {
          "base_uri": "https://localhost:8080/",
          "height": 312
        },
        "id": "XJY3H3DfULDv",
        "outputId": "fc9c433b-b017-45bb-d02f-fc70fa50ffa2"
      },
      "execution_count": null,
      "outputs": [
        {
          "output_type": "execute_result",
          "data": {
            "text/plain": [
              "<matplotlib.axes._subplots.AxesSubplot at 0x7f9b41f68890>"
            ]
          },
          "metadata": {},
          "execution_count": 20
        },
        {
          "output_type": "display_data",
          "data": {
            "text/plain": [
              "<Figure size 432x288 with 1 Axes>"
            ],
            "image/png": "[encoded data removed]"
          },
          "metadata": {
            "needs_background": "light"
          }
        }
      ]
    },
    {
      "cell_type": "code",
      "source": [
        "plt.title(\"Mean Absolute Error\")\n",
        "sns.barplot(x='Mean Absolute Error',y='Algorithms',data=Table)"
      ],
      "metadata": {
        "colab": {
          "base_uri": "https://localhost:8080/",
          "height": 312
        },
        "id": "zL8Wr9H5UQO7",
        "outputId": "aa10bcfb-e6db-4820-a375-82e9df4f5a52"
      },
      "execution_count": null,
      "outputs": [
        {
          "output_type": "execute_result",
          "data": {
            "text/plain": [
              "<matplotlib.axes._subplots.AxesSubplot at 0x7f9b41fa0850>"
            ]
          },
          "metadata": {},
          "execution_count": 21
        },
        {
          "output_type": "display_data",
          "data": {
            "text/plain": [
              "<Figure size 432x288 with 1 Axes>"
            ],
            "image/png": "[encoded data removed]"
          },
          "metadata": {
            "needs_background": "light"
          }
        }
      ]
    },
    {
      "cell_type": "code",
      "source": [
        "Forest.fit(xtrain,ytrain)\n",
        "text=str(input(\"enter your input:\"))\n",
        "print(\"Predicted Value=\",Forest.predict(CV.transform([text])))"
      ],
      "metadata": {
        "colab": {
          "base_uri": "https://localhost:8080/"
        },
        "id": "2cbOHFP0rIhP",
        "outputId": "bb261597-187f-4f3d-875f-63116a6c7127"
      },
      "execution_count": null,
      "outputs": [
        {
          "output_type": "stream",
          "name": "stdout",
          "text": [
            "enter your input:Algeria : 17-07-2020 : Daily ICU occupancy per million\t\n",
            "Predicted Value= [1.39852]\n"
          ]
        }
      ]
    },
    {
      "cell_type": "code",
      "source": [
        ""
      ],
      "metadata": {
        "id": "SxIvHMRmxOJp"
      },
      "execution_count": null,
      "outputs": []
    }
  ]
}