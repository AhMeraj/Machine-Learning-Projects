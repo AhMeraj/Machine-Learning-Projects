{
  "nbformat": 4,
  "nbformat_minor": 0,
  "metadata": {
    "colab": {
      "name": "Maternal health.ipynb",
      "provenance": []
    },
    "kernelspec": {
      "name": "python3",
      "display_name": "Python 3"
    },
    "language_info": {
      "name": "python"
    }
  },
  "cells": [
    {
      "cell_type": "code",
      "execution_count": 1,
      "metadata": {
        "id": "kJaLqksUr0LO"
      },
      "outputs": [],
      "source": [
        "from google.colab import files"
      ]
    },
    {
      "cell_type": "code",
      "source": [
        "files.upload()"
      ],
      "metadata": {
        "colab": {
          "resources": {
            "http://localhost:8080/nbextensions/google.colab/files.js": {
              "data": "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",
              "ok": true,
              "headers": [
                [
                  "content-type",
                  "application/javascript"
                ]
              ],
              "status": 200,
              "status_text": ""
            }
          },
          "base_uri": "https://localhost:8080/",
          "height": 110
        },
        "id": "vebuvKnHsEP4",
        "outputId": "12fb1d55-396b-480c-a229-6e8c6c2002ce"
      },
      "execution_count": 2,
      "outputs": [
        {
          "output_type": "display_data",
          "data": {
            "text/html": [
              "\n",
              "     <input type=\"file\" id=\"files-2cc53847-8aba-44b2-96c6-c988762e87f2\" name=\"files[]\" multiple disabled\n",
              "        style=\"border:none\" />\n",
              "     <output id=\"result-2cc53847-8aba-44b2-96c6-c988762e87f2\">\n",
              "      Upload widget is only available when the cell has been executed in the\n",
              "      current browser session. Please rerun this cell to enable.\n",
              "      </output>\n",
              "      <script src=\"/nbextensions/google.colab/files.js\"></script> "
            ],
            "text/plain": [
              "<IPython.core.display.HTML object>"
            ]
          },
          "metadata": {}
        },
        {
          "output_type": "stream",
          "name": "stdout",
          "text": [
            "Saving Maternal Health Risk Data Set.csv to Maternal Health Risk Data Set (1).csv\n"
          ]
        },
        {
          "output_type": "execute_result",
          "data": {
            "text/plain": [
              "{'Maternal Health Risk Data Set.csv': b'\\xef\\xbb\\xbfAge,SystolicBP,DiastolicBP,BS,BodyTemp,HeartRate,RiskLevel\\r\\n25,130,80,15,98,86,high risk\\r\\n35,140,90,13,98,70,high risk\\r\\n29,90,70,8,100,80,high risk\\r\\n30,140,85,7,98,70,high risk\\r\\n35,120,60,6.1,98,76,low risk\\r\\n23,140,80,7.01,98,70,high risk\\r\\n23,130,70,7.01,98,78,mid risk\\r\\n35,85,60,11,102,86,high risk\\r\\n32,120,90,6.9,98,70,mid risk\\r\\n42,130,80,18,98,70,high risk\\r\\n23,90,60,7.01,98,76,low risk\\r\\n19,120,80,7,98,70,mid risk\\r\\n25,110,89,7.01,98,77,low risk\\r\\n20,120,75,7.01,100,70,mid risk\\r\\n48,120,80,11,98,88,mid risk\\r\\n15,120,80,7.01,98,70,low risk\\r\\n50,140,90,15,98,90,high risk\\r\\n25,140,100,7.01,98,80,high risk\\r\\n30,120,80,6.9,101,76,mid risk\\r\\n10,70,50,6.9,98,70,low risk\\r\\n40,140,100,18,98,90,high risk\\r\\n50,140,80,6.7,98,70,mid risk\\r\\n21,90,65,7.5,98,76,low risk\\r\\n18,90,60,7.5,98,70,low risk\\r\\n21,120,80,7.5,98,76,low risk\\r\\n16,100,70,7.2,98,80,low risk\\r\\n19,120,75,7.2,98,66,low risk\\r\\n22,100,65,7.2,98,70,low risk\\r\\n49,120,90,7.2,98,77,low risk\\r\\n28,90,60,7.2,98,82,low risk\\r\\n20,100,90,7.1,98,88,low risk\\r\\n23,100,85,7.1,98,66,low risk\\r\\n22,120,90,7.1,98,82,low risk\\r\\n21,120,80,7.1,98,77,low risk\\r\\n21,75,50,6.1,98,70,low risk\\r\\n12,95,60,6.1,102,60,low risk\\r\\n60,120,80,6.1,98,75,low risk\\r\\n55,100,65,6.1,98,66,low risk\\r\\n45,120,95,6.1,98,66,low risk\\r\\n35,100,70,6.1,98,66,low risk\\r\\n22,120,85,6.1,98,88,low risk\\r\\n23,120,90,6.1,98,60,low risk\\r\\n25,90,70,6.1,98,80,low risk\\r\\n30,120,80,6.1,98,70,low risk\\r\\n23,120,90,6.1,98,70,low risk\\r\\n32,120,90,7.5,98,70,low risk\\r\\n42,120,80,7.5,98,70,low risk\\r\\n23,90,60,7.5,98,76,low risk\\r\\n15,76,49,7.5,98,77,low risk\\r\\n15,120,80,7,98,70,low risk\\r\\n25,120,80,7,98,66,low risk\\r\\n22,100,65,7,98,80,low risk\\r\\n35,100,70,7,98,60,low risk\\r\\n19,120,85,7,98,60,low risk\\r\\n60,90,65,7,98,77,low risk\\r\\n23,120,90,6.7,98,70,low risk\\r\\n32,120,90,6.4,98,70,low risk\\r\\n42,120,80,6.4,98,70,low risk\\r\\n23,90,60,6.4,98,76,low risk\\r\\n15,76,49,6.4,98,77,low risk\\r\\n15,120,80,7.2,98,70,low risk\\r\\n15,80,60,7,98,80,low risk\\r\\n12,95,60,7.2,98,77,low risk\\r\\n29,90,70,6.7,98,80,mid risk\\r\\n31,120,60,6.1,98,76,mid risk\\r\\n29,130,70,6.7,98,78,mid risk\\r\\n17,85,60,9,102,86,mid risk\\r\\n19,120,80,7,98,70,mid risk\\r\\n20,110,60,7,100,70,mid risk\\r\\n32,120,65,6,101,76,mid risk\\r\\n26,85,60,6,101,86,mid risk\\r\\n29,130,70,7.7,98,78,mid risk\\r\\n19,120,80,7,98,70,mid risk\\r\\n54,130,70,12,98,67,mid risk\\r\\n44,120,90,16,98,80,mid risk\\r\\n23,130,70,6.9,98,70,mid risk\\r\\n22,85,60,6.9,98,76,mid risk\\r\\n55,120,90,12,98,70,mid risk\\r\\n35,120,80,6.9,98,78,mid risk\\r\\n21,90,60,6.9,98,86,mid risk\\r\\n16,90,65,6.9,98,76,mid risk\\r\\n33,115,65,7,98,70,mid risk\\r\\n12,95,60,6.9,98,65,mid risk\\r\\n28,120,90,6.9,98,70,mid risk\\r\\n21,90,65,6.9,98,76,mid risk\\r\\n18,90,60,6.9,98,70,mid risk\\r\\n21,120,80,6.9,98,76,mid risk\\r\\n16,100,70,6.9,98,80,mid risk\\r\\n19,120,75,6.9,98,66,mid risk\\r\\n23,100,85,6.9,98,66,mid risk\\r\\n22,120,90,7.8,98,82,mid risk\\r\\n60,120,85,15,98,60,mid risk\\r\\n13,90,65,7.8,101,80,mid risk\\r\\n23,120,90,7.8,98,60,mid risk\\r\\n28,115,60,7.8,101,86,mid risk\\r\\n50,120,80,7.8,98,70,mid risk\\r\\n29,130,70,7.8,98,78,mid risk\\r\\n19,120,80,7,98,70,mid risk\\r\\n19,120,85,7.8,98,60,mid risk\\r\\n60,90,65,6.8,98,77,mid risk\\r\\n55,120,90,6.8,98,66,mid risk\\r\\n25,120,80,6.8,98,66,mid risk\\r\\n48,140,90,15,98,90,high risk\\r\\n25,140,100,6.8,98,80,high risk\\r\\n23,140,90,6.8,98,70,high risk\\r\\n34,85,60,11,102,86,high risk\\r\\n50,140,90,15,98,90,high risk\\r\\n25,140,100,6.8,98,80,high risk\\r\\n42,140,100,18,98,90,high risk\\r\\n32,140,100,7.9,98,78,high risk\\r\\n50,140,95,17,98,60,high risk\\r\\n38,135,60,7.9,101,86,high risk\\r\\n39,90,70,9,98,80,high risk\\r\\n30,140,100,15,98,70,high risk\\r\\n63,140,90,15,98,90,high risk\\r\\n25,140,100,7.9,98,80,high risk\\r\\n30,120,80,7.9,101,76,high risk\\r\\n55,140,100,18,98,90,high risk\\r\\n32,140,100,7.9,98,78,high risk\\r\\n30,140,100,15,98,70,high risk\\r\\n48,120,80,11,98,88,high risk\\r\\n49,140,90,15,98,90,high risk\\r\\n25,140,100,7.5,98,80,high risk\\r\\n40,160,100,19,98,77,high risk\\r\\n32,140,90,18,98,88,high risk\\r\\n35,140,100,7.5,98,66,high risk\\r\\n54,140,100,15,98,66,high risk\\r\\n55,140,95,19,98,77,high risk\\r\\n29,120,70,9,98,80,high risk\\r\\n48,120,80,11,98,88,high risk\\r\\n40,160,100,19,98,77,high risk\\r\\n32,140,90,18,98,88,high risk\\r\\n35,140,100,7.5,98,66,high risk\\r\\n54,140,100,15,98,66,high risk\\r\\n40,120,95,11,98,80,high risk\\r\\n22,90,60,7.5,102,60,high risk\\r\\n40,120,85,15,98,60,high risk\\r\\n55,140,95,19,98,77,high risk\\r\\n50,130,100,16,98,75,high risk\\r\\n18,120,80,6.9,102,76,mid risk\\r\\n32,140,100,6.9,98,78,high risk\\r\\n17,90,60,6.9,101,76,mid risk\\r\\n17,90,63,6.9,101,70,mid risk\\r\\n25,120,90,6.7,101,80,mid risk\\r\\n17,120,80,6.7,102,76,mid risk\\r\\n14,90,65,7,101,70,high risk\\r\\n15,80,60,6.7,98,80,low risk\\r\\n15,100,65,6.7,98,76,low risk\\r\\n12,95,60,6.7,98,77,low risk\\r\\n37,120,90,11,98,88,high risk\\r\\n18,100,70,6.7,98,76,low risk\\r\\n21,100,85,6.7,98,70,low risk\\r\\n17,110,75,12,101,76,high risk\\r\\n25,120,90,7.5,98,80,low risk\\r\\n23,85,65,7.5,98,70,low risk\\r\\n12,95,60,7.5,98,65,low risk\\r\\n28,120,90,7.5,98,70,low risk\\r\\n40,120,90,12,98,80,high risk\\r\\n55,129,85,7.5,98,88,low risk\\r\\n25,100,90,7.5,98,76,low risk\\r\\n35,120,80,7.5,98,80,low risk\\r\\n21,90,65,7.5,98,76,low risk\\r\\n18,90,60,7.5,98,70,low risk\\r\\n21,120,80,7.5,98,76,low risk\\r\\n16,100,70,7.2,98,80,low risk\\r\\n19,120,75,7.2,98,66,low risk\\r\\n40,160,100,19,98,77,high risk\\r\\n32,140,90,18,98,88,high risk\\r\\n22,100,65,7.2,98,70,low risk\\r\\n49,120,90,7.2,98,77,low risk\\r\\n28,90,60,7.2,98,82,low risk\\r\\n12,90,60,7.9,102,66,high risk\\r\\n20,100,90,7.1,98,88,low risk\\r\\n23,100,85,7.1,98,66,low risk\\r\\n22,120,90,7.1,98,82,low risk\\r\\n21,120,80,7.1,98,77,low risk\\r\\n35,140,100,8,98,66,high risk\\r\\n54,140,100,15,98,66,high risk\\r\\n40,120,95,11,98,80,high risk\\r\\n21,75,50,6.1,98,70,low risk\\r\\n12,95,60,6.1,102,60,low risk\\r\\n60,120,85,15,98,60,high risk\\r\\n55,140,95,19,98,77,high risk\\r\\n50,130,100,16,98,75,high risk\\r\\n60,120,80,6.1,98,75,low risk\\r\\n55,100,65,6.1,98,66,low risk\\r\\n45,120,95,6.1,98,66,low risk\\r\\n35,100,70,6.1,98,66,low risk\\r\\n22,120,85,6.1,98,88,low risk\\r\\n13,90,65,7.9,101,80,mid risk\\r\\n23,120,90,6.1,98,60,low risk\\r\\n17,90,65,6.1,103,67,high risk\\r\\n28,83,60,8,101,86,high risk\\r\\n50,120,80,15,98,70,high risk\\r\\n25,90,70,6.1,98,80,low risk\\r\\n30,120,80,6.1,98,70,low risk\\r\\n31,120,60,6.1,98,76,mid risk\\r\\n23,120,90,6.1,98,70,low risk\\r\\n29,130,70,6.1,98,78,mid risk\\r\\n17,85,60,9,102,86,high risk\\r\\n32,120,90,7.5,98,70,low risk\\r\\n42,120,80,7.5,98,70,low risk\\r\\n23,90,60,7.5,98,76,low risk\\r\\n19,120,80,7,98,70,mid risk\\r\\n15,76,49,7.5,98,77,low risk\\r\\n33,120,75,10,98,70,high risk\\r\\n48,120,80,11,98,88,high risk\\r\\n15,120,80,7,98,70,low risk\\r\\n25,120,80,7,98,66,low risk\\r\\n22,100,65,7,98,80,low risk\\r\\n50,140,95,17,98,60,high risk\\r\\n35,100,70,7,98,60,low risk\\r\\n19,120,85,7,98,60,low risk\\r\\n60,90,65,7,98,77,low risk\\r\\n28,85,60,9,101,86,mid risk\\r\\n50,140,80,6.7,98,70,mid risk\\r\\n29,90,70,6.7,98,80,mid risk\\r\\n30,140,100,15,98,70,high risk\\r\\n31,120,60,6.1,98,76,mid risk\\r\\n23,120,90,6.7,98,70,low risk\\r\\n29,130,70,6.7,98,78,mid risk\\r\\n17,85,60,9,102,86,mid risk\\r\\n32,120,90,6.4,98,70,low risk\\r\\n42,120,80,6.4,98,70,low risk\\r\\n23,90,60,6.4,98,76,low risk\\r\\n19,120,80,7,98,70,mid risk\\r\\n15,76,49,6.4,98,77,low risk\\r\\n29,120,75,7.2,100,70,high risk\\r\\n48,120,80,11,98,88,high risk\\r\\n15,120,80,7.2,98,70,low risk\\r\\n50,140,90,15,98,77,high risk\\r\\n25,140,100,7.2,98,80,high risk\\r\\n55,140,80,7.2,101,76,high risk\\r\\n20,110,60,7,100,70,mid risk\\r\\n40,140,100,18,98,77,high risk\\r\\n28,120,80,9,102,76,high risk\\r\\n32,140,100,8,98,70,high risk\\r\\n17,90,60,11,101,78,high risk\\r\\n17,90,63,8,101,70,high risk\\r\\n25,120,90,12,101,80,high risk\\r\\n17,120,80,7,102,76,high risk\\r\\n19,90,65,11,101,70,high risk\\r\\n15,80,60,7,98,80,low risk\\r\\n32,120,65,6,101,76,mid risk\\r\\n12,95,60,7.2,98,77,low risk\\r\\n37,120,90,11,98,88,high risk\\r\\n18,100,70,6.8,98,76,low risk\\r\\n21,100,85,6.9,98,70,low risk\\r\\n17,110,75,13,101,76,high risk\\r\\n25,120,90,15,98,80,high risk\\r\\n10,85,65,6.9,98,70,low risk\\r\\n12,95,60,6.9,98,65,low risk\\r\\n28,120,90,6.9,98,70,low risk\\r\\n40,120,90,6.9,98,80,low risk\\r\\n55,110,85,6.9,98,88,low risk\\r\\n25,100,90,6.9,98,76,low risk\\r\\n35,120,80,6.9,98,80,low risk\\r\\n21,90,65,6.9,98,76,low risk\\r\\n18,90,60,6.9,98,70,low risk\\r\\n21,120,80,6.9,98,76,low risk\\r\\n16,100,70,6.9,98,80,low risk\\r\\n19,120,75,6.9,98,66,low risk\\r\\n40,160,100,19,98,77,high risk\\r\\n32,140,90,18,98,88,high risk\\r\\n22,100,65,6.9,98,70,low risk\\r\\n49,120,90,6.9,98,77,low risk\\r\\n28,90,60,6.9,98,82,low risk\\r\\n12,90,60,8,102,66,high risk\\r\\n20,100,90,7,98,88,low risk\\r\\n23,100,85,7,98,66,low risk\\r\\n22,120,90,7,98,82,low risk\\r\\n21,120,80,7,98,77,low risk\\r\\n35,140,100,9,98,66,high risk\\r\\n54,140,100,15,98,66,high risk\\r\\n40,120,95,11,98,80,high risk\\r\\n21,75,50,7.7,98,60,low risk\\r\\n12,90,60,11,102,60,high risk\\r\\n60,120,85,15,98,60,high risk\\r\\n55,140,95,19,98,77,high risk\\r\\n50,130,100,16,98,76,high risk\\r\\n60,120,80,7.7,98,75,low risk\\r\\n55,100,65,7.7,98,66,low risk\\r\\n45,120,95,7.7,98,66,low risk\\r\\n35,100,70,7.7,98,66,low risk\\r\\n22,120,85,7.7,98,88,low risk\\r\\n13,90,65,9,101,80,high risk\\r\\n23,120,90,7.7,98,60,low risk\\r\\n17,90,65,7.7,103,67,high risk\\r\\n26,85,60,6,101,86,mid risk\\r\\n50,120,80,7.7,98,70,low risk\\r\\n19,90,70,7.7,98,80,low risk\\r\\n30,120,80,7.7,98,70,low risk\\r\\n31,120,60,6.1,98,76,low risk\\r\\n23,120,80,7.7,98,70,low risk\\r\\n29,130,70,7.7,98,78,mid risk\\r\\n17,85,60,6.3,102,86,high risk\\r\\n32,120,90,7.7,98,70,low risk\\r\\n42,120,80,7.7,98,70,low risk\\r\\n23,90,60,7.7,98,76,low risk\\r\\n19,120,80,7,98,70,mid risk\\r\\n15,75,49,7.7,98,77,low risk\\r\\n40,120,75,7.7,98,70,high risk\\r\\n48,120,80,11,98,88,high risk\\r\\n15,120,80,7.7,98,70,low risk\\r\\n25,120,80,7.7,98,66,low risk\\r\\n22,100,65,6.9,98,80,low risk\\r\\n12,120,95,6.9,98,60,low risk\\r\\n35,100,70,6.9,98,60,low risk\\r\\n19,120,85,6.9,98,60,low risk\\r\\n60,90,65,6.9,98,77,low risk\\r\\n55,120,90,6.9,98,76,low risk\\r\\n35,90,65,6.9,98,75,low risk\\r\\n51,85,60,6.9,98,66,low risk\\r\\n62,120,80,6.9,98,66,low risk\\r\\n25,90,70,6.9,98,66,low risk\\r\\n21,120,80,6.9,98,88,low risk\\r\\n22,120,60,15,98,80,high risk\\r\\n55,120,90,18,98,60,high risk\\r\\n54,130,70,12,98,67,mid risk\\r\\n35,85,60,19,98,86,high risk\\r\\n43,120,90,18,98,70,high risk\\r\\n12,120,80,6.9,98,80,low risk\\r\\n65,90,60,6.9,98,70,low risk\\r\\n60,120,80,6.9,98,76,low risk\\r\\n25,120,90,6.9,98,70,low risk\\r\\n22,90,65,6.9,98,78,low risk\\r\\n66,85,60,6.9,98,86,low risk\\r\\n56,120,80,13,98,70,high risk\\r\\n35,90,70,6.9,98,70,low risk\\r\\n43,120,80,15,98,76,high risk\\r\\n35,120,60,6.9,98,70,low risk\\r\\n44,120,90,16,98,80,mid risk\\r\\n23,130,70,6.9,98,70,mid risk\\r\\n22,85,60,6.9,98,76,mid risk\\r\\n55,120,90,12,98,70,mid risk\\r\\n35,120,80,6.9,98,78,mid risk\\r\\n21,90,60,6.9,98,86,mid risk\\r\\n45,120,80,6.9,103,70,low risk\\r\\n70,85,60,6.9,102,70,low risk\\r\\n65,120,90,6.9,103,76,low risk\\r\\n55,120,80,6.9,102,80,low risk\\r\\n45,90,60,18,101,70,high risk\\r\\n22,120,80,6.9,103,76,low risk\\r\\n16,90,65,6.9,98,76,mid risk\\r\\n12,95,60,6.9,98,77,low risk\\r\\n37,120,90,11,98,88,high risk\\r\\n18,100,70,6.9,98,76,low risk\\r\\n21,100,85,6.9,98,70,low risk\\r\\n17,110,75,6.9,101,76,high risk\\r\\n25,120,90,6.9,98,80,low risk\\r\\n33,115,65,7,98,70,mid risk\\r\\n12,95,60,6.9,98,65,mid risk\\r\\n28,120,90,6.9,98,70,mid risk\\r\\n40,120,90,6.9,98,80,high risk\\r\\n55,110,85,6.9,98,88,high risk\\r\\n25,100,90,6.9,98,76,high risk\\r\\n35,120,80,6.9,98,80,high risk\\r\\n21,90,65,6.9,98,76,mid risk\\r\\n18,90,60,6.9,98,70,mid risk\\r\\n21,120,80,6.9,98,76,mid risk\\r\\n16,100,70,6.9,98,80,mid risk\\r\\n19,120,75,6.9,98,66,mid risk\\r\\n40,160,100,19,98,77,high risk\\r\\n32,140,90,18,98,88,high risk\\r\\n23,100,85,6.9,98,66,mid risk\\r\\n22,120,90,7.8,98,82,mid risk\\r\\n21,120,80,7.8,98,77,low risk\\r\\n35,140,100,7.8,98,66,high risk\\r\\n54,140,100,15,98,66,high risk\\r\\n40,120,95,11,98,80,high risk\\r\\n21,75,50,7.8,98,60,low risk\\r\\n12,90,60,7.8,102,60,high risk\\r\\n60,120,85,15,98,60,mid risk\\r\\n55,140,95,19,98,77,high risk\\r\\n50,130,100,16,98,75,high risk\\r\\n60,120,80,7.8,98,75,high risk\\r\\n55,100,65,7.8,98,66,low risk\\r\\n45,120,95,7.8,98,66,low risk\\r\\n35,100,70,7.8,98,66,low risk\\r\\n22,120,85,7.8,98,88,low risk\\r\\n13,90,65,7.8,101,80,mid risk\\r\\n23,120,90,7.8,98,60,mid risk\\r\\n17,90,65,7.8,103,67,high risk\\r\\n28,115,60,7.8,101,86,mid risk\\r\\n50,120,80,7.8,98,70,mid risk\\r\\n19,90,70,7.8,98,80,low risk\\r\\n30,120,80,7.8,98,70,low risk\\r\\n31,120,60,6.1,98,76,low risk\\r\\n23,120,70,7.8,98,70,low risk\\r\\n29,130,70,7.8,98,78,mid risk\\r\\n17,85,69,7.8,102,86,high risk\\r\\n32,120,90,7.8,98,70,low risk\\r\\n42,120,80,7.8,98,70,low risk\\r\\n23,90,60,7.8,98,76,low risk\\r\\n19,120,80,7,98,70,mid risk\\r\\n15,76,49,7.8,98,77,low risk\\r\\n20,120,75,7.8,98,70,low risk\\r\\n48,120,80,11,98,88,high risk\\r\\n15,120,80,7.8,98,70,low risk\\r\\n25,120,80,7.8,98,66,low risk\\r\\n22,100,65,7.8,98,80,low risk\\r\\n12,120,95,7.8,98,60,low risk\\r\\n35,100,70,7.8,98,60,low risk\\r\\n19,120,85,7.8,98,60,mid risk\\r\\n60,90,65,6.8,98,77,mid risk\\r\\n55,120,90,6.8,98,66,mid risk\\r\\n25,120,80,6.8,98,66,mid risk\\r\\n22,100,65,6.8,98,88,low risk\\r\\n12,120,95,6.8,98,60,mid risk\\r\\n35,100,70,6.8,98,60,mid risk\\r\\n19,120,90,6.8,98,60,mid risk\\r\\n60,90,65,6.8,98,77,mid risk\\r\\n55,120,90,6.8,98,78,low risk\\r\\n50,130,80,16,102,76,mid risk\\r\\n27,120,90,6.8,102,68,mid risk\\r\\n60,140,90,12,98,77,high risk\\r\\n55,100,70,6.8,101,80,mid risk\\r\\n60,140,80,16,98,66,high risk\\r\\n12,120,90,6.8,98,80,mid risk\\r\\n17,140,100,6.8,103,80,high risk\\r\\n60,120,80,6.8,98,77,mid risk\\r\\n22,100,65,6.8,98,88,low risk\\r\\n36,140,100,6.8,102,76,high risk\\r\\n22,90,60,6.8,98,77,low risk\\r\\n25,120,100,6.8,98,60,mid risk\\r\\n35,100,60,15,98,80,high risk\\r\\n40,140,100,13,101,66,high risk\\r\\n27,120,70,6.8,98,77,low risk\\r\\n36,140,100,6.8,102,76,high risk\\r\\n22,90,60,6.8,98,77,mid risk\\r\\n25,120,100,6.8,98,60,low risk\\r\\n35,100,60,15,98,80,high risk\\r\\n40,140,100,13,101,66,high risk\\r\\n27,120,70,6.8,98,77,low risk\\r\\n27,120,70,6.8,98,77,low risk\\r\\n65,130,80,15,98,86,high risk\\r\\n35,140,80,13,98,70,high risk\\r\\n29,90,70,10,98,80,high risk\\r\\n30,120,80,6.8,98,70,mid risk\\r\\n35,120,60,6.1,98,76,mid risk\\r\\n23,140,90,6.8,98,70,high risk\\r\\n23,130,70,6.8,98,78,mid risk\\r\\n35,85,60,11,102,86,high risk\\r\\n32,120,90,6.8,98,70,low risk\\r\\n43,130,80,18,98,70,mid risk\\r\\n23,99,60,6.8,98,76,low risk\\r\\n19,120,80,7,98,70,mid risk\\r\\n15,76,49,6.8,98,77,low risk\\r\\n30,120,75,6.8,98,70,mid risk\\r\\n48,120,80,11,98,88,high risk\\r\\n15,120,80,6.8,98,70,low risk\\r\\n48,140,90,15,98,90,high risk\\r\\n25,140,100,6.8,98,80,high risk\\r\\n29,100,70,6.8,98,80,low risk\\r\\n32,120,80,6.8,98,70,mid risk\\r\\n35,120,60,6.1,98,76,low risk\\r\\n23,140,90,6.8,98,70,high risk\\r\\n23,130,70,6.8,98,78,mid risk\\r\\n34,85,60,11,102,86,high risk\\r\\n32,120,90,6.8,98,70,low risk\\r\\n42,130,80,18,98,70,mid risk\\r\\n23,90,60,6.8,98,76,low risk\\r\\n19,120,80,7,98,70,mid risk\\r\\n15,76,49,6.8,98,77,low risk\\r\\n20,120,75,6.8,98,70,low risk\\r\\n48,120,80,11,98,88,low risk\\r\\n15,120,80,6.8,98,70,low risk\\r\\n50,140,90,15,98,90,high risk\\r\\n25,140,100,6.8,98,80,high risk\\r\\n30,120,80,6.8,101,76,low risk\\r\\n31,110,90,6.8,100,70,mid risk\\r\\n42,140,100,18,98,90,high risk\\r\\n18,120,80,6.8,102,76,low risk\\r\\n32,140,100,7.9,98,78,high risk\\r\\n17,90,60,7.9,101,76,low risk\\r\\n19,120,80,7,98,70,mid risk\\r\\n15,76,49,7.9,98,77,low risk\\r\\n19,120,75,7.9,98,70,low risk\\r\\n48,120,80,11,98,88,low risk\\r\\n15,120,80,7.9,98,70,low risk\\r\\n25,120,80,7.9,98,66,mid risk\\r\\n22,100,65,7.9,98,80,low risk\\r\\n50,140,95,17,98,60,high risk\\r\\n35,100,70,7.9,98,60,low risk\\r\\n19,120,85,7.9,98,60,low risk\\r\\n60,90,65,7.9,98,77,low risk\\r\\n38,135,60,7.9,101,86,high risk\\r\\n50,120,80,7.9,98,70,low risk\\r\\n39,90,70,9,98,80,high risk\\r\\n30,140,100,15,98,70,high risk\\r\\n31,120,60,6.1,98,76,mid risk\\r\\n23,120,90,7.9,98,70,mid risk\\r\\n29,130,70,7.9,98,78,mid risk\\r\\n17,85,60,7.9,102,86,low risk\\r\\n32,120,90,7.9,98,70,low risk\\r\\n42,120,80,7.9,98,70,low risk\\r\\n23,90,60,7.9,98,76,low risk\\r\\n19,120,80,7,98,70,low risk\\r\\n15,76,49,7.9,98,77,low risk\\r\\n16,120,75,7.9,98,7,low risk\\r\\n48,120,80,11,98,88,mid risk\\r\\n15,120,80,7.9,98,70,low risk\\r\\n63,140,90,15,98,90,high risk\\r\\n25,140,100,7.9,98,80,high risk\\r\\n30,120,80,7.9,101,76,high risk\\r\\n17,70,50,7.9,98,70,low risk\\r\\n55,140,100,18,98,90,high risk\\r\\n18,120,80,7.9,102,76,mid risk\\r\\n32,140,100,7.9,98,78,high risk\\r\\n17,90,60,7.5,101,76,low risk\\r\\n17,90,63,7.5,101,70,low risk\\r\\n25,120,90,7.5,101,80,low risk\\r\\n17,120,80,7.5,102,76,low risk\\r\\n19,90,65,7.5,101,70,low risk\\r\\n15,80,60,7.5,98,80,low risk\\r\\n60,90,65,7.5,98,77,low risk\\r\\n18,85,60,7.5,101,86,mid risk\\r\\n50,120,80,7.5,98,70,low risk\\r\\n19,90,70,7.5,98,80,low risk\\r\\n30,140,100,15,98,70,high risk\\r\\n31,120,60,6.1,98,76,low risk\\r\\n23,120,90,7.5,98,70,low risk\\r\\n29,130,70,7.5,98,78,mid risk\\r\\n17,85,60,7.5,102,86,low risk\\r\\n32,120,90,7.5,98,70,low risk\\r\\n42,120,80,7.5,98,70,low risk\\r\\n42,90,60,7.5,98,76,low risk\\r\\n19,120,80,7,98,70,low risk\\r\\n15,78,49,7.5,98,77,low risk\\r\\n23,120,75,8,98,70,mid risk\\r\\n48,120,80,11,98,88,high risk\\r\\n15,120,80,7.5,98,70,mid risk\\r\\n49,140,90,15,98,90,high risk\\r\\n25,140,100,7.5,98,80,high risk\\r\\n30,120,80,7.5,101,76,mid risk\\r\\n16,70,50,7.5,100,70,low risk\\r\\n16,100,70,7.5,98,80,low risk\\r\\n19,120,75,7.5,98,66,low risk\\r\\n40,160,100,19,98,77,high risk\\r\\n32,140,90,18,98,88,high risk\\r\\n22,100,65,7.5,98,70,low risk\\r\\n49,120,90,7.5,98,77,low risk\\r\\n28,90,60,7.5,98,82,low risk\\r\\n12,90,60,7.5,102,66,low risk\\r\\n20,100,90,7.5,98,88,low risk\\r\\n23,100,85,7.5,98,66,low risk\\r\\n22,120,90,7.5,98,82,low risk\\r\\n21,120,80,7.5,98,77,low risk\\r\\n35,140,100,7.5,98,66,high risk\\r\\n54,140,100,15,98,66,high risk\\r\\n40,120,95,11,98,80,mid risk\\r\\n21,75,50,7.5,98,60,low risk\\r\\n12,90,60,7.5,102,60,low risk\\r\\n60,120,85,15,98,60,mid risk\\r\\n55,140,95,19,98,77,high risk\\r\\n50,130,100,16,98,75,mid risk\\r\\n60,120,80,7.5,98,75,low risk\\r\\n55,100,65,7.5,98,66,low risk\\r\\n45,120,95,7.5,98,66,low risk\\r\\n35,100,70,7.5,98,66,low risk\\r\\n22,120,85,7.5,98,88,low risk\\r\\n13,90,65,7.5,101,80,low risk\\r\\n23,120,90,7.5,98,60,low risk\\r\\n17,90,65,7.5,103,67,low risk\\r\\n28,115,60,7.5,101,86,mid risk\\r\\n59,120,80,7.5,98,70,low risk\\r\\n29,120,70,9,98,80,high risk\\r\\n23,120,80,7.5,98,70,low risk\\r\\n31,120,60,6.1,98,76,mid risk\\r\\n23,120,80,7.5,98,70,mid risk\\r\\n29,130,70,7.5,98,78,mid risk\\r\\n17,85,60,7.5,102,86,low risk\\r\\n32,120,90,7.5,98,70,low risk\\r\\n42,120,80,7.5,98,70,low risk\\r\\n23,90,60,7.5,98,76,low risk\\r\\n19,120,80,7,98,70,low risk\\r\\n15,78,49,7.5,98,77,low risk\\r\\n20,120,75,7.5,98,70,low risk\\r\\n48,120,80,11,98,88,high risk\\r\\n15,120,80,7.5,98,70,low risk\\r\\n24,120,80,7.5,98,66,low risk\\r\\n16,100,70,7.5,98,80,low risk\\r\\n19,120,76,7.5,98,66,low risk\\r\\n40,160,100,19,98,77,high risk\\r\\n32,140,90,18,98,88,high risk\\r\\n22,100,65,7.5,98,70,mid risk\\r\\n49,120,90,7.5,98,77,mid risk\\r\\n28,90,60,7.5,98,82,mid risk\\r\\n12,90,60,7.5,102,66,mid risk\\r\\n20,100,90,7.5,98,88,mid risk\\r\\n23,100,85,7.5,98,66,mid risk\\r\\n22,120,90,7.5,98,82,mid risk\\r\\n21,120,80,7.5,98,77,mid risk\\r\\n35,140,100,7.5,98,66,high risk\\r\\n54,140,100,15,98,66,high risk\\r\\n40,120,95,11,98,80,high risk\\r\\n21,75,50,7.5,98,60,low risk\\r\\n22,90,60,7.5,102,60,high risk\\r\\n40,120,85,15,98,60,high risk\\r\\n55,140,95,19,98,77,high risk\\r\\n50,130,100,16,98,75,high risk\\r\\n60,120,80,7.5,98,75,mid risk\\r\\n40,120,85,15,98,60,high risk\\r\\n55,140,95,19,98,77,high risk\\r\\n50,130,100,16,98,75,mid risk\\r\\n41,120,80,7.5,98,75,low risk\\r\\n55,100,65,7.5,98,66,low risk\\r\\n45,120,95,7.5,98,66,low risk\\r\\n35,100,70,7.5,98,66,low risk\\r\\n22,120,85,7.5,98,88,low risk\\r\\n13,90,65,7.5,101,80,high risk\\r\\n23,120,90,7.5,98,60,low risk\\r\\n17,90,65,7.5,103,67,mid risk\\r\\n27,135,60,7.5,101,86,high risk\\r\\n50,120,80,15,98,70,high risk\\r\\n34,110,70,7,98,80,high risk\\r\\n32,120,80,7.5,98,70,low risk\\r\\n31,120,60,6.1,98,76,low risk\\r\\n23,120,90,7.5,98,70,low risk\\r\\n29,130,70,7.5,98,78,mid risk\\r\\n17,85,60,7.5,101,86,high risk\\r\\n32,120,90,7.5,98,70,low risk\\r\\n42,120,80,7.5,98,70,low risk\\r\\n23,90,60,7.5,98,76,low risk\\r\\n19,120,80,7,98,70,mid risk\\r\\n15,76,49,7.5,98,77,low risk\\r\\n20,120,76,7.5,98,70,low risk\\r\\n48,120,80,11,98,88,high risk\\r\\n15,120,80,7.5,98,70,low risk\\r\\n24,120,80,7.5,98,66,low risk\\r\\n22,100,65,12,98,80,high risk\\r\\n50,140,95,17,98,60,high risk\\r\\n35,100,70,11,98,60,high risk\\r\\n19,120,85,9,98,60,mid risk\\r\\n30,90,65,8,98,77,mid risk\\r\\n28,85,60,9,101,86,mid risk\\r\\n50,130,80,15,98,86,high risk\\r\\n35,140,90,13,98,70,high risk\\r\\n29,90,70,11,100,80,high risk\\r\\n19,120,60,7,98.4,70,low risk\\r\\n46,140,100,12,99,90,high risk\\r\\n28,95,60,10,101,86,high risk\\r\\n50,120,80,7,98,70,mid risk\\r\\n39,110,70,7.9,98,80,mid risk\\r\\n25,140,100,15,98.6,70,high risk\\r\\n31,120,60,6.1,98,76,low risk\\r\\n23,120,85,8,98,70,low risk\\r\\n29,130,70,8,98,78,mid risk\\r\\n17,90,60,9,102,86,mid risk\\r\\n32,120,90,7,100,70,mid risk\\r\\n42,120,90,9,98,70,mid risk\\r\\n23,90,60,6.7,98,76,low risk\\r\\n19,120,80,7,98,70,low risk\\r\\n15,76,68,7,98,77,low risk\\r\\n34,120,75,8,98,70,low risk\\r\\n48,120,80,11,98,88,high risk\\r\\n15,120,80,6.6,99,70,low risk\\r\\n27,140,90,15,98,90,high risk\\r\\n25,140,100,12,99,80,high risk\\r\\n36,120,90,7,98,82,mid risk\\r\\n30,120,80,9,101,76,mid risk\\r\\n15,70,50,6,98,70,mid risk\\r\\n40,120,95,7,98,70,high risk\\r\\n15,90,60,6,98,80,low risk\\r\\n21,90,50,6.9,98,60,low risk\\r\\n15,90,49,6,98,77,low risk\\r\\n21,90,50,6.5,98,60,low risk\\r\\n15,90,49,6,98,77,low risk\\r\\n15,90,49,6.7,99,77,low risk\\r\\n15,90,49,6,99,77,low risk\\r\\n10,100,50,6,99,70,mid risk\\r\\n15,100,49,6.8,99,77,low risk\\r\\n15,100,49,6,99,77,low risk\\r\\n12,100,50,6.4,98,70,mid risk\\r\\n15,100,60,6,98,80,low risk\\r\\n35,140,90,13,98,70,high risk\\r\\n29,90,70,8,100,80,high risk\\r\\n30,140,85,7,98,70,high risk\\r\\n23,140,80,7.01,98,70,high risk\\r\\n35,85,60,11,102,86,high risk\\r\\n42,130,80,18,98,70,high risk\\r\\n50,140,90,15,98,90,high risk\\r\\n25,140,100,7.01,98,80,high risk\\r\\n40,140,100,18,98,90,high risk\\r\\n32,140,100,6.9,98,78,high risk\\r\\n14,90,65,7,101,70,high risk\\r\\n37,120,90,11,98,88,high risk\\r\\n17,110,75,12,101,76,high risk\\r\\n40,120,90,12,98,80,high risk\\r\\n40,160,100,19,98,77,high risk\\r\\n20,120,76,7.5,98,70,low risk\\r\\n15,120,80,7.5,98,70,low risk\\r\\n24,120,80,7.5,98,66,low risk\\r\\n19,120,60,7,98.4,70,low risk\\r\\n31,120,60,6.1,98,76,low risk\\r\\n23,120,85,8,98,70,low risk\\r\\n23,90,60,6.7,98,76,low risk\\r\\n19,120,80,7,98,70,low risk\\r\\n15,76,68,7,98,77,low risk\\r\\n34,120,75,8,98,70,low risk\\r\\n15,120,80,6.6,99,70,low risk\\r\\n15,90,60,6,98,80,low risk\\r\\n21,90,50,6.9,98,60,low risk\\r\\n15,100,49,7.6,98,77,low risk\\r\\n12,100,50,6,98,70,mid risk\\r\\n21,100,50,6.8,98,60,low risk\\r\\n23,130,70,7.01,98,78,mid risk\\r\\n32,120,90,6.9,98,70,mid risk\\r\\n19,120,80,7,98,70,mid risk\\r\\n20,120,75,7.01,100,70,mid risk\\r\\n48,120,80,11,98,88,mid risk\\r\\n30,120,80,6.9,101,76,mid risk\\r\\n18,120,80,6.9,102,76,mid risk\\r\\n17,90,60,6.9,101,76,mid risk\\r\\n17,90,63,6.9,101,70,mid risk\\r\\n25,120,90,6.7,101,80,mid risk\\r\\n17,120,80,6.7,102,76,mid risk\\r\\n13,90,65,7.9,101,80,mid risk\\r\\n31,120,60,6.1,98,76,mid risk\\r\\n29,130,70,6.1,98,78,mid risk\\r\\n19,120,80,7,98,70,mid risk\\r\\n28,85,60,9,101,86,mid risk\\r\\n50,140,80,6.7,98,70,mid risk\\r\\n29,90,70,6.7,98,80,mid risk\\r\\n31,120,60,6.1,98,76,mid risk\\r\\n29,130,70,6.7,98,78,mid risk\\r\\n17,85,60,9,102,86,mid risk\\r\\n19,120,80,7,98,70,mid risk\\r\\n20,110,60,7,100,70,mid risk\\r\\n19,120,80,7,98,70,mid risk\\r\\n20,120,75,7.01,100,70,mid risk\\r\\n48,120,80,11,98,88,mid risk\\r\\n30,120,80,6.9,101,76,mid risk\\r\\n18,120,80,6.9,102,76,mid risk\\r\\n17,90,60,6.9,101,76,mid risk\\r\\n17,90,63,6.9,101,70,mid risk\\r\\n25,120,90,6.7,101,80,mid risk\\r\\n17,120,80,6.7,102,76,mid risk\\r\\n13,90,65,7.9,101,80,mid risk\\r\\n31,120,60,6.1,98,76,mid risk\\r\\n29,130,70,6.1,98,78,mid risk\\r\\n19,120,80,7,98,70,mid risk\\r\\n28,85,60,9,101,86,mid risk\\r\\n50,140,80,6.7,98,70,mid risk\\r\\n29,90,70,6.7,98,80,mid risk\\r\\n31,120,60,6.1,98,76,mid risk\\r\\n29,130,70,6.7,98,78,mid risk\\r\\n17,85,60,9,102,86,mid risk\\r\\n19,120,80,7,98,70,mid risk\\r\\n20,110,60,7,100,70,mid risk\\r\\n32,120,65,6,101,76,mid risk\\r\\n26,85,60,6,101,86,mid risk\\r\\n29,130,70,7.7,98,78,mid risk\\r\\n19,120,80,7,98,70,mid risk\\r\\n54,130,70,12,98,67,mid risk\\r\\n44,120,90,16,98,80,mid risk\\r\\n23,130,70,6.9,98,70,mid risk\\r\\n22,85,60,6.9,98,76,mid risk\\r\\n55,120,90,12,98,70,mid risk\\r\\n35,120,80,6.9,98,78,mid risk\\r\\n21,90,60,6.9,98,86,mid risk\\r\\n16,90,65,6.9,98,76,mid risk\\r\\n33,115,65,7,98,70,mid risk\\r\\n12,95,60,6.9,98,65,mid risk\\r\\n28,120,90,6.9,98,70,mid risk\\r\\n21,90,65,6.9,98,76,mid risk\\r\\n18,90,60,6.9,98,70,mid risk\\r\\n21,120,80,6.9,98,76,mid risk\\r\\n16,100,70,6.9,98,80,mid risk\\r\\n19,120,75,6.9,98,66,mid risk\\r\\n23,100,85,6.9,98,66,mid risk\\r\\n22,120,90,7.8,98,82,mid risk\\r\\n60,120,85,15,98,60,mid risk\\r\\n13,90,65,7.8,101,80,mid risk\\r\\n23,120,90,7.8,98,60,mid risk\\r\\n28,115,60,7.8,101,86,mid risk\\r\\n50,120,80,7.8,98,70,mid risk\\r\\n29,130,70,7.8,98,78,mid risk\\r\\n19,120,80,7,98,70,mid risk\\r\\n19,120,85,7.8,98,60,mid risk\\r\\n60,90,65,6.8,98,77,mid risk\\r\\n55,120,90,6.8,98,66,mid risk\\r\\n25,120,80,6.8,98,66,mid risk\\r\\n12,120,95,6.8,98,60,mid risk\\r\\n35,100,70,6.8,98,60,mid risk\\r\\n19,120,90,6.8,98,60,mid risk\\r\\n60,90,65,6.8,98,77,mid risk\\r\\n50,130,80,16,102,76,mid risk\\r\\n27,120,90,6.8,102,68,mid risk\\r\\n55,100,70,6.8,101,80,mid risk\\r\\n12,120,90,6.8,98,80,mid risk\\r\\n60,120,80,6.8,98,77,mid risk\\r\\n25,120,100,6.8,98,60,mid risk\\r\\n22,90,60,6.8,98,77,mid risk\\r\\n30,120,80,6.8,98,70,mid risk\\r\\n35,120,60,6.1,98,76,mid risk\\r\\n23,130,70,6.8,98,78,mid risk\\r\\n43,130,80,18,98,70,mid risk\\r\\n19,120,80,7,98,70,mid risk\\r\\n30,120,75,6.8,98,70,mid risk\\r\\n32,120,80,6.8,98,70,mid risk\\r\\n23,130,70,6.8,98,78,mid risk\\r\\n42,130,80,18,98,70,mid risk\\r\\n19,120,80,7,98,70,mid risk\\r\\n31,110,90,6.8,100,70,mid risk\\r\\n19,120,80,7,98,70,mid risk\\r\\n25,120,80,7.9,98,66,mid risk\\r\\n31,120,60,6.1,98,76,mid risk\\r\\n23,120,90,7.9,98,70,mid risk\\r\\n29,130,70,7.9,98,78,mid risk\\r\\n48,120,80,11,98,88,mid risk\\r\\n18,120,80,7.9,102,76,mid risk\\r\\n18,85,60,7.5,101,86,mid risk\\r\\n29,130,70,7.5,98,78,mid risk\\r\\n23,120,75,8,98,70,mid risk\\r\\n15,120,80,7.5,98,70,mid risk\\r\\n30,120,80,7.5,101,76,mid risk\\r\\n40,120,95,11,98,80,mid risk\\r\\n60,120,85,15,98,60,mid risk\\r\\n50,130,100,16,98,75,mid risk\\r\\n28,115,60,7.5,101,86,mid risk\\r\\n31,120,60,6.1,98,76,mid risk\\r\\n23,120,80,7.5,98,70,mid risk\\r\\n29,130,70,7.5,98,78,mid risk\\r\\n22,100,65,7.5,98,70,mid risk\\r\\n49,120,90,7.5,98,77,mid risk\\r\\n28,90,60,7.5,98,82,mid risk\\r\\n12,90,60,7.5,102,66,mid risk\\r\\n20,100,90,7.5,98,88,mid risk\\r\\n23,100,85,7.5,98,66,mid risk\\r\\n22,120,90,7.5,98,82,mid risk\\r\\n21,120,80,7.5,98,77,mid risk\\r\\n60,120,80,7.5,98,75,mid risk\\r\\n50,130,100,16,98,75,mid risk\\r\\n17,90,65,7.5,103,67,mid risk\\r\\n29,130,70,7.5,98,78,mid risk\\r\\n19,120,80,7,98,70,mid risk\\r\\n19,120,85,9,98,60,mid risk\\r\\n30,90,65,8,98,77,mid risk\\r\\n28,85,60,9,101,86,mid risk\\r\\n50,120,80,7,98,70,mid risk\\r\\n39,110,70,7.9,98,80,mid risk\\r\\n29,130,70,8,98,78,mid risk\\r\\n17,90,60,9,102,86,mid risk\\r\\n32,120,90,7,100,70,mid risk\\r\\n42,120,90,9,98,70,mid risk\\r\\n36,120,90,7,98,82,mid risk\\r\\n30,120,80,9,101,76,mid risk\\r\\n15,70,50,6,98,70,mid risk\\r\\n10,100,50,6,99,70,mid risk\\r\\n12,100,50,6.4,98,70,mid risk\\r\\n12,100,50,6,98,70,mid risk\\r\\n23,130,70,7.01,98,78,mid risk\\r\\n32,120,90,6.9,98,70,mid risk\\r\\n19,120,80,7,98,70,mid risk\\r\\n20,120,75,7.01,100,70,mid risk\\r\\n48,120,80,11,98,88,mid risk\\r\\n30,120,80,6.9,101,76,mid risk\\r\\n18,120,80,6.9,102,76,mid risk\\r\\n17,90,60,6.9,101,76,mid risk\\r\\n17,90,63,6.9,101,70,mid risk\\r\\n25,120,90,6.7,101,80,mid risk\\r\\n17,120,80,6.7,102,76,mid risk\\r\\n13,90,65,7.9,101,80,mid risk\\r\\n31,120,60,6.1,98,76,mid risk\\r\\n29,130,70,6.1,98,78,mid risk\\r\\n19,120,80,7,98,70,mid risk\\r\\n28,85,60,9,101,86,mid risk\\r\\n50,140,80,6.7,98,70,mid risk\\r\\n29,90,70,6.7,98,80,mid risk\\r\\n31,120,60,6.1,98,76,mid risk\\r\\n29,130,70,6.7,98,78,mid risk\\r\\n17,85,60,9,102,86,mid risk\\r\\n19,120,80,7,98,70,mid risk\\r\\n20,110,60,7,100,70,mid risk\\r\\n32,120,65,6,101,76,mid risk\\r\\n27,120,70,6.8,98,77,low risk\\r\\n27,120,70,6.8,98,77,low risk\\r\\n32,120,90,6.8,98,70,low risk\\r\\n23,99,60,6.8,98,76,low risk\\r\\n15,76,49,6.8,98,77,low risk\\r\\n15,120,80,6.8,98,70,low risk\\r\\n29,100,70,6.8,98,80,low risk\\r\\n35,120,60,6.1,98,76,low risk\\r\\n32,120,90,6.8,98,70,low risk\\r\\n23,90,60,6.8,98,76,low risk\\r\\n15,76,49,6.8,98,77,low risk\\r\\n20,120,75,6.8,98,70,low risk\\r\\n48,120,80,11,98,88,low risk\\r\\n15,120,80,6.8,98,70,low risk\\r\\n30,120,80,6.8,101,76,low risk\\r\\n18,120,80,6.8,102,76,low risk\\r\\n17,90,60,7.9,101,76,low risk\\r\\n15,76,49,7.9,98,77,low risk\\r\\n19,120,75,7.9,98,70,low risk\\r\\n48,120,80,11,98,88,low risk\\r\\n15,120,80,7.9,98,70,low risk\\r\\n22,100,65,7.9,98,80,low risk\\r\\n35,100,70,7.9,98,60,low risk\\r\\n19,120,85,7.9,98,60,low risk\\r\\n60,90,65,7.9,98,77,low risk\\r\\n50,120,80,7.9,98,70,low risk\\r\\n17,85,60,7.9,102,86,low risk\\r\\n32,120,90,7.9,98,70,low risk\\r\\n42,120,80,7.9,98,70,low risk\\r\\n23,90,60,7.9,98,76,low risk\\r\\n19,120,80,7,98,70,low risk\\r\\n15,76,49,7.9,98,77,low risk\\r\\n16,120,75,7.9,98,7,low risk\\r\\n15,120,80,7.9,98,70,low risk\\r\\n17,70,50,7.9,98,70,low risk\\r\\n17,90,60,7.5,101,76,low risk\\r\\n17,90,63,7.5,101,70,low risk\\r\\n25,120,90,7.5,101,80,low risk\\r\\n17,120,80,7.5,102,76,low risk\\r\\n19,90,65,7.5,101,70,low risk\\r\\n15,80,60,7.5,98,80,low risk\\r\\n60,90,65,7.5,98,77,low risk\\r\\n50,120,80,7.5,98,70,low risk\\r\\n19,90,70,7.5,98,80,low risk\\r\\n31,120,60,6.1,98,76,low risk\\r\\n23,120,90,7.5,98,70,low risk\\r\\n17,85,60,7.5,102,86,low risk\\r\\n32,120,90,7.5,98,70,low risk\\r\\n42,120,80,7.5,98,70,low risk\\r\\n42,90,60,7.5,98,76,low risk\\r\\n19,120,80,7,98,70,low risk\\r\\n15,78,49,7.5,98,77,low risk\\r\\n16,70,50,7.5,100,70,low risk\\r\\n16,100,70,7.5,98,80,low risk\\r\\n19,120,75,7.5,98,66,low risk\\r\\n22,100,65,7.5,98,70,low risk\\r\\n49,120,90,7.5,98,77,low risk\\r\\n28,90,60,7.5,98,82,low risk\\r\\n12,90,60,7.5,102,66,low risk\\r\\n20,100,90,7.5,98,88,low risk\\r\\n23,100,85,7.5,98,66,low risk\\r\\n22,120,90,7.5,98,82,low risk\\r\\n21,120,80,7.5,98,77,low risk\\r\\n21,75,50,7.5,98,60,low risk\\r\\n12,90,60,7.5,102,60,low risk\\r\\n60,120,80,7.5,98,75,low risk\\r\\n55,100,65,7.5,98,66,low risk\\r\\n45,120,95,7.5,98,66,low risk\\r\\n35,100,70,7.5,98,66,low risk\\r\\n22,120,85,7.5,98,88,low risk\\r\\n13,90,65,7.5,101,80,low risk\\r\\n23,120,90,7.5,98,60,low risk\\r\\n17,90,65,7.5,103,67,low risk\\r\\n59,120,80,7.5,98,70,low risk\\r\\n23,120,80,7.5,98,70,low risk\\r\\n17,85,60,7.5,102,86,low risk\\r\\n32,120,90,7.5,98,70,low risk\\r\\n42,120,80,7.5,98,70,low risk\\r\\n25,140,100,7.01,98,80,high risk\\r\\n40,140,100,18,98,90,high risk\\r\\n32,140,100,6.9,98,78,high risk\\r\\n14,90,65,7,101,70,high risk\\r\\n37,120,90,11,98,88,high risk\\r\\n17,110,75,12,101,76,high risk\\r\\n40,120,90,12,98,80,high risk\\r\\n40,160,100,19,98,77,high risk\\r\\n32,140,90,18,98,88,high risk\\r\\n12,90,60,7.9,102,66,high risk\\r\\n35,140,100,8,98,66,high risk\\r\\n54,140,100,15,98,66,high risk\\r\\n40,120,95,11,98,80,high risk\\r\\n60,120,85,15,98,60,high risk\\r\\n55,140,95,19,98,77,high risk\\r\\n50,130,100,16,98,75,high risk\\r\\n17,90,65,6.1,103,67,high risk\\r\\n28,83,60,8,101,86,high risk\\r\\n50,120,80,15,98,70,high risk\\r\\n17,85,60,9,102,86,high risk\\r\\n33,120,75,10,98,70,high risk\\r\\n48,120,80,11,98,88,high risk\\r\\n50,140,95,17,98,60,high risk\\r\\n30,140,100,15,98,70,high risk\\r\\n29,120,75,7.2,100,70,high risk\\r\\n48,120,80,11,98,88,high risk\\r\\n50,140,90,15,98,77,high risk\\r\\n25,140,100,7.2,98,80,high risk\\r\\n55,140,80,7.2,101,76,high risk\\r\\n40,140,100,18,98,77,high risk\\r\\n28,120,80,9,102,76,high risk\\r\\n32,140,100,8,98,70,high risk\\r\\n17,90,60,11,101,78,high risk\\r\\n17,90,63,8,101,70,high risk\\r\\n25,120,90,12,101,80,high risk\\r\\n17,120,80,7,102,76,high risk\\r\\n19,90,65,11,101,70,high risk\\r\\n37,120,90,11,98,88,high risk\\r\\n17,110,75,13,101,76,high risk\\r\\n25,120,90,15,98,80,high risk\\r\\n40,160,100,19,98,77,high risk\\r\\n32,140,90,18,98,88,high risk\\r\\n12,90,60,8,102,66,high risk\\r\\n35,140,100,9,98,66,high risk\\r\\n54,140,100,15,98,66,high risk\\r\\n40,120,95,11,98,80,high risk\\r\\n12,90,60,11,102,60,high risk\\r\\n60,120,85,15,98,60,high risk\\r\\n55,140,95,19,98,77,high risk\\r\\n50,130,100,16,98,76,high risk\\r\\n13,90,65,9,101,80,high risk\\r\\n17,90,65,7.7,103,67,high risk\\r\\n17,85,60,6.3,102,86,high risk\\r\\n40,120,75,7.7,98,70,high risk\\r\\n48,120,80,11,98,88,high risk\\r\\n22,120,60,15,98,80,high risk\\r\\n55,120,90,18,98,60,high risk\\r\\n35,85,60,19,98,86,high risk\\r\\n43,120,90,18,98,70,high risk\\r\\n32,120,65,6,101,76,mid risk\\r\\n'}"
            ]
          },
          "metadata": {},
          "execution_count": 2
        }
      ]
    },
    {
      "cell_type": "code",
      "source": [
        "import numpy as np\n",
        "import pandas as pd\n",
        "import matplotlib.pyplot as plt\n",
        "import seaborn as sns\n",
        "from sklearn.preprocessing import StandardScaler\n",
        "from sklearn.feature_selection import SelectKBest\n",
        "from sklearn.model_selection import train_test_split,cross_val_score\n",
        "from sklearn.ensemble import ExtraTreesClassifier,RandomForestClassifier\n",
        "from sklearn.neighbors import KNeighborsClassifier\n",
        "from sklearn.naive_bayes import GaussianNB,BernoulliNB\n",
        "from sklearn.svm import SVC\n",
        "from sklearn.linear_model import LogisticRegression\n",
        "from sklearn.tree import DecisionTreeClassifier"
      ],
      "metadata": {
        "id": "i8D9wKQ-s4oR"
      },
      "execution_count": 3,
      "outputs": []
    },
    {
      "cell_type": "code",
      "source": [
        "df=pd.read_csv('Maternal Health Risk Data Set.csv')"
      ],
      "metadata": {
        "id": "dHEHp0mYs4lk"
      },
      "execution_count": 4,
      "outputs": []
    },
    {
      "cell_type": "code",
      "source": [
        "df"
      ],
      "metadata": {
        "colab": {
          "base_uri": "https://localhost:8080/",
          "height": 424
        },
        "id": "bSquYINRuXDw",
        "outputId": "5ad6bb37-9a52-4738-e049-545960c43ea0"
      },
      "execution_count": 5,
      "outputs": [
        {
          "output_type": "execute_result",
          "data": {
            "text/html": [
              "\n",
              "  <div id=\"df-ecbcedd6-3e21-4713-88b8-d6c610efcd79\">\n",
              "    <div class=\"colab-df-container\">\n",
              "      <div>\n",
              "<style scoped>\n",
              "    .dataframe tbody tr th:only-of-type {\n",
              "        vertical-align: middle;\n",
              "    }\n",
              "\n",
              "    .dataframe tbody tr th {\n",
              "        vertical-align: top;\n",
              "    }\n",
              "\n",
              "    .dataframe thead th {\n",
              "        text-align: right;\n",
              "    }\n",
              "</style>\n",
              "<table border=\"1\" class=\"dataframe\">\n",
              "  <thead>\n",
              "    <tr style=\"text-align: right;\">\n",
              "      <th></th>\n",
              "      <th>Age</th>\n",
              "      <th>SystolicBP</th>\n",
              "      <th>DiastolicBP</th>\n",
              "      <th>BS</th>\n",
              "      <th>BodyTemp</th>\n",
              "      <th>HeartRate</th>\n",
              "      <th>RiskLevel</th>\n",
              "    </tr>\n",
              "  </thead>\n",
              "  <tbody>\n",
              "    <tr>\n",
              "      <th>0</th>\n",
              "      <td>25</td>\n",
              "      <td>130</td>\n",
              "      <td>80</td>\n",
              "      <td>15.0</td>\n",
              "      <td>98.0</td>\n",
              "      <td>86</td>\n",
              "      <td>high risk</td>\n",
              "    </tr>\n",
              "    <tr>\n",
              "      <th>1</th>\n",
              "      <td>35</td>\n",
              "      <td>140</td>\n",
              "      <td>90</td>\n",
              "      <td>13.0</td>\n",
              "      <td>98.0</td>\n",
              "      <td>70</td>\n",
              "      <td>high risk</td>\n",
              "    </tr>\n",
              "    <tr>\n",
              "      <th>2</th>\n",
              "      <td>29</td>\n",
              "      <td>90</td>\n",
              "      <td>70</td>\n",
              "      <td>8.0</td>\n",
              "      <td>100.0</td>\n",
              "      <td>80</td>\n",
              "      <td>high risk</td>\n",
              "    </tr>\n",
              "    <tr>\n",
              "      <th>3</th>\n",
              "      <td>30</td>\n",
              "      <td>140</td>\n",
              "      <td>85</td>\n",
              "      <td>7.0</td>\n",
              "      <td>98.0</td>\n",
              "      <td>70</td>\n",
              "      <td>high risk</td>\n",
              "    </tr>\n",
              "    <tr>\n",
              "      <th>4</th>\n",
              "      <td>35</td>\n",
              "      <td>120</td>\n",
              "      <td>60</td>\n",
              "      <td>6.1</td>\n",
              "      <td>98.0</td>\n",
              "      <td>76</td>\n",
              "      <td>low risk</td>\n",
              "    </tr>\n",
              "    <tr>\n",
              "      <th>...</th>\n",
              "      <td>...</td>\n",
              "      <td>...</td>\n",
              "      <td>...</td>\n",
              "      <td>...</td>\n",
              "      <td>...</td>\n",
              "      <td>...</td>\n",
              "      <td>...</td>\n",
              "    </tr>\n",
              "    <tr>\n",
              "      <th>1009</th>\n",
              "      <td>22</td>\n",
              "      <td>120</td>\n",
              "      <td>60</td>\n",
              "      <td>15.0</td>\n",
              "      <td>98.0</td>\n",
              "      <td>80</td>\n",
              "      <td>high risk</td>\n",
              "    </tr>\n",
              "    <tr>\n",
              "      <th>1010</th>\n",
              "      <td>55</td>\n",
              "      <td>120</td>\n",
              "      <td>90</td>\n",
              "      <td>18.0</td>\n",
              "      <td>98.0</td>\n",
              "      <td>60</td>\n",
              "      <td>high risk</td>\n",
              "    </tr>\n",
              "    <tr>\n",
              "      <th>1011</th>\n",
              "      <td>35</td>\n",
              "      <td>85</td>\n",
              "      <td>60</td>\n",
              "      <td>19.0</td>\n",
              "      <td>98.0</td>\n",
              "      <td>86</td>\n",
              "      <td>high risk</td>\n",
              "    </tr>\n",
              "    <tr>\n",
              "      <th>1012</th>\n",
              "      <td>43</td>\n",
              "      <td>120</td>\n",
              "      <td>90</td>\n",
              "      <td>18.0</td>\n",
              "      <td>98.0</td>\n",
              "      <td>70</td>\n",
              "      <td>high risk</td>\n",
              "    </tr>\n",
              "    <tr>\n",
              "      <th>1013</th>\n",
              "      <td>32</td>\n",
              "      <td>120</td>\n",
              "      <td>65</td>\n",
              "      <td>6.0</td>\n",
              "      <td>101.0</td>\n",
              "      <td>76</td>\n",
              "      <td>mid risk</td>\n",
              "    </tr>\n",
              "  </tbody>\n",
              "</table>\n",
              "<p>1014 rows × 7 columns</p>\n",
              "</div>\n",
              "      <button class=\"colab-df-convert\" onclick=\"convertToInteractive('df-ecbcedd6-3e21-4713-88b8-d6c610efcd79')\"\n",
              "              title=\"Convert this dataframe to an interactive table.\"\n",
              "              style=\"display:none;\">\n",
              "        \n",
              "  <svg xmlns=\"http://www.w3.org/2000/svg\" height=\"24px\"viewBox=\"0 0 24 24\"\n",
              "       width=\"24px\">\n",
              "    <path d=\"M0 0h24v24H0V0z\" fill=\"none\"/>\n",
              "    <path d=\"M18.56 5.44l.94 2.06.94-2.06 2.06-.94-2.06-.94-.94-2.06-.94 2.06-2.06.94zm-11 1L8.5 8.5l.94-2.06 2.06-.94-2.06-.94L8.5 2.5l-.94 2.06-2.06.94zm10 10l.94 2.06.94-2.06 2.06-.94-2.06-.94-.94-2.06-.94 2.06-2.06.94z\"/><path d=\"M17.41 7.96l-1.37-1.37c-.4-.4-.92-.59-1.43-.59-.52 0-1.04.2-1.43.59L10.3 9.45l-7.72 7.72c-.78.78-.78 2.05 0 2.83L4 21.41c.39.39.9.59 1.41.59.51 0 1.02-.2 1.41-.59l7.78-7.78 2.81-2.81c.8-.78.8-2.07 0-2.86zM5.41 20L4 18.59l7.72-7.72 1.47 1.35L5.41 20z\"/>\n",
              "  </svg>\n",
              "      </button>\n",
              "      \n",
              "  <style>\n",
              "    .colab-df-container {\n",
              "      display:flex;\n",
              "      flex-wrap:wrap;\n",
              "      gap: 12px;\n",
              "    }\n",
              "\n",
              "    .colab-df-convert {\n",
              "      background-color: #E8F0FE;\n",
              "      border: none;\n",
              "      border-radius: 50%;\n",
              "      cursor: pointer;\n",
              "      display: none;\n",
              "      fill: #1967D2;\n",
              "      height: 32px;\n",
              "      padding: 0 0 0 0;\n",
              "      width: 32px;\n",
              "    }\n",
              "\n",
              "    .colab-df-convert:hover {\n",
              "      background-color: #E2EBFA;\n",
              "      box-shadow: 0px 1px 2px rgba(60, 64, 67, 0.3), 0px 1px 3px 1px rgba(60, 64, 67, 0.15);\n",
              "      fill: #174EA6;\n",
              "    }\n",
              "\n",
              "    [theme=dark] .colab-df-convert {\n",
              "      background-color: #3B4455;\n",
              "      fill: #D2E3FC;\n",
              "    }\n",
              "\n",
              "    [theme=dark] .colab-df-convert:hover {\n",
              "      background-color: #434B5C;\n",
              "      box-shadow: 0px 1px 3px 1px rgba(0, 0, 0, 0.15);\n",
              "      filter: drop-shadow(0px 1px 2px rgba(0, 0, 0, 0.3));\n",
              "      fill: #FFFFFF;\n",
              "    }\n",
              "  </style>\n",
              "\n",
              "      <script>\n",
              "        const buttonEl =\n",
              "          document.querySelector('#df-ecbcedd6-3e21-4713-88b8-d6c610efcd79 button.colab-df-convert');\n",
              "        buttonEl.style.display =\n",
              "          google.colab.kernel.accessAllowed ? 'block' : 'none';\n",
              "\n",
              "        async function convertToInteractive(key) {\n",
              "          const element = document.querySelector('#df-ecbcedd6-3e21-4713-88b8-d6c610efcd79');\n",
              "          const dataTable =\n",
              "            await google.colab.kernel.invokeFunction('convertToInteractive',\n",
              "                                                     [key], {});\n",
              "          if (!dataTable) return;\n",
              "\n",
              "          const docLinkHtml = 'Like what you see? Visit the ' +\n",
              "            '<a target=\"_blank\" href=https://colab.research.google.com/notebooks/data_table.ipynb>data table notebook</a>'\n",
              "            + ' to learn more about interactive tables.';\n",
              "          element.innerHTML = '';\n",
              "          dataTable['output_type'] = 'display_data';\n",
              "          await google.colab.output.renderOutput(dataTable, element);\n",
              "          const docLink = document.createElement('div');\n",
              "          docLink.innerHTML = docLinkHtml;\n",
              "          element.appendChild(docLink);\n",
              "        }\n",
              "      </script>\n",
              "    </div>\n",
              "  </div>\n",
              "  "
            ],
            "text/plain": [
              "      Age  SystolicBP  DiastolicBP    BS  BodyTemp  HeartRate  RiskLevel\n",
              "0      25         130           80  15.0      98.0         86  high risk\n",
              "1      35         140           90  13.0      98.0         70  high risk\n",
              "2      29          90           70   8.0     100.0         80  high risk\n",
              "3      30         140           85   7.0      98.0         70  high risk\n",
              "4      35         120           60   6.1      98.0         76   low risk\n",
              "...   ...         ...          ...   ...       ...        ...        ...\n",
              "1009   22         120           60  15.0      98.0         80  high risk\n",
              "1010   55         120           90  18.0      98.0         60  high risk\n",
              "1011   35          85           60  19.0      98.0         86  high risk\n",
              "1012   43         120           90  18.0      98.0         70  high risk\n",
              "1013   32         120           65   6.0     101.0         76   mid risk\n",
              "\n",
              "[1014 rows x 7 columns]"
            ]
          },
          "metadata": {},
          "execution_count": 5
        }
      ]
    },
    {
      "cell_type": "code",
      "source": [
        "df['RiskLevel']=df['RiskLevel'].replace(['high risk'],2)"
      ],
      "metadata": {
        "id": "n3J_JI_MGrL9"
      },
      "execution_count": 6,
      "outputs": []
    },
    {
      "cell_type": "code",
      "source": [
        "df['RiskLevel']=df['RiskLevel'].replace(['low risk'],0)\n",
        "df['RiskLevel']=df['RiskLevel'].replace(['mid risk'],1)"
      ],
      "metadata": {
        "id": "s4b6SAdzG4ab"
      },
      "execution_count": 7,
      "outputs": []
    },
    {
      "cell_type": "code",
      "source": [
        "sns.histplot(df['Age'],kde=True)"
      ],
      "metadata": {
        "colab": {
          "base_uri": "https://localhost:8080/",
          "height": 296
        },
        "id": "QeVVPsSDuX6S",
        "outputId": "3ace881a-7970-47de-9136-5d6d1c072b23"
      },
      "execution_count": 8,
      "outputs": [
        {
          "output_type": "execute_result",
          "data": {
            "text/plain": [
              "<matplotlib.axes._subplots.AxesSubplot at 0x7fe80b36f390>"
            ]
          },
          "metadata": {},
          "execution_count": 8
        },
        {
          "output_type": "display_data",
          "data": {
            "image/png": "[encoded data removed]",
            "text/plain": [
              "<Figure size 432x288 with 1 Axes>"
            ]
          },
          "metadata": {
            "needs_background": "light"
          }
        }
      ]
    },
    {
      "cell_type": "code",
      "source": [
        "sns.scatterplot(x='Age',y='RiskLevel',data=df)"
      ],
      "metadata": {
        "colab": {
          "base_uri": "https://localhost:8080/",
          "height": 296
        },
        "id": "_epjmZRpuqJA",
        "outputId": "2020704b-124f-47d2-d27a-06d45611ee88"
      },
      "execution_count": 9,
      "outputs": [
        {
          "output_type": "execute_result",
          "data": {
            "text/plain": [
              "<matplotlib.axes._subplots.AxesSubplot at 0x7fe8041f8e90>"
            ]
          },
          "metadata": {},
          "execution_count": 9
        },
        {
          "output_type": "display_data",
          "data": {
            "image/png": "[encoded data removed]",
            "text/plain": [
              "<Figure size 432x288 with 1 Axes>"
            ]
          },
          "metadata": {
            "needs_background": "light"
          }
        }
      ]
    },
    {
      "cell_type": "code",
      "source": [
        "sns.histplot(df['SystolicBP'],kde=True)"
      ],
      "metadata": {
        "colab": {
          "base_uri": "https://localhost:8080/",
          "height": 296
        },
        "id": "dK8fw5r9vZkA",
        "outputId": "1d8bbd66-a843-4b59-8925-f343144f751b"
      },
      "execution_count": 10,
      "outputs": [
        {
          "output_type": "execute_result",
          "data": {
            "text/plain": [
              "<matplotlib.axes._subplots.AxesSubplot at 0x7fe80098ddd0>"
            ]
          },
          "metadata": {},
          "execution_count": 10
        },
        {
          "output_type": "display_data",
          "data": {
            "image/png": "[encoded data removed]",
            "text/plain": [
              "<Figure size 432x288 with 1 Axes>"
            ]
          },
          "metadata": {
            "needs_background": "light"
          }
        }
      ]
    },
    {
      "cell_type": "code",
      "source": [
        "sns.scatterplot(x='SystolicBP',y='RiskLevel',data=df)"
      ],
      "metadata": {
        "colab": {
          "base_uri": "https://localhost:8080/",
          "height": 296
        },
        "id": "F8hmEF3NwRoe",
        "outputId": "4faab9a5-d230-41d2-fff5-4232d28f69e2"
      },
      "execution_count": 11,
      "outputs": [
        {
          "output_type": "execute_result",
          "data": {
            "text/plain": [
              "<matplotlib.axes._subplots.AxesSubplot at 0x7fe8008c47d0>"
            ]
          },
          "metadata": {},
          "execution_count": 11
        },
        {
          "output_type": "display_data",
          "data": {
            "image/png": "[encoded data removed]",
            "text/plain": [
              "<Figure size 432x288 with 1 Axes>"
            ]
          },
          "metadata": {
            "needs_background": "light"
          }
        }
      ]
    },
    {
      "cell_type": "code",
      "source": [
        "sns.histplot(df['DiastolicBP'],kde=True)"
      ],
      "metadata": {
        "colab": {
          "base_uri": "https://localhost:8080/",
          "height": 296
        },
        "id": "C5IuOhcewqkc",
        "outputId": "0e2b8175-c1be-43b9-d621-8dc9528502d5"
      },
      "execution_count": 12,
      "outputs": [
        {
          "output_type": "execute_result",
          "data": {
            "text/plain": [
              "<matplotlib.axes._subplots.AxesSubplot at 0x7fe8008736d0>"
            ]
          },
          "metadata": {},
          "execution_count": 12
        },
        {
          "output_type": "display_data",
          "data": {
            "image/png": "[encoded data removed]",
            "text/plain": [
              "<Figure size 432x288 with 1 Axes>"
            ]
          },
          "metadata": {
            "needs_background": "light"
          }
        }
      ]
    },
    {
      "cell_type": "code",
      "source": [
        "df[(df['DiastolicBP']==60)]"
      ],
      "metadata": {
        "colab": {
          "base_uri": "https://localhost:8080/",
          "height": 424
        },
        "id": "E2l745Fgw-MM",
        "outputId": "3c779956-c316-4473-e873-9357b31805ff"
      },
      "execution_count": 13,
      "outputs": [
        {
          "output_type": "execute_result",
          "data": {
            "text/html": [
              "\n",
              "  <div id=\"df-3b057916-b69c-4067-8d6e-16d03b28c5be\">\n",
              "    <div class=\"colab-df-container\">\n",
              "      <div>\n",
              "<style scoped>\n",
              "    .dataframe tbody tr th:only-of-type {\n",
              "        vertical-align: middle;\n",
              "    }\n",
              "\n",
              "    .dataframe tbody tr th {\n",
              "        vertical-align: top;\n",
              "    }\n",
              "\n",
              "    .dataframe thead th {\n",
              "        text-align: right;\n",
              "    }\n",
              "</style>\n",
              "<table border=\"1\" class=\"dataframe\">\n",
              "  <thead>\n",
              "    <tr style=\"text-align: right;\">\n",
              "      <th></th>\n",
              "      <th>Age</th>\n",
              "      <th>SystolicBP</th>\n",
              "      <th>DiastolicBP</th>\n",
              "      <th>BS</th>\n",
              "      <th>BodyTemp</th>\n",
              "      <th>HeartRate</th>\n",
              "      <th>RiskLevel</th>\n",
              "    </tr>\n",
              "  </thead>\n",
              "  <tbody>\n",
              "    <tr>\n",
              "      <th>4</th>\n",
              "      <td>35</td>\n",
              "      <td>120</td>\n",
              "      <td>60</td>\n",
              "      <td>6.10</td>\n",
              "      <td>98.0</td>\n",
              "      <td>76</td>\n",
              "      <td>0</td>\n",
              "    </tr>\n",
              "    <tr>\n",
              "      <th>7</th>\n",
              "      <td>35</td>\n",
              "      <td>85</td>\n",
              "      <td>60</td>\n",
              "      <td>11.00</td>\n",
              "      <td>102.0</td>\n",
              "      <td>86</td>\n",
              "      <td>2</td>\n",
              "    </tr>\n",
              "    <tr>\n",
              "      <th>10</th>\n",
              "      <td>23</td>\n",
              "      <td>90</td>\n",
              "      <td>60</td>\n",
              "      <td>7.01</td>\n",
              "      <td>98.0</td>\n",
              "      <td>76</td>\n",
              "      <td>0</td>\n",
              "    </tr>\n",
              "    <tr>\n",
              "      <th>23</th>\n",
              "      <td>18</td>\n",
              "      <td>90</td>\n",
              "      <td>60</td>\n",
              "      <td>7.50</td>\n",
              "      <td>98.0</td>\n",
              "      <td>70</td>\n",
              "      <td>0</td>\n",
              "    </tr>\n",
              "    <tr>\n",
              "      <th>29</th>\n",
              "      <td>28</td>\n",
              "      <td>90</td>\n",
              "      <td>60</td>\n",
              "      <td>7.20</td>\n",
              "      <td>98.0</td>\n",
              "      <td>82</td>\n",
              "      <td>0</td>\n",
              "    </tr>\n",
              "    <tr>\n",
              "      <th>...</th>\n",
              "      <td>...</td>\n",
              "      <td>...</td>\n",
              "      <td>...</td>\n",
              "      <td>...</td>\n",
              "      <td>...</td>\n",
              "      <td>...</td>\n",
              "      <td>...</td>\n",
              "    </tr>\n",
              "    <tr>\n",
              "      <th>996</th>\n",
              "      <td>12</td>\n",
              "      <td>90</td>\n",
              "      <td>60</td>\n",
              "      <td>8.00</td>\n",
              "      <td>102.0</td>\n",
              "      <td>66</td>\n",
              "      <td>2</td>\n",
              "    </tr>\n",
              "    <tr>\n",
              "      <th>1000</th>\n",
              "      <td>12</td>\n",
              "      <td>90</td>\n",
              "      <td>60</td>\n",
              "      <td>11.00</td>\n",
              "      <td>102.0</td>\n",
              "      <td>60</td>\n",
              "      <td>2</td>\n",
              "    </tr>\n",
              "    <tr>\n",
              "      <th>1006</th>\n",
              "      <td>17</td>\n",
              "      <td>85</td>\n",
              "      <td>60</td>\n",
              "      <td>6.30</td>\n",
              "      <td>102.0</td>\n",
              "      <td>86</td>\n",
              "      <td>2</td>\n",
              "    </tr>\n",
              "    <tr>\n",
              "      <th>1009</th>\n",
              "      <td>22</td>\n",
              "      <td>120</td>\n",
              "      <td>60</td>\n",
              "      <td>15.00</td>\n",
              "      <td>98.0</td>\n",
              "      <td>80</td>\n",
              "      <td>2</td>\n",
              "    </tr>\n",
              "    <tr>\n",
              "      <th>1011</th>\n",
              "      <td>35</td>\n",
              "      <td>85</td>\n",
              "      <td>60</td>\n",
              "      <td>19.00</td>\n",
              "      <td>98.0</td>\n",
              "      <td>86</td>\n",
              "      <td>2</td>\n",
              "    </tr>\n",
              "  </tbody>\n",
              "</table>\n",
              "<p>174 rows × 7 columns</p>\n",
              "</div>\n",
              "      <button class=\"colab-df-convert\" onclick=\"convertToInteractive('df-3b057916-b69c-4067-8d6e-16d03b28c5be')\"\n",
              "              title=\"Convert this dataframe to an interactive table.\"\n",
              "              style=\"display:none;\">\n",
              "        \n",
              "  <svg xmlns=\"http://www.w3.org/2000/svg\" height=\"24px\"viewBox=\"0 0 24 24\"\n",
              "       width=\"24px\">\n",
              "    <path d=\"M0 0h24v24H0V0z\" fill=\"none\"/>\n",
              "    <path d=\"M18.56 5.44l.94 2.06.94-2.06 2.06-.94-2.06-.94-.94-2.06-.94 2.06-2.06.94zm-11 1L8.5 8.5l.94-2.06 2.06-.94-2.06-.94L8.5 2.5l-.94 2.06-2.06.94zm10 10l.94 2.06.94-2.06 2.06-.94-2.06-.94-.94-2.06-.94 2.06-2.06.94z\"/><path d=\"M17.41 7.96l-1.37-1.37c-.4-.4-.92-.59-1.43-.59-.52 0-1.04.2-1.43.59L10.3 9.45l-7.72 7.72c-.78.78-.78 2.05 0 2.83L4 21.41c.39.39.9.59 1.41.59.51 0 1.02-.2 1.41-.59l7.78-7.78 2.81-2.81c.8-.78.8-2.07 0-2.86zM5.41 20L4 18.59l7.72-7.72 1.47 1.35L5.41 20z\"/>\n",
              "  </svg>\n",
              "      </button>\n",
              "      \n",
              "  <style>\n",
              "    .colab-df-container {\n",
              "      display:flex;\n",
              "      flex-wrap:wrap;\n",
              "      gap: 12px;\n",
              "    }\n",
              "\n",
              "    .colab-df-convert {\n",
              "      background-color: #E8F0FE;\n",
              "      border: none;\n",
              "      border-radius: 50%;\n",
              "      cursor: pointer;\n",
              "      display: none;\n",
              "      fill: #1967D2;\n",
              "      height: 32px;\n",
              "      padding: 0 0 0 0;\n",
              "      width: 32px;\n",
              "    }\n",
              "\n",
              "    .colab-df-convert:hover {\n",
              "      background-color: #E2EBFA;\n",
              "      box-shadow: 0px 1px 2px rgba(60, 64, 67, 0.3), 0px 1px 3px 1px rgba(60, 64, 67, 0.15);\n",
              "      fill: #174EA6;\n",
              "    }\n",
              "\n",
              "    [theme=dark] .colab-df-convert {\n",
              "      background-color: #3B4455;\n",
              "      fill: #D2E3FC;\n",
              "    }\n",
              "\n",
              "    [theme=dark] .colab-df-convert:hover {\n",
              "      background-color: #434B5C;\n",
              "      box-shadow: 0px 1px 3px 1px rgba(0, 0, 0, 0.15);\n",
              "      filter: drop-shadow(0px 1px 2px rgba(0, 0, 0, 0.3));\n",
              "      fill: #FFFFFF;\n",
              "    }\n",
              "  </style>\n",
              "\n",
              "      <script>\n",
              "        const buttonEl =\n",
              "          document.querySelector('#df-3b057916-b69c-4067-8d6e-16d03b28c5be button.colab-df-convert');\n",
              "        buttonEl.style.display =\n",
              "          google.colab.kernel.accessAllowed ? 'block' : 'none';\n",
              "\n",
              "        async function convertToInteractive(key) {\n",
              "          const element = document.querySelector('#df-3b057916-b69c-4067-8d6e-16d03b28c5be');\n",
              "          const dataTable =\n",
              "            await google.colab.kernel.invokeFunction('convertToInteractive',\n",
              "                                                     [key], {});\n",
              "          if (!dataTable) return;\n",
              "\n",
              "          const docLinkHtml = 'Like what you see? Visit the ' +\n",
              "            '<a target=\"_blank\" href=https://colab.research.google.com/notebooks/data_table.ipynb>data table notebook</a>'\n",
              "            + ' to learn more about interactive tables.';\n",
              "          element.innerHTML = '';\n",
              "          dataTable['output_type'] = 'display_data';\n",
              "          await google.colab.output.renderOutput(dataTable, element);\n",
              "          const docLink = document.createElement('div');\n",
              "          docLink.innerHTML = docLinkHtml;\n",
              "          element.appendChild(docLink);\n",
              "        }\n",
              "      </script>\n",
              "    </div>\n",
              "  </div>\n",
              "  "
            ],
            "text/plain": [
              "      Age  SystolicBP  DiastolicBP     BS  BodyTemp  HeartRate  RiskLevel\n",
              "4      35         120           60   6.10      98.0         76          0\n",
              "7      35          85           60  11.00     102.0         86          2\n",
              "10     23          90           60   7.01      98.0         76          0\n",
              "23     18          90           60   7.50      98.0         70          0\n",
              "29     28          90           60   7.20      98.0         82          0\n",
              "...   ...         ...          ...    ...       ...        ...        ...\n",
              "996    12          90           60   8.00     102.0         66          2\n",
              "1000   12          90           60  11.00     102.0         60          2\n",
              "1006   17          85           60   6.30     102.0         86          2\n",
              "1009   22         120           60  15.00      98.0         80          2\n",
              "1011   35          85           60  19.00      98.0         86          2\n",
              "\n",
              "[174 rows x 7 columns]"
            ]
          },
          "metadata": {},
          "execution_count": 13
        }
      ]
    },
    {
      "cell_type": "code",
      "source": [
        "sns.scatterplot(x='DiastolicBP',y='RiskLevel',data=df)"
      ],
      "metadata": {
        "colab": {
          "base_uri": "https://localhost:8080/",
          "height": 296
        },
        "id": "dbW-QCeTxUAz",
        "outputId": "07b539fe-cee8-4ad0-82fc-42a4a8a087c4"
      },
      "execution_count": 14,
      "outputs": [
        {
          "output_type": "execute_result",
          "data": {
            "text/plain": [
              "<matplotlib.axes._subplots.AxesSubplot at 0x7fe80b394750>"
            ]
          },
          "metadata": {},
          "execution_count": 14
        },
        {
          "output_type": "display_data",
          "data": {
            "image/png": "[encoded data removed]",
            "text/plain": [
              "<Figure size 432x288 with 1 Axes>"
            ]
          },
          "metadata": {
            "needs_background": "light"
          }
        }
      ]
    },
    {
      "cell_type": "code",
      "source": [
        "sns.histplot(df['BS'],kde=True)"
      ],
      "metadata": {
        "colab": {
          "base_uri": "https://localhost:8080/",
          "height": 296
        },
        "id": "GIkQQmeGxscg",
        "outputId": "1df1c01a-f0b5-457f-cc32-92a706b6fc58"
      },
      "execution_count": 15,
      "outputs": [
        {
          "output_type": "execute_result",
          "data": {
            "text/plain": [
              "<matplotlib.axes._subplots.AxesSubplot at 0x7fe80073b410>"
            ]
          },
          "metadata": {},
          "execution_count": 15
        },
        {
          "output_type": "display_data",
          "data": {
            "image/png": "[encoded data removed]",
            "text/plain": [
              "<Figure size 432x288 with 1 Axes>"
            ]
          },
          "metadata": {
            "needs_background": "light"
          }
        }
      ]
    },
    {
      "cell_type": "code",
      "source": [
        "sns.scatterplot(x='BS',y='RiskLevel',data=df)"
      ],
      "metadata": {
        "colab": {
          "base_uri": "https://localhost:8080/",
          "height": 296
        },
        "id": "VUT_DeV8yDGY",
        "outputId": "735a74b1-904a-4920-82c7-ad837c2cb3cf"
      },
      "execution_count": 16,
      "outputs": [
        {
          "output_type": "execute_result",
          "data": {
            "text/plain": [
              "<matplotlib.axes._subplots.AxesSubplot at 0x7fe800668bd0>"
            ]
          },
          "metadata": {},
          "execution_count": 16
        },
        {
          "output_type": "display_data",
          "data": {
            "image/png": "[encoded data removed]",
            "text/plain": [
              "<Figure size 432x288 with 1 Axes>"
            ]
          },
          "metadata": {
            "needs_background": "light"
          }
        }
      ]
    },
    {
      "cell_type": "code",
      "source": [
        "sns.histplot(df['BodyTemp'],kde=True)"
      ],
      "metadata": {
        "colab": {
          "base_uri": "https://localhost:8080/",
          "height": 296
        },
        "id": "rZyIlyZzy7FM",
        "outputId": "b47f5cc0-9d86-4fb2-8ccc-d1abb86c0c4f"
      },
      "execution_count": 17,
      "outputs": [
        {
          "output_type": "execute_result",
          "data": {
            "text/plain": [
              "<matplotlib.axes._subplots.AxesSubplot at 0x7fe80060c810>"
            ]
          },
          "metadata": {},
          "execution_count": 17
        },
        {
          "output_type": "display_data",
          "data": {
            "image/png": "[encoded data removed]",
            "text/plain": [
              "<Figure size 432x288 with 1 Axes>"
            ]
          },
          "metadata": {
            "needs_background": "light"
          }
        }
      ]
    },
    {
      "cell_type": "code",
      "source": [
        "sns.scatterplot(x='BodyTemp',y='RiskLevel',data=df)"
      ],
      "metadata": {
        "colab": {
          "base_uri": "https://localhost:8080/",
          "height": 296
        },
        "id": "bCBf56qkzMnB",
        "outputId": "c4bf5dbd-d7dc-486f-a71a-fcf3231ea1b7"
      },
      "execution_count": 18,
      "outputs": [
        {
          "output_type": "execute_result",
          "data": {
            "text/plain": [
              "<matplotlib.axes._subplots.AxesSubplot at 0x7fe8004ed1d0>"
            ]
          },
          "metadata": {},
          "execution_count": 18
        },
        {
          "output_type": "display_data",
          "data": {
            "image/png": "[encoded data removed]",
            "text/plain": [
              "<Figure size 432x288 with 1 Axes>"
            ]
          },
          "metadata": {
            "needs_background": "light"
          }
        }
      ]
    },
    {
      "cell_type": "code",
      "source": [
        "sns.histplot(df['HeartRate'],kde=True)"
      ],
      "metadata": {
        "colab": {
          "base_uri": "https://localhost:8080/",
          "height": 296
        },
        "id": "hdxm_t6Rzr0p",
        "outputId": "547e889c-d9ee-446e-91da-77daef322bd0"
      },
      "execution_count": 19,
      "outputs": [
        {
          "output_type": "execute_result",
          "data": {
            "text/plain": [
              "<matplotlib.axes._subplots.AxesSubplot at 0x7fe8008f3510>"
            ]
          },
          "metadata": {},
          "execution_count": 19
        },
        {
          "output_type": "display_data",
          "data": {
            "image/png": "[encoded data removed]",
            "text/plain": [
              "<Figure size 432x288 with 1 Axes>"
            ]
          },
          "metadata": {
            "needs_background": "light"
          }
        }
      ]
    },
    {
      "cell_type": "code",
      "source": [
        "x=df.drop(['RiskLevel'],axis=1)\n",
        "y=df['RiskLevel']"
      ],
      "metadata": {
        "id": "kqRVbsFxz5Wr"
      },
      "execution_count": 20,
      "outputs": []
    },
    {
      "cell_type": "code",
      "source": [
        "Feature=SelectKBest(k='all')"
      ],
      "metadata": {
        "id": "CjJRrhPh19Us"
      },
      "execution_count": 21,
      "outputs": []
    },
    {
      "cell_type": "code",
      "source": [
        "Feature.fit(x,y)"
      ],
      "metadata": {
        "colab": {
          "base_uri": "https://localhost:8080/"
        },
        "id": "0Wzc2Yee2Acu",
        "outputId": "297f367f-8d81-4e9a-c461-1022aeb2f54f"
      },
      "execution_count": 22,
      "outputs": [
        {
          "output_type": "execute_result",
          "data": {
            "text/plain": [
              "SelectKBest(k='all')"
            ]
          },
          "metadata": {},
          "execution_count": 22
        }
      ]
    },
    {
      "cell_type": "code",
      "source": [
        "pd.Series(Feature.scores_,index=x.columns).plot(kind='barh')"
      ],
      "metadata": {
        "colab": {
          "base_uri": "https://localhost:8080/",
          "height": 282
        },
        "id": "89f89JBj2NJH",
        "outputId": "b138b804-a857-4616-dd8a-11b72d06a3b9"
      },
      "execution_count": 23,
      "outputs": [
        {
          "output_type": "execute_result",
          "data": {
            "text/plain": [
              "<matplotlib.axes._subplots.AxesSubplot at 0x7fe8003dff90>"
            ]
          },
          "metadata": {},
          "execution_count": 23
        },
        {
          "output_type": "display_data",
          "data": {
            "image/png": "[encoded data removed]",
            "text/plain": [
              "<Figure size 432x288 with 1 Axes>"
            ]
          },
          "metadata": {
            "needs_background": "light"
          }
        }
      ]
    },
    {
      "cell_type": "code",
      "source": [
        "top_columns=x.drop(['BodyTemp'],axis=1)"
      ],
      "metadata": {
        "id": "aywDximi2WzH"
      },
      "execution_count": 24,
      "outputs": []
    },
    {
      "cell_type": "code",
      "source": [
        "top_columns"
      ],
      "metadata": {
        "colab": {
          "base_uri": "https://localhost:8080/",
          "height": 424
        },
        "id": "3KTU0hSk3Gdb",
        "outputId": "e728a302-a143-467d-a60d-220e26d334d7"
      },
      "execution_count": 25,
      "outputs": [
        {
          "output_type": "execute_result",
          "data": {
            "text/html": [
              "\n",
              "  <div id=\"df-7e14d0d4-279a-4b14-8940-624e61fa0843\">\n",
              "    <div class=\"colab-df-container\">\n",
              "      <div>\n",
              "<style scoped>\n",
              "    .dataframe tbody tr th:only-of-type {\n",
              "        vertical-align: middle;\n",
              "    }\n",
              "\n",
              "    .dataframe tbody tr th {\n",
              "        vertical-align: top;\n",
              "    }\n",
              "\n",
              "    .dataframe thead th {\n",
              "        text-align: right;\n",
              "    }\n",
              "</style>\n",
              "<table border=\"1\" class=\"dataframe\">\n",
              "  <thead>\n",
              "    <tr style=\"text-align: right;\">\n",
              "      <th></th>\n",
              "      <th>Age</th>\n",
              "      <th>SystolicBP</th>\n",
              "      <th>DiastolicBP</th>\n",
              "      <th>BS</th>\n",
              "      <th>HeartRate</th>\n",
              "    </tr>\n",
              "  </thead>\n",
              "  <tbody>\n",
              "    <tr>\n",
              "      <th>0</th>\n",
              "      <td>25</td>\n",
              "      <td>130</td>\n",
              "      <td>80</td>\n",
              "      <td>15.0</td>\n",
              "      <td>86</td>\n",
              "    </tr>\n",
              "    <tr>\n",
              "      <th>1</th>\n",
              "      <td>35</td>\n",
              "      <td>140</td>\n",
              "      <td>90</td>\n",
              "      <td>13.0</td>\n",
              "      <td>70</td>\n",
              "    </tr>\n",
              "    <tr>\n",
              "      <th>2</th>\n",
              "      <td>29</td>\n",
              "      <td>90</td>\n",
              "      <td>70</td>\n",
              "      <td>8.0</td>\n",
              "      <td>80</td>\n",
              "    </tr>\n",
              "    <tr>\n",
              "      <th>3</th>\n",
              "      <td>30</td>\n",
              "      <td>140</td>\n",
              "      <td>85</td>\n",
              "      <td>7.0</td>\n",
              "      <td>70</td>\n",
              "    </tr>\n",
              "    <tr>\n",
              "      <th>4</th>\n",
              "      <td>35</td>\n",
              "      <td>120</td>\n",
              "      <td>60</td>\n",
              "      <td>6.1</td>\n",
              "      <td>76</td>\n",
              "    </tr>\n",
              "    <tr>\n",
              "      <th>...</th>\n",
              "      <td>...</td>\n",
              "      <td>...</td>\n",
              "      <td>...</td>\n",
              "      <td>...</td>\n",
              "      <td>...</td>\n",
              "    </tr>\n",
              "    <tr>\n",
              "      <th>1009</th>\n",
              "      <td>22</td>\n",
              "      <td>120</td>\n",
              "      <td>60</td>\n",
              "      <td>15.0</td>\n",
              "      <td>80</td>\n",
              "    </tr>\n",
              "    <tr>\n",
              "      <th>1010</th>\n",
              "      <td>55</td>\n",
              "      <td>120</td>\n",
              "      <td>90</td>\n",
              "      <td>18.0</td>\n",
              "      <td>60</td>\n",
              "    </tr>\n",
              "    <tr>\n",
              "      <th>1011</th>\n",
              "      <td>35</td>\n",
              "      <td>85</td>\n",
              "      <td>60</td>\n",
              "      <td>19.0</td>\n",
              "      <td>86</td>\n",
              "    </tr>\n",
              "    <tr>\n",
              "      <th>1012</th>\n",
              "      <td>43</td>\n",
              "      <td>120</td>\n",
              "      <td>90</td>\n",
              "      <td>18.0</td>\n",
              "      <td>70</td>\n",
              "    </tr>\n",
              "    <tr>\n",
              "      <th>1013</th>\n",
              "      <td>32</td>\n",
              "      <td>120</td>\n",
              "      <td>65</td>\n",
              "      <td>6.0</td>\n",
              "      <td>76</td>\n",
              "    </tr>\n",
              "  </tbody>\n",
              "</table>\n",
              "<p>1014 rows × 5 columns</p>\n",
              "</div>\n",
              "      <button class=\"colab-df-convert\" onclick=\"convertToInteractive('df-7e14d0d4-279a-4b14-8940-624e61fa0843')\"\n",
              "              title=\"Convert this dataframe to an interactive table.\"\n",
              "              style=\"display:none;\">\n",
              "        \n",
              "  <svg xmlns=\"http://www.w3.org/2000/svg\" height=\"24px\"viewBox=\"0 0 24 24\"\n",
              "       width=\"24px\">\n",
              "    <path d=\"M0 0h24v24H0V0z\" fill=\"none\"/>\n",
              "    <path d=\"M18.56 5.44l.94 2.06.94-2.06 2.06-.94-2.06-.94-.94-2.06-.94 2.06-2.06.94zm-11 1L8.5 8.5l.94-2.06 2.06-.94-2.06-.94L8.5 2.5l-.94 2.06-2.06.94zm10 10l.94 2.06.94-2.06 2.06-.94-2.06-.94-.94-2.06-.94 2.06-2.06.94z\"/><path d=\"M17.41 7.96l-1.37-1.37c-.4-.4-.92-.59-1.43-.59-.52 0-1.04.2-1.43.59L10.3 9.45l-7.72 7.72c-.78.78-.78 2.05 0 2.83L4 21.41c.39.39.9.59 1.41.59.51 0 1.02-.2 1.41-.59l7.78-7.78 2.81-2.81c.8-.78.8-2.07 0-2.86zM5.41 20L4 18.59l7.72-7.72 1.47 1.35L5.41 20z\"/>\n",
              "  </svg>\n",
              "      </button>\n",
              "      \n",
              "  <style>\n",
              "    .colab-df-container {\n",
              "      display:flex;\n",
              "      flex-wrap:wrap;\n",
              "      gap: 12px;\n",
              "    }\n",
              "\n",
              "    .colab-df-convert {\n",
              "      background-color: #E8F0FE;\n",
              "      border: none;\n",
              "      border-radius: 50%;\n",
              "      cursor: pointer;\n",
              "      display: none;\n",
              "      fill: #1967D2;\n",
              "      height: 32px;\n",
              "      padding: 0 0 0 0;\n",
              "      width: 32px;\n",
              "    }\n",
              "\n",
              "    .colab-df-convert:hover {\n",
              "      background-color: #E2EBFA;\n",
              "      box-shadow: 0px 1px 2px rgba(60, 64, 67, 0.3), 0px 1px 3px 1px rgba(60, 64, 67, 0.15);\n",
              "      fill: #174EA6;\n",
              "    }\n",
              "\n",
              "    [theme=dark] .colab-df-convert {\n",
              "      background-color: #3B4455;\n",
              "      fill: #D2E3FC;\n",
              "    }\n",
              "\n",
              "    [theme=dark] .colab-df-convert:hover {\n",
              "      background-color: #434B5C;\n",
              "      box-shadow: 0px 1px 3px 1px rgba(0, 0, 0, 0.15);\n",
              "      filter: drop-shadow(0px 1px 2px rgba(0, 0, 0, 0.3));\n",
              "      fill: #FFFFFF;\n",
              "    }\n",
              "  </style>\n",
              "\n",
              "      <script>\n",
              "        const buttonEl =\n",
              "          document.querySelector('#df-7e14d0d4-279a-4b14-8940-624e61fa0843 button.colab-df-convert');\n",
              "        buttonEl.style.display =\n",
              "          google.colab.kernel.accessAllowed ? 'block' : 'none';\n",
              "\n",
              "        async function convertToInteractive(key) {\n",
              "          const element = document.querySelector('#df-7e14d0d4-279a-4b14-8940-624e61fa0843');\n",
              "          const dataTable =\n",
              "            await google.colab.kernel.invokeFunction('convertToInteractive',\n",
              "                                                     [key], {});\n",
              "          if (!dataTable) return;\n",
              "\n",
              "          const docLinkHtml = 'Like what you see? Visit the ' +\n",
              "            '<a target=\"_blank\" href=https://colab.research.google.com/notebooks/data_table.ipynb>data table notebook</a>'\n",
              "            + ' to learn more about interactive tables.';\n",
              "          element.innerHTML = '';\n",
              "          dataTable['output_type'] = 'display_data';\n",
              "          await google.colab.output.renderOutput(dataTable, element);\n",
              "          const docLink = document.createElement('div');\n",
              "          docLink.innerHTML = docLinkHtml;\n",
              "          element.appendChild(docLink);\n",
              "        }\n",
              "      </script>\n",
              "    </div>\n",
              "  </div>\n",
              "  "
            ],
            "text/plain": [
              "      Age  SystolicBP  DiastolicBP    BS  HeartRate\n",
              "0      25         130           80  15.0         86\n",
              "1      35         140           90  13.0         70\n",
              "2      29          90           70   8.0         80\n",
              "3      30         140           85   7.0         70\n",
              "4      35         120           60   6.1         76\n",
              "...   ...         ...          ...   ...        ...\n",
              "1009   22         120           60  15.0         80\n",
              "1010   55         120           90  18.0         60\n",
              "1011   35          85           60  19.0         86\n",
              "1012   43         120           90  18.0         70\n",
              "1013   32         120           65   6.0         76\n",
              "\n",
              "[1014 rows x 5 columns]"
            ]
          },
          "metadata": {},
          "execution_count": 25
        }
      ]
    },
    {
      "cell_type": "code",
      "source": [
        "x=top_columns"
      ],
      "metadata": {
        "id": "k9Mb9XkJMPwP"
      },
      "execution_count": 26,
      "outputs": []
    },
    {
      "cell_type": "code",
      "source": [
        "Extra=ExtraTreesClassifier(n_estimators=10)"
      ],
      "metadata": {
        "id": "vGifP0hY3dF6"
      },
      "execution_count": 27,
      "outputs": []
    },
    {
      "cell_type": "code",
      "source": [
        "Extra.fit(x,y)"
      ],
      "metadata": {
        "colab": {
          "base_uri": "https://localhost:8080/"
        },
        "id": "DCQekb_Z3kjz",
        "outputId": "f321ed0d-7408-4bb1-bd9e-40eecdb3e2ee"
      },
      "execution_count": 28,
      "outputs": [
        {
          "output_type": "execute_result",
          "data": {
            "text/plain": [
              "ExtraTreesClassifier(n_estimators=10)"
            ]
          },
          "metadata": {},
          "execution_count": 28
        }
      ]
    },
    {
      "cell_type": "code",
      "source": [
        "pd.Series(Extra.feature_importances_,index=x.columns).plot(kind='barh')"
      ],
      "metadata": {
        "colab": {
          "base_uri": "https://localhost:8080/",
          "height": 282
        },
        "id": "sUgna8Zp3pdE",
        "outputId": "7d62dfe6-0b40-4982-c675-405457ee5271"
      },
      "execution_count": 29,
      "outputs": [
        {
          "output_type": "execute_result",
          "data": {
            "text/plain": [
              "<matplotlib.axes._subplots.AxesSubplot at 0x7fe800311e10>"
            ]
          },
          "metadata": {},
          "execution_count": 29
        },
        {
          "output_type": "display_data",
          "data": {
            "image/png": "[encoded data removed]",
            "text/plain": [
              "<Figure size 432x288 with 1 Axes>"
            ]
          },
          "metadata": {
            "needs_background": "light"
          }
        }
      ]
    },
    {
      "cell_type": "code",
      "source": [
        "Forest=RandomForestClassifier(n_estimators=20)\n",
        "KNN=KNeighborsClassifier(n_neighbors=115)\n",
        "GNB=GaussianNB()\n",
        "BNB=BernoulliNB()\n",
        "Support=SVC(gamma='auto')\n",
        "Tree=DecisionTreeClassifier()\n",
        "LR=LogisticRegression()"
      ],
      "metadata": {
        "id": "hEokmYUf3sSi"
      },
      "execution_count": 30,
      "outputs": []
    },
    {
      "cell_type": "code",
      "source": [
        "Algorithm_name=[Forest,KNN,GNB,BNB,Support,Tree,LR]"
      ],
      "metadata": {
        "id": "ciG7rBfh5a94"
      },
      "execution_count": 31,
      "outputs": []
    },
    {
      "cell_type": "code",
      "source": [
        "Scores=[]\n",
        "averages=[]\n",
        "for i in Algorithm_name:\n",
        "  cv_score=cross_val_score(i,x,y,cv=10)\n",
        "  Scores.append(cv_score)\n",
        "  averages.append(cv_score.mean())"
      ],
      "metadata": {
        "colab": {
          "base_uri": "https://localhost:8080/"
        },
        "id": "5goB0UKo8Dz0",
        "outputId": "3bc12316-1ddb-4204-9f19-af9eebec770f"
      },
      "execution_count": 32,
      "outputs": [
        {
          "output_type": "stream",
          "name": "stderr",
          "text": [
            "/usr/local/lib/python3.7/dist-packages/sklearn/linear_model/_logistic.py:818: ConvergenceWarning: lbfgs failed to converge (status=1):\n",
            "STOP: TOTAL NO. of ITERATIONS REACHED LIMIT.\n",
            "\n",
            "Increase the number of iterations (max_iter) or scale the data as shown in:\n",
            "    https://scikit-learn.org/stable/modules/preprocessing.html\n",
            "Please also refer to the documentation for alternative solver options:\n",
            "    https://scikit-learn.org/stable/modules/linear_model.html#logistic-regression\n",
            "  extra_warning_msg=_LOGISTIC_SOLVER_CONVERGENCE_MSG,\n",
            "/usr/local/lib/python3.7/dist-packages/sklearn/linear_model/_logistic.py:818: ConvergenceWarning: lbfgs failed to converge (status=1):\n",
            "STOP: TOTAL NO. of ITERATIONS REACHED LIMIT.\n",
            "\n",
            "Increase the number of iterations (max_iter) or scale the data as shown in:\n",
            "    https://scikit-learn.org/stable/modules/preprocessing.html\n",
            "Please also refer to the documentation for alternative solver options:\n",
            "    https://scikit-learn.org/stable/modules/linear_model.html#logistic-regression\n",
            "  extra_warning_msg=_LOGISTIC_SOLVER_CONVERGENCE_MSG,\n",
            "/usr/local/lib/python3.7/dist-packages/sklearn/linear_model/_logistic.py:818: ConvergenceWarning: lbfgs failed to converge (status=1):\n",
            "STOP: TOTAL NO. of ITERATIONS REACHED LIMIT.\n",
            "\n",
            "Increase the number of iterations (max_iter) or scale the data as shown in:\n",
            "    https://scikit-learn.org/stable/modules/preprocessing.html\n",
            "Please also refer to the documentation for alternative solver options:\n",
            "    https://scikit-learn.org/stable/modules/linear_model.html#logistic-regression\n",
            "  extra_warning_msg=_LOGISTIC_SOLVER_CONVERGENCE_MSG,\n",
            "/usr/local/lib/python3.7/dist-packages/sklearn/linear_model/_logistic.py:818: ConvergenceWarning: lbfgs failed to converge (status=1):\n",
            "STOP: TOTAL NO. of ITERATIONS REACHED LIMIT.\n",
            "\n",
            "Increase the number of iterations (max_iter) or scale the data as shown in:\n",
            "    https://scikit-learn.org/stable/modules/preprocessing.html\n",
            "Please also refer to the documentation for alternative solver options:\n",
            "    https://scikit-learn.org/stable/modules/linear_model.html#logistic-regression\n",
            "  extra_warning_msg=_LOGISTIC_SOLVER_CONVERGENCE_MSG,\n",
            "/usr/local/lib/python3.7/dist-packages/sklearn/linear_model/_logistic.py:818: ConvergenceWarning: lbfgs failed to converge (status=1):\n",
            "STOP: TOTAL NO. of ITERATIONS REACHED LIMIT.\n",
            "\n",
            "Increase the number of iterations (max_iter) or scale the data as shown in:\n",
            "    https://scikit-learn.org/stable/modules/preprocessing.html\n",
            "Please also refer to the documentation for alternative solver options:\n",
            "    https://scikit-learn.org/stable/modules/linear_model.html#logistic-regression\n",
            "  extra_warning_msg=_LOGISTIC_SOLVER_CONVERGENCE_MSG,\n",
            "/usr/local/lib/python3.7/dist-packages/sklearn/linear_model/_logistic.py:818: ConvergenceWarning: lbfgs failed to converge (status=1):\n",
            "STOP: TOTAL NO. of ITERATIONS REACHED LIMIT.\n",
            "\n",
            "Increase the number of iterations (max_iter) or scale the data as shown in:\n",
            "    https://scikit-learn.org/stable/modules/preprocessing.html\n",
            "Please also refer to the documentation for alternative solver options:\n",
            "    https://scikit-learn.org/stable/modules/linear_model.html#logistic-regression\n",
            "  extra_warning_msg=_LOGISTIC_SOLVER_CONVERGENCE_MSG,\n",
            "/usr/local/lib/python3.7/dist-packages/sklearn/linear_model/_logistic.py:818: ConvergenceWarning: lbfgs failed to converge (status=1):\n",
            "STOP: TOTAL NO. of ITERATIONS REACHED LIMIT.\n",
            "\n",
            "Increase the number of iterations (max_iter) or scale the data as shown in:\n",
            "    https://scikit-learn.org/stable/modules/preprocessing.html\n",
            "Please also refer to the documentation for alternative solver options:\n",
            "    https://scikit-learn.org/stable/modules/linear_model.html#logistic-regression\n",
            "  extra_warning_msg=_LOGISTIC_SOLVER_CONVERGENCE_MSG,\n",
            "/usr/local/lib/python3.7/dist-packages/sklearn/linear_model/_logistic.py:818: ConvergenceWarning: lbfgs failed to converge (status=1):\n",
            "STOP: TOTAL NO. of ITERATIONS REACHED LIMIT.\n",
            "\n",
            "Increase the number of iterations (max_iter) or scale the data as shown in:\n",
            "    https://scikit-learn.org/stable/modules/preprocessing.html\n",
            "Please also refer to the documentation for alternative solver options:\n",
            "    https://scikit-learn.org/stable/modules/linear_model.html#logistic-regression\n",
            "  extra_warning_msg=_LOGISTIC_SOLVER_CONVERGENCE_MSG,\n",
            "/usr/local/lib/python3.7/dist-packages/sklearn/linear_model/_logistic.py:818: ConvergenceWarning: lbfgs failed to converge (status=1):\n",
            "STOP: TOTAL NO. of ITERATIONS REACHED LIMIT.\n",
            "\n",
            "Increase the number of iterations (max_iter) or scale the data as shown in:\n",
            "    https://scikit-learn.org/stable/modules/preprocessing.html\n",
            "Please also refer to the documentation for alternative solver options:\n",
            "    https://scikit-learn.org/stable/modules/linear_model.html#logistic-regression\n",
            "  extra_warning_msg=_LOGISTIC_SOLVER_CONVERGENCE_MSG,\n",
            "/usr/local/lib/python3.7/dist-packages/sklearn/linear_model/_logistic.py:818: ConvergenceWarning: lbfgs failed to converge (status=1):\n",
            "STOP: TOTAL NO. of ITERATIONS REACHED LIMIT.\n",
            "\n",
            "Increase the number of iterations (max_iter) or scale the data as shown in:\n",
            "    https://scikit-learn.org/stable/modules/preprocessing.html\n",
            "Please also refer to the documentation for alternative solver options:\n",
            "    https://scikit-learn.org/stable/modules/linear_model.html#logistic-regression\n",
            "  extra_warning_msg=_LOGISTIC_SOLVER_CONVERGENCE_MSG,\n"
          ]
        }
      ]
    },
    {
      "cell_type": "code",
      "source": [
        "Scores=pd.DataFrame(Scores)"
      ],
      "metadata": {
        "id": "N8_j1rCE8uwG"
      },
      "execution_count": 33,
      "outputs": []
    },
    {
      "cell_type": "code",
      "source": [
        "averages=pd.DataFrame(averages,columns=['Averages'])"
      ],
      "metadata": {
        "id": "di-8myPK80fl"
      },
      "execution_count": 34,
      "outputs": []
    },
    {
      "cell_type": "code",
      "source": [
        "Algorithms=pd.DataFrame([\"Forest\",\"KNN\",\"GNB\",\"BNB\",\"Support\",\"Tree\",\"LR\"],columns=['Algorithms'])"
      ],
      "metadata": {
        "id": "h_1zKI9r9iMd"
      },
      "execution_count": 35,
      "outputs": []
    },
    {
      "cell_type": "code",
      "source": [
        "pd.concat([pd.concat([Algorithms,Scores],axis=1),averages],axis=1)"
      ],
      "metadata": {
        "colab": {
          "base_uri": "https://localhost:8080/",
          "height": 269
        },
        "id": "yFSZSDgB-FTn",
        "outputId": "00d88730-4705-4b8e-8533-fb97f3b300af"
      },
      "execution_count": 36,
      "outputs": [
        {
          "output_type": "execute_result",
          "data": {
            "text/html": [
              "\n",
              "  <div id=\"df-fbc1665d-47d8-4124-afc8-c5af95e12017\">\n",
              "    <div class=\"colab-df-container\">\n",
              "      <div>\n",
              "<style scoped>\n",
              "    .dataframe tbody tr th:only-of-type {\n",
              "        vertical-align: middle;\n",
              "    }\n",
              "\n",
              "    .dataframe tbody tr th {\n",
              "        vertical-align: top;\n",
              "    }\n",
              "\n",
              "    .dataframe thead th {\n",
              "        text-align: right;\n",
              "    }\n",
              "</style>\n",
              "<table border=\"1\" class=\"dataframe\">\n",
              "  <thead>\n",
              "    <tr style=\"text-align: right;\">\n",
              "      <th></th>\n",
              "      <th>Algorithms</th>\n",
              "      <th>0</th>\n",
              "      <th>1</th>\n",
              "      <th>2</th>\n",
              "      <th>3</th>\n",
              "      <th>4</th>\n",
              "      <th>5</th>\n",
              "      <th>6</th>\n",
              "      <th>7</th>\n",
              "      <th>8</th>\n",
              "      <th>9</th>\n",
              "      <th>Averages</th>\n",
              "    </tr>\n",
              "  </thead>\n",
              "  <tbody>\n",
              "    <tr>\n",
              "      <th>0</th>\n",
              "      <td>Forest</td>\n",
              "      <td>0.970588</td>\n",
              "      <td>0.970588</td>\n",
              "      <td>0.843137</td>\n",
              "      <td>0.676471</td>\n",
              "      <td>0.712871</td>\n",
              "      <td>0.930693</td>\n",
              "      <td>0.831683</td>\n",
              "      <td>0.792079</td>\n",
              "      <td>0.782178</td>\n",
              "      <td>0.851485</td>\n",
              "      <td>0.836177</td>\n",
              "    </tr>\n",
              "    <tr>\n",
              "      <th>1</th>\n",
              "      <td>KNN</td>\n",
              "      <td>0.598039</td>\n",
              "      <td>0.607843</td>\n",
              "      <td>0.549020</td>\n",
              "      <td>0.529412</td>\n",
              "      <td>0.514851</td>\n",
              "      <td>0.653465</td>\n",
              "      <td>0.564356</td>\n",
              "      <td>0.534653</td>\n",
              "      <td>0.584158</td>\n",
              "      <td>0.504950</td>\n",
              "      <td>0.564075</td>\n",
              "    </tr>\n",
              "    <tr>\n",
              "      <th>2</th>\n",
              "      <td>GNB</td>\n",
              "      <td>0.549020</td>\n",
              "      <td>0.627451</td>\n",
              "      <td>0.558824</td>\n",
              "      <td>0.588235</td>\n",
              "      <td>0.623762</td>\n",
              "      <td>0.643564</td>\n",
              "      <td>0.613861</td>\n",
              "      <td>0.564356</td>\n",
              "      <td>0.584158</td>\n",
              "      <td>0.643564</td>\n",
              "      <td>0.599680</td>\n",
              "    </tr>\n",
              "    <tr>\n",
              "      <th>3</th>\n",
              "      <td>BNB</td>\n",
              "      <td>0.392157</td>\n",
              "      <td>0.392157</td>\n",
              "      <td>0.401961</td>\n",
              "      <td>0.401961</td>\n",
              "      <td>0.405941</td>\n",
              "      <td>0.405941</td>\n",
              "      <td>0.405941</td>\n",
              "      <td>0.405941</td>\n",
              "      <td>0.396040</td>\n",
              "      <td>0.396040</td>\n",
              "      <td>0.400408</td>\n",
              "    </tr>\n",
              "    <tr>\n",
              "      <th>4</th>\n",
              "      <td>Support</td>\n",
              "      <td>0.862745</td>\n",
              "      <td>0.862745</td>\n",
              "      <td>0.764706</td>\n",
              "      <td>0.735294</td>\n",
              "      <td>0.633663</td>\n",
              "      <td>0.801980</td>\n",
              "      <td>0.792079</td>\n",
              "      <td>0.693069</td>\n",
              "      <td>0.693069</td>\n",
              "      <td>0.801980</td>\n",
              "      <td>0.764133</td>\n",
              "    </tr>\n",
              "    <tr>\n",
              "      <th>5</th>\n",
              "      <td>Tree</td>\n",
              "      <td>0.970588</td>\n",
              "      <td>0.950980</td>\n",
              "      <td>0.843137</td>\n",
              "      <td>0.607843</td>\n",
              "      <td>0.574257</td>\n",
              "      <td>0.930693</td>\n",
              "      <td>0.831683</td>\n",
              "      <td>0.752475</td>\n",
              "      <td>0.792079</td>\n",
              "      <td>0.851485</td>\n",
              "      <td>0.810522</td>\n",
              "    </tr>\n",
              "    <tr>\n",
              "      <th>6</th>\n",
              "      <td>LR</td>\n",
              "      <td>0.627451</td>\n",
              "      <td>0.637255</td>\n",
              "      <td>0.558824</td>\n",
              "      <td>0.598039</td>\n",
              "      <td>0.524752</td>\n",
              "      <td>0.504950</td>\n",
              "      <td>0.544554</td>\n",
              "      <td>0.425743</td>\n",
              "      <td>0.524752</td>\n",
              "      <td>0.623762</td>\n",
              "      <td>0.557008</td>\n",
              "    </tr>\n",
              "  </tbody>\n",
              "</table>\n",
              "</div>\n",
              "      <button class=\"colab-df-convert\" onclick=\"convertToInteractive('df-fbc1665d-47d8-4124-afc8-c5af95e12017')\"\n",
              "              title=\"Convert this dataframe to an interactive table.\"\n",
              "              style=\"display:none;\">\n",
              "        \n",
              "  <svg xmlns=\"http://www.w3.org/2000/svg\" height=\"24px\"viewBox=\"0 0 24 24\"\n",
              "       width=\"24px\">\n",
              "    <path d=\"M0 0h24v24H0V0z\" fill=\"none\"/>\n",
              "    <path d=\"M18.56 5.44l.94 2.06.94-2.06 2.06-.94-2.06-.94-.94-2.06-.94 2.06-2.06.94zm-11 1L8.5 8.5l.94-2.06 2.06-.94-2.06-.94L8.5 2.5l-.94 2.06-2.06.94zm10 10l.94 2.06.94-2.06 2.06-.94-2.06-.94-.94-2.06-.94 2.06-2.06.94z\"/><path d=\"M17.41 7.96l-1.37-1.37c-.4-.4-.92-.59-1.43-.59-.52 0-1.04.2-1.43.59L10.3 9.45l-7.72 7.72c-.78.78-.78 2.05 0 2.83L4 21.41c.39.39.9.59 1.41.59.51 0 1.02-.2 1.41-.59l7.78-7.78 2.81-2.81c.8-.78.8-2.07 0-2.86zM5.41 20L4 18.59l7.72-7.72 1.47 1.35L5.41 20z\"/>\n",
              "  </svg>\n",
              "      </button>\n",
              "      \n",
              "  <style>\n",
              "    .colab-df-container {\n",
              "      display:flex;\n",
              "      flex-wrap:wrap;\n",
              "      gap: 12px;\n",
              "    }\n",
              "\n",
              "    .colab-df-convert {\n",
              "      background-color: #E8F0FE;\n",
              "      border: none;\n",
              "      border-radius: 50%;\n",
              "      cursor: pointer;\n",
              "      display: none;\n",
              "      fill: #1967D2;\n",
              "      height: 32px;\n",
              "      padding: 0 0 0 0;\n",
              "      width: 32px;\n",
              "    }\n",
              "\n",
              "    .colab-df-convert:hover {\n",
              "      background-color: #E2EBFA;\n",
              "      box-shadow: 0px 1px 2px rgba(60, 64, 67, 0.3), 0px 1px 3px 1px rgba(60, 64, 67, 0.15);\n",
              "      fill: #174EA6;\n",
              "    }\n",
              "\n",
              "    [theme=dark] .colab-df-convert {\n",
              "      background-color: #3B4455;\n",
              "      fill: #D2E3FC;\n",
              "    }\n",
              "\n",
              "    [theme=dark] .colab-df-convert:hover {\n",
              "      background-color: #434B5C;\n",
              "      box-shadow: 0px 1px 3px 1px rgba(0, 0, 0, 0.15);\n",
              "      filter: drop-shadow(0px 1px 2px rgba(0, 0, 0, 0.3));\n",
              "      fill: #FFFFFF;\n",
              "    }\n",
              "  </style>\n",
              "\n",
              "      <script>\n",
              "        const buttonEl =\n",
              "          document.querySelector('#df-fbc1665d-47d8-4124-afc8-c5af95e12017 button.colab-df-convert');\n",
              "        buttonEl.style.display =\n",
              "          google.colab.kernel.accessAllowed ? 'block' : 'none';\n",
              "\n",
              "        async function convertToInteractive(key) {\n",
              "          const element = document.querySelector('#df-fbc1665d-47d8-4124-afc8-c5af95e12017');\n",
              "          const dataTable =\n",
              "            await google.colab.kernel.invokeFunction('convertToInteractive',\n",
              "                                                     [key], {});\n",
              "          if (!dataTable) return;\n",
              "\n",
              "          const docLinkHtml = 'Like what you see? Visit the ' +\n",
              "            '<a target=\"_blank\" href=https://colab.research.google.com/notebooks/data_table.ipynb>data table notebook</a>'\n",
              "            + ' to learn more about interactive tables.';\n",
              "          element.innerHTML = '';\n",
              "          dataTable['output_type'] = 'display_data';\n",
              "          await google.colab.output.renderOutput(dataTable, element);\n",
              "          const docLink = document.createElement('div');\n",
              "          docLink.innerHTML = docLinkHtml;\n",
              "          element.appendChild(docLink);\n",
              "        }\n",
              "      </script>\n",
              "    </div>\n",
              "  </div>\n",
              "  "
            ],
            "text/plain": [
              "  Algorithms         0         1  ...         8         9  Averages\n",
              "0     Forest  0.970588  0.970588  ...  0.782178  0.851485  0.836177\n",
              "1        KNN  0.598039  0.607843  ...  0.584158  0.504950  0.564075\n",
              "2        GNB  0.549020  0.627451  ...  0.584158  0.643564  0.599680\n",
              "3        BNB  0.392157  0.392157  ...  0.396040  0.396040  0.400408\n",
              "4    Support  0.862745  0.862745  ...  0.693069  0.801980  0.764133\n",
              "5       Tree  0.970588  0.950980  ...  0.792079  0.851485  0.810522\n",
              "6         LR  0.627451  0.637255  ...  0.524752  0.623762  0.557008\n",
              "\n",
              "[7 rows x 12 columns]"
            ]
          },
          "metadata": {},
          "execution_count": 36
        }
      ]
    },
    {
      "cell_type": "code",
      "source": [
        "Table=pd.concat([pd.concat([Algorithms,Scores],axis=1),averages],axis=1)"
      ],
      "metadata": {
        "id": "yrS-Wr2M-Upf"
      },
      "execution_count": 37,
      "outputs": []
    },
    {
      "cell_type": "code",
      "source": [
        "average=list(Table['Averages'])"
      ],
      "metadata": {
        "id": "3XoHqzBs-91K"
      },
      "execution_count": 38,
      "outputs": []
    },
    {
      "cell_type": "code",
      "source": [
        "algo_best=Algorithm_name[average.index(max(average))]"
      ],
      "metadata": {
        "id": "sZjvTdmq_Vl_"
      },
      "execution_count": 39,
      "outputs": []
    },
    {
      "cell_type": "code",
      "source": [
        "xtrain,xtest,ytrain,ytest=train_test_split(x,y,test_size=0.15,random_state=1)"
      ],
      "metadata": {
        "id": "VmehPS9P_TO2"
      },
      "execution_count": 40,
      "outputs": []
    },
    {
      "cell_type": "code",
      "source": [
        "algo_best.fit(xtrain,ytrain)"
      ],
      "metadata": {
        "colab": {
          "base_uri": "https://localhost:8080/"
        },
        "id": "nyo6rGpcA-Gz",
        "outputId": "6ef1da7b-4b49-4a0e-8bdf-fb0757c3e534"
      },
      "execution_count": 41,
      "outputs": [
        {
          "output_type": "execute_result",
          "data": {
            "text/plain": [
              "RandomForestClassifier(n_estimators=20)"
            ]
          },
          "metadata": {},
          "execution_count": 41
        }
      ]
    },
    {
      "cell_type": "code",
      "source": [
        "algo_best.score(x,y)"
      ],
      "metadata": {
        "colab": {
          "base_uri": "https://localhost:8080/"
        },
        "id": "durNsT1OBLit",
        "outputId": "c44b1d6b-38cc-4cc1-b12c-bca4bc3c451c"
      },
      "execution_count": 42,
      "outputs": [
        {
          "output_type": "execute_result",
          "data": {
            "text/plain": [
              "0.9142011834319527"
            ]
          },
          "metadata": {},
          "execution_count": 42
        }
      ]
    },
    {
      "cell_type": "code",
      "source": [
        "from sklearn.ensemble import StackingClassifier"
      ],
      "metadata": {
        "id": "DTgUJLCyBTCv"
      },
      "execution_count": 43,
      "outputs": []
    },
    {
      "cell_type": "code",
      "source": [
        "Algorithm_name=[(\"Tree\",Tree),(\"KNN\",KNN),(\"LR\",LR),(\"Forest\",Forest),(\"SVM\",Support),(\"GNB\",GNB),(\"BNB\",BNB)]\n",
        "Stacking=StackingClassifier(estimators=Algorithm_name,final_estimator=LR)"
      ],
      "metadata": {
        "id": "0xz3YKqaBs_4"
      },
      "execution_count": 44,
      "outputs": []
    },
    {
      "cell_type": "code",
      "source": [
        "Stacking.fit(xtrain,ytrain)"
      ],
      "metadata": {
        "colab": {
          "base_uri": "https://localhost:8080/"
        },
        "id": "lwzaUUCMCEqG",
        "outputId": "c59c1366-6da0-42db-eba6-dcfa1ffed2ed"
      },
      "execution_count": 45,
      "outputs": [
        {
          "output_type": "stream",
          "name": "stderr",
          "text": [
            "/usr/local/lib/python3.7/dist-packages/sklearn/linear_model/_logistic.py:818: ConvergenceWarning: lbfgs failed to converge (status=1):\n",
            "STOP: TOTAL NO. of ITERATIONS REACHED LIMIT.\n",
            "\n",
            "Increase the number of iterations (max_iter) or scale the data as shown in:\n",
            "    https://scikit-learn.org/stable/modules/preprocessing.html\n",
            "Please also refer to the documentation for alternative solver options:\n",
            "    https://scikit-learn.org/stable/modules/linear_model.html#logistic-regression\n",
            "  extra_warning_msg=_LOGISTIC_SOLVER_CONVERGENCE_MSG,\n",
            "/usr/local/lib/python3.7/dist-packages/sklearn/linear_model/_logistic.py:818: ConvergenceWarning: lbfgs failed to converge (status=1):\n",
            "STOP: TOTAL NO. of ITERATIONS REACHED LIMIT.\n",
            "\n",
            "Increase the number of iterations (max_iter) or scale the data as shown in:\n",
            "    https://scikit-learn.org/stable/modules/preprocessing.html\n",
            "Please also refer to the documentation for alternative solver options:\n",
            "    https://scikit-learn.org/stable/modules/linear_model.html#logistic-regression\n",
            "  extra_warning_msg=_LOGISTIC_SOLVER_CONVERGENCE_MSG,\n",
            "/usr/local/lib/python3.7/dist-packages/sklearn/linear_model/_logistic.py:818: ConvergenceWarning: lbfgs failed to converge (status=1):\n",
            "STOP: TOTAL NO. of ITERATIONS REACHED LIMIT.\n",
            "\n",
            "Increase the number of iterations (max_iter) or scale the data as shown in:\n",
            "    https://scikit-learn.org/stable/modules/preprocessing.html\n",
            "Please also refer to the documentation for alternative solver options:\n",
            "    https://scikit-learn.org/stable/modules/linear_model.html#logistic-regression\n",
            "  extra_warning_msg=_LOGISTIC_SOLVER_CONVERGENCE_MSG,\n",
            "/usr/local/lib/python3.7/dist-packages/sklearn/linear_model/_logistic.py:818: ConvergenceWarning: lbfgs failed to converge (status=1):\n",
            "STOP: TOTAL NO. of ITERATIONS REACHED LIMIT.\n",
            "\n",
            "Increase the number of iterations (max_iter) or scale the data as shown in:\n",
            "    https://scikit-learn.org/stable/modules/preprocessing.html\n",
            "Please also refer to the documentation for alternative solver options:\n",
            "    https://scikit-learn.org/stable/modules/linear_model.html#logistic-regression\n",
            "  extra_warning_msg=_LOGISTIC_SOLVER_CONVERGENCE_MSG,\n",
            "/usr/local/lib/python3.7/dist-packages/sklearn/linear_model/_logistic.py:818: ConvergenceWarning: lbfgs failed to converge (status=1):\n",
            "STOP: TOTAL NO. of ITERATIONS REACHED LIMIT.\n",
            "\n",
            "Increase the number of iterations (max_iter) or scale the data as shown in:\n",
            "    https://scikit-learn.org/stable/modules/preprocessing.html\n",
            "Please also refer to the documentation for alternative solver options:\n",
            "    https://scikit-learn.org/stable/modules/linear_model.html#logistic-regression\n",
            "  extra_warning_msg=_LOGISTIC_SOLVER_CONVERGENCE_MSG,\n",
            "/usr/local/lib/python3.7/dist-packages/sklearn/linear_model/_logistic.py:818: ConvergenceWarning: lbfgs failed to converge (status=1):\n",
            "STOP: TOTAL NO. of ITERATIONS REACHED LIMIT.\n",
            "\n",
            "Increase the number of iterations (max_iter) or scale the data as shown in:\n",
            "    https://scikit-learn.org/stable/modules/preprocessing.html\n",
            "Please also refer to the documentation for alternative solver options:\n",
            "    https://scikit-learn.org/stable/modules/linear_model.html#logistic-regression\n",
            "  extra_warning_msg=_LOGISTIC_SOLVER_CONVERGENCE_MSG,\n",
            "/usr/local/lib/python3.7/dist-packages/sklearn/linear_model/_logistic.py:818: ConvergenceWarning: lbfgs failed to converge (status=1):\n",
            "STOP: TOTAL NO. of ITERATIONS REACHED LIMIT.\n",
            "\n",
            "Increase the number of iterations (max_iter) or scale the data as shown in:\n",
            "    https://scikit-learn.org/stable/modules/preprocessing.html\n",
            "Please also refer to the documentation for alternative solver options:\n",
            "    https://scikit-learn.org/stable/modules/linear_model.html#logistic-regression\n",
            "  extra_warning_msg=_LOGISTIC_SOLVER_CONVERGENCE_MSG,\n"
          ]
        },
        {
          "output_type": "execute_result",
          "data": {
            "text/plain": [
              "StackingClassifier(estimators=[('Tree', DecisionTreeClassifier()),\n",
              "                               ('KNN', KNeighborsClassifier(n_neighbors=115)),\n",
              "                               ('LR', LogisticRegression()),\n",
              "                               ('Forest',\n",
              "                                RandomForestClassifier(n_estimators=20)),\n",
              "                               ('SVM', SVC(gamma='auto')),\n",
              "                               ('GNB', GaussianNB()), ('BNB', BernoulliNB())],\n",
              "                   final_estimator=LogisticRegression())"
            ]
          },
          "metadata": {},
          "execution_count": 45
        }
      ]
    },
    {
      "cell_type": "code",
      "source": [
        "Stacking.score(x,y)"
      ],
      "metadata": {
        "colab": {
          "base_uri": "https://localhost:8080/"
        },
        "id": "7AHe-a0CDUp5",
        "outputId": "86b14539-1a49-4d3f-98ca-280617cc6b42"
      },
      "execution_count": 46,
      "outputs": [
        {
          "output_type": "execute_result",
          "data": {
            "text/plain": [
              "0.9161735700197239"
            ]
          },
          "metadata": {},
          "execution_count": 46
        }
      ]
    },
    {
      "cell_type": "code",
      "source": [
        "pred=Stacking.predict(xtest)"
      ],
      "metadata": {
        "id": "gcmZASVvEILm"
      },
      "execution_count": 47,
      "outputs": []
    },
    {
      "cell_type": "code",
      "source": [
        "xtest.shape"
      ],
      "metadata": {
        "colab": {
          "base_uri": "https://localhost:8080/"
        },
        "id": "wgOSTWMtFVqP",
        "outputId": "b787e530-c673-4e37-f0ee-d89b4150cc49"
      },
      "execution_count": 48,
      "outputs": [
        {
          "output_type": "execute_result",
          "data": {
            "text/plain": [
              "(153, 5)"
            ]
          },
          "metadata": {},
          "execution_count": 48
        }
      ]
    },
    {
      "cell_type": "code",
      "source": [
        "from sklearn.metrics import confusion_matrix,classification_report\n",
        "sns.heatmap(confusion_matrix(ytest,pred),annot=True,fmt='d')"
      ],
      "metadata": {
        "colab": {
          "base_uri": "https://localhost:8080/",
          "height": 282
        },
        "id": "YAMylMVwEyhV",
        "outputId": "0b9c07c1-156d-4dc9-ae16-cf3eb8374dac"
      },
      "execution_count": 49,
      "outputs": [
        {
          "output_type": "execute_result",
          "data": {
            "text/plain": [
              "<matplotlib.axes._subplots.AxesSubplot at 0x7fe8001f0450>"
            ]
          },
          "metadata": {},
          "execution_count": 49
        },
        {
          "output_type": "display_data",
          "data": {
            "image/png": "[encoded data removed]",
            "text/plain": [
              "<Figure size 432x288 with 2 Axes>"
            ]
          },
          "metadata": {
            "needs_background": "light"
          }
        }
      ]
    },
    {
      "cell_type": "code",
      "source": [
        "pd.Series(ytest).value_counts()"
      ],
      "metadata": {
        "colab": {
          "base_uri": "https://localhost:8080/"
        },
        "id": "nh0_HcZEFEdG",
        "outputId": "9dc5dbe1-230c-486d-a73b-9767998785c9"
      },
      "execution_count": 50,
      "outputs": [
        {
          "output_type": "execute_result",
          "data": {
            "text/plain": [
              "0    61\n",
              "1    48\n",
              "2    44\n",
              "Name: RiskLevel, dtype: int64"
            ]
          },
          "metadata": {},
          "execution_count": 50
        }
      ]
    },
    {
      "cell_type": "code",
      "source": [
        "print(classification_report(ytest,pred))"
      ],
      "metadata": {
        "colab": {
          "base_uri": "https://localhost:8080/"
        },
        "id": "kxXB88bJIKWA",
        "outputId": "1bb10964-f85a-4d99-f159-d0b7784b832a"
      },
      "execution_count": 51,
      "outputs": [
        {
          "output_type": "stream",
          "name": "stdout",
          "text": [
            "              precision    recall  f1-score   support\n",
            "\n",
            "           0       0.92      0.89      0.90        61\n",
            "           1       0.82      0.88      0.85        48\n",
            "           2       0.95      0.93      0.94        44\n",
            "\n",
            "    accuracy                           0.90       153\n",
            "   macro avg       0.90      0.90      0.90       153\n",
            "weighted avg       0.90      0.90      0.90       153\n",
            "\n"
          ]
        }
      ]
    },
    {
      "cell_type": "code",
      "source": [
        "Column_names=[\"Age\",\"SystolicBP\",\"DiastolicBP\",\"BS\",\"HeartRate\"]"
      ],
      "metadata": {
        "id": "c9Crr2gnIRt6"
      },
      "execution_count": 52,
      "outputs": []
    },
    {
      "cell_type": "code",
      "source": [
        "xtest"
      ],
      "metadata": {
        "colab": {
          "base_uri": "https://localhost:8080/",
          "height": 424
        },
        "id": "bMrOIclzLP6l",
        "outputId": "92c31c33-7b33-44c8-97ad-53b2deb57cdf"
      },
      "execution_count": 53,
      "outputs": [
        {
          "output_type": "execute_result",
          "data": {
            "text/html": [
              "\n",
              "  <div id=\"df-351f9e11-a688-4288-9435-903fa21eba61\">\n",
              "    <div class=\"colab-df-container\">\n",
              "      <div>\n",
              "<style scoped>\n",
              "    .dataframe tbody tr th:only-of-type {\n",
              "        vertical-align: middle;\n",
              "    }\n",
              "\n",
              "    .dataframe tbody tr th {\n",
              "        vertical-align: top;\n",
              "    }\n",
              "\n",
              "    .dataframe thead th {\n",
              "        text-align: right;\n",
              "    }\n",
              "</style>\n",
              "<table border=\"1\" class=\"dataframe\">\n",
              "  <thead>\n",
              "    <tr style=\"text-align: right;\">\n",
              "      <th></th>\n",
              "      <th>Age</th>\n",
              "      <th>SystolicBP</th>\n",
              "      <th>DiastolicBP</th>\n",
              "      <th>BS</th>\n",
              "      <th>HeartRate</th>\n",
              "    </tr>\n",
              "  </thead>\n",
              "  <tbody>\n",
              "    <tr>\n",
              "      <th>919</th>\n",
              "      <td>19</td>\n",
              "      <td>90</td>\n",
              "      <td>70</td>\n",
              "      <td>7.5</td>\n",
              "      <td>80</td>\n",
              "    </tr>\n",
              "    <tr>\n",
              "      <th>619</th>\n",
              "      <td>29</td>\n",
              "      <td>130</td>\n",
              "      <td>70</td>\n",
              "      <td>7.5</td>\n",
              "      <td>78</td>\n",
              "    </tr>\n",
              "    <tr>\n",
              "      <th>293</th>\n",
              "      <td>23</td>\n",
              "      <td>120</td>\n",
              "      <td>80</td>\n",
              "      <td>7.7</td>\n",
              "      <td>70</td>\n",
              "    </tr>\n",
              "    <tr>\n",
              "      <th>507</th>\n",
              "      <td>18</td>\n",
              "      <td>120</td>\n",
              "      <td>80</td>\n",
              "      <td>7.9</td>\n",
              "      <td>76</td>\n",
              "    </tr>\n",
              "    <tr>\n",
              "      <th>974</th>\n",
              "      <td>33</td>\n",
              "      <td>120</td>\n",
              "      <td>75</td>\n",
              "      <td>10.0</td>\n",
              "      <td>70</td>\n",
              "    </tr>\n",
              "    <tr>\n",
              "      <th>...</th>\n",
              "      <td>...</td>\n",
              "      <td>...</td>\n",
              "      <td>...</td>\n",
              "      <td>...</td>\n",
              "      <td>...</td>\n",
              "    </tr>\n",
              "    <tr>\n",
              "      <th>573</th>\n",
              "      <td>42</td>\n",
              "      <td>120</td>\n",
              "      <td>80</td>\n",
              "      <td>7.5</td>\n",
              "      <td>70</td>\n",
              "    </tr>\n",
              "    <tr>\n",
              "      <th>482</th>\n",
              "      <td>50</td>\n",
              "      <td>140</td>\n",
              "      <td>95</td>\n",
              "      <td>17.0</td>\n",
              "      <td>60</td>\n",
              "    </tr>\n",
              "    <tr>\n",
              "      <th>823</th>\n",
              "      <td>29</td>\n",
              "      <td>130</td>\n",
              "      <td>70</td>\n",
              "      <td>7.5</td>\n",
              "      <td>78</td>\n",
              "    </tr>\n",
              "    <tr>\n",
              "      <th>473</th>\n",
              "      <td>32</td>\n",
              "      <td>140</td>\n",
              "      <td>100</td>\n",
              "      <td>7.9</td>\n",
              "      <td>78</td>\n",
              "    </tr>\n",
              "    <tr>\n",
              "      <th>8</th>\n",
              "      <td>32</td>\n",
              "      <td>120</td>\n",
              "      <td>90</td>\n",
              "      <td>6.9</td>\n",
              "      <td>70</td>\n",
              "    </tr>\n",
              "  </tbody>\n",
              "</table>\n",
              "<p>153 rows × 5 columns</p>\n",
              "</div>\n",
              "      <button class=\"colab-df-convert\" onclick=\"convertToInteractive('df-351f9e11-a688-4288-9435-903fa21eba61')\"\n",
              "              title=\"Convert this dataframe to an interactive table.\"\n",
              "              style=\"display:none;\">\n",
              "        \n",
              "  <svg xmlns=\"http://www.w3.org/2000/svg\" height=\"24px\"viewBox=\"0 0 24 24\"\n",
              "       width=\"24px\">\n",
              "    <path d=\"M0 0h24v24H0V0z\" fill=\"none\"/>\n",
              "    <path d=\"M18.56 5.44l.94 2.06.94-2.06 2.06-.94-2.06-.94-.94-2.06-.94 2.06-2.06.94zm-11 1L8.5 8.5l.94-2.06 2.06-.94-2.06-.94L8.5 2.5l-.94 2.06-2.06.94zm10 10l.94 2.06.94-2.06 2.06-.94-2.06-.94-.94-2.06-.94 2.06-2.06.94z\"/><path d=\"M17.41 7.96l-1.37-1.37c-.4-.4-.92-.59-1.43-.59-.52 0-1.04.2-1.43.59L10.3 9.45l-7.72 7.72c-.78.78-.78 2.05 0 2.83L4 21.41c.39.39.9.59 1.41.59.51 0 1.02-.2 1.41-.59l7.78-7.78 2.81-2.81c.8-.78.8-2.07 0-2.86zM5.41 20L4 18.59l7.72-7.72 1.47 1.35L5.41 20z\"/>\n",
              "  </svg>\n",
              "      </button>\n",
              "      \n",
              "  <style>\n",
              "    .colab-df-container {\n",
              "      display:flex;\n",
              "      flex-wrap:wrap;\n",
              "      gap: 12px;\n",
              "    }\n",
              "\n",
              "    .colab-df-convert {\n",
              "      background-color: #E8F0FE;\n",
              "      border: none;\n",
              "      border-radius: 50%;\n",
              "      cursor: pointer;\n",
              "      display: none;\n",
              "      fill: #1967D2;\n",
              "      height: 32px;\n",
              "      padding: 0 0 0 0;\n",
              "      width: 32px;\n",
              "    }\n",
              "\n",
              "    .colab-df-convert:hover {\n",
              "      background-color: #E2EBFA;\n",
              "      box-shadow: 0px 1px 2px rgba(60, 64, 67, 0.3), 0px 1px 3px 1px rgba(60, 64, 67, 0.15);\n",
              "      fill: #174EA6;\n",
              "    }\n",
              "\n",
              "    [theme=dark] .colab-df-convert {\n",
              "      background-color: #3B4455;\n",
              "      fill: #D2E3FC;\n",
              "    }\n",
              "\n",
              "    [theme=dark] .colab-df-convert:hover {\n",
              "      background-color: #434B5C;\n",
              "      box-shadow: 0px 1px 3px 1px rgba(0, 0, 0, 0.15);\n",
              "      filter: drop-shadow(0px 1px 2px rgba(0, 0, 0, 0.3));\n",
              "      fill: #FFFFFF;\n",
              "    }\n",
              "  </style>\n",
              "\n",
              "      <script>\n",
              "        const buttonEl =\n",
              "          document.querySelector('#df-351f9e11-a688-4288-9435-903fa21eba61 button.colab-df-convert');\n",
              "        buttonEl.style.display =\n",
              "          google.colab.kernel.accessAllowed ? 'block' : 'none';\n",
              "\n",
              "        async function convertToInteractive(key) {\n",
              "          const element = document.querySelector('#df-351f9e11-a688-4288-9435-903fa21eba61');\n",
              "          const dataTable =\n",
              "            await google.colab.kernel.invokeFunction('convertToInteractive',\n",
              "                                                     [key], {});\n",
              "          if (!dataTable) return;\n",
              "\n",
              "          const docLinkHtml = 'Like what you see? Visit the ' +\n",
              "            '<a target=\"_blank\" href=https://colab.research.google.com/notebooks/data_table.ipynb>data table notebook</a>'\n",
              "            + ' to learn more about interactive tables.';\n",
              "          element.innerHTML = '';\n",
              "          dataTable['output_type'] = 'display_data';\n",
              "          await google.colab.output.renderOutput(dataTable, element);\n",
              "          const docLink = document.createElement('div');\n",
              "          docLink.innerHTML = docLinkHtml;\n",
              "          element.appendChild(docLink);\n",
              "        }\n",
              "      </script>\n",
              "    </div>\n",
              "  </div>\n",
              "  "
            ],
            "text/plain": [
              "     Age  SystolicBP  DiastolicBP    BS  HeartRate\n",
              "919   19          90           70   7.5         80\n",
              "619   29         130           70   7.5         78\n",
              "293   23         120           80   7.7         70\n",
              "507   18         120           80   7.9         76\n",
              "974   33         120           75  10.0         70\n",
              "..   ...         ...          ...   ...        ...\n",
              "573   42         120           80   7.5         70\n",
              "482   50         140           95  17.0         60\n",
              "823   29         130           70   7.5         78\n",
              "473   32         140          100   7.9         78\n",
              "8     32         120           90   6.9         70\n",
              "\n",
              "[153 rows x 5 columns]"
            ]
          },
          "metadata": {},
          "execution_count": 53
        }
      ]
    },
    {
      "cell_type": "code",
      "source": [
        "for_pred=[]"
      ],
      "metadata": {
        "id": "3fiXMorYIw7-"
      },
      "execution_count": 54,
      "outputs": []
    },
    {
      "cell_type": "code",
      "source": [
        "for i in Column_names:\n",
        "  item=input(f\"{i}:\")\n",
        "  for_pred.append(item)"
      ],
      "metadata": {
        "colab": {
          "base_uri": "https://localhost:8080/"
        },
        "id": "fSQNJvrkI1Yo",
        "outputId": "be9c648d-3850-4d09-ae5e-2e1c1b908ac8"
      },
      "execution_count": 55,
      "outputs": [
        {
          "name": "stdout",
          "output_type": "stream",
          "text": [
            "Age:18\n",
            "SystolicBP:120\n",
            "DiastolicBP:80\n",
            "BS:7.5\n",
            "HeartRate:65\n"
          ]
        }
      ]
    },
    {
      "cell_type": "code",
      "source": [
        "k=Stacking.predict([for_pred])\n",
        "if(k==2):\n",
        "  print(\"High Risk\")\n",
        "elif(k==1):\n",
        "  print('Mid Risk')\n",
        "else:\n",
        "  print(\"Low Risk\")"
      ],
      "metadata": {
        "colab": {
          "base_uri": "https://localhost:8080/"
        },
        "id": "fLhHKT1CJJ-D",
        "outputId": "f733b7fc-0176-417e-c222-20812604fb61"
      },
      "execution_count": 58,
      "outputs": [
        {
          "output_type": "stream",
          "name": "stdout",
          "text": [
            "Low Risk\n"
          ]
        },
        {
          "output_type": "stream",
          "name": "stderr",
          "text": [
            "/usr/local/lib/python3.7/dist-packages/sklearn/base.py:446: UserWarning: X does not have valid feature names, but DecisionTreeClassifier was fitted with feature names\n",
            "  \"X does not have valid feature names, but\"\n",
            "/usr/local/lib/python3.7/dist-packages/sklearn/base.py:446: UserWarning: X does not have valid feature names, but KNeighborsClassifier was fitted with feature names\n",
            "  \"X does not have valid feature names, but\"\n",
            "/usr/local/lib/python3.7/dist-packages/sklearn/base.py:561: FutureWarning: Arrays of bytes/strings is being converted to decimal numbers if dtype='numeric'. This behavior is deprecated in 0.24 and will be removed in 1.1 (renaming of 0.26). Please convert your data to numeric values explicitly instead.\n",
            "  X = check_array(X, **check_params)\n",
            "/usr/local/lib/python3.7/dist-packages/sklearn/base.py:446: UserWarning: X does not have valid feature names, but LogisticRegression was fitted with feature names\n",
            "  \"X does not have valid feature names, but\"\n",
            "/usr/local/lib/python3.7/dist-packages/sklearn/base.py:561: FutureWarning: Arrays of bytes/strings is being converted to decimal numbers if dtype='numeric'. This behavior is deprecated in 0.24 and will be removed in 1.1 (renaming of 0.26). Please convert your data to numeric values explicitly instead.\n",
            "  X = check_array(X, **check_params)\n",
            "/usr/local/lib/python3.7/dist-packages/sklearn/base.py:446: UserWarning: X does not have valid feature names, but RandomForestClassifier was fitted with feature names\n",
            "  \"X does not have valid feature names, but\"\n",
            "/usr/local/lib/python3.7/dist-packages/sklearn/base.py:446: UserWarning: X does not have valid feature names, but SVC was fitted with feature names\n",
            "  \"X does not have valid feature names, but\"\n",
            "/usr/local/lib/python3.7/dist-packages/sklearn/base.py:446: UserWarning: X does not have valid feature names, but GaussianNB was fitted with feature names\n",
            "  \"X does not have valid feature names, but\"\n",
            "/usr/local/lib/python3.7/dist-packages/sklearn/base.py:561: FutureWarning: Arrays of bytes/strings is being converted to decimal numbers if dtype='numeric'. This behavior is deprecated in 0.24 and will be removed in 1.1 (renaming of 0.26). Please convert your data to numeric values explicitly instead.\n",
            "  X = check_array(X, **check_params)\n",
            "/usr/local/lib/python3.7/dist-packages/sklearn/base.py:446: UserWarning: X does not have valid feature names, but BernoulliNB was fitted with feature names\n",
            "  \"X does not have valid feature names, but\"\n",
            "/usr/local/lib/python3.7/dist-packages/sklearn/base.py:561: FutureWarning: Arrays of bytes/strings is being converted to decimal numbers if dtype='numeric'. This behavior is deprecated in 0.24 and will be removed in 1.1 (renaming of 0.26). Please convert your data to numeric values explicitly instead.\n",
            "  X = check_array(X, **check_params)\n"
          ]
        }
      ]
    },
    {
      "cell_type": "code",
      "source": [
        "import pickle as pk"
      ],
      "metadata": {
        "id": "ue1VlHzWJd_E"
      },
      "execution_count": 59,
      "outputs": []
    },
    {
      "cell_type": "code",
      "source": [
        "pk.dump(Stacking,open('My_Model','wb'))"
      ],
      "metadata": {
        "id": "mMXlc3UYNIoT"
      },
      "execution_count": 60,
      "outputs": []
    },
    {
      "cell_type": "code",
      "source": [
        ""
      ],
      "metadata": {
        "id": "xAwysPfuNNiT"
      },
      "execution_count": null,
      "outputs": []
    }
  ]
}